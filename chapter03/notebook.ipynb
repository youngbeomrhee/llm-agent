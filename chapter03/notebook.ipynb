{
  "cells": [
    {
      "cell_type": "markdown",
      "metadata": {
        "id": "AdvPod0mb5Y_"
      },
      "source": [
        "# 3. 프롬프트 엔지니어링\n"
      ]
    },
    {
      "cell_type": "code",
      "execution_count": null,
      "metadata": {},
      "outputs": [],
      "source": [
        "!pip install load_dotenv"
      ]
    },
    {
      "cell_type": "code",
      "execution_count": null,
      "metadata": {},
      "outputs": [
        {
          "name": "stdout",
          "output_type": "stream",
          "text": [
            "Key length: 165\n"
          ]
        }
      ],
      "source": [
        "# dotenv로 설정\n",
        "import os\n",
        "from dotenv import load_dotenv\n",
        "\n",
        "load_dotenv()\n",
        "\n",
        "key = os.getenv(\"OPENAI_API_KEY\")\n",
        "print(\"Key length:\", len(key) if key else \"없음\")\n",
        "\n",
        "# os.environ[\"OPENAI_API_KEY\"] = os.getenv(\"OPENAI_API_KEY\")"
      ]
    },
    {
      "cell_type": "code",
      "execution_count": null,
      "metadata": {},
      "outputs": [],
      "source": [
        "from openai import OpenAI\n",
        "\n",
        "client = OpenAI(api_key=key.strip())\n",
        "\n",
        "try:\n",
        "    resp = client.models.list()\n",
        "    print(\"✅ 인증 성공:\", resp.data[0].id)\n",
        "except Exception as e:\n",
        "    print(\"❌ 에러:\", e)"
      ]
    },
    {
      "cell_type": "code",
      "execution_count": null,
      "metadata": {
        "id": "NMl_in8Yb5ZA"
      },
      "outputs": [],
      "source": [
        "# import os\n",
        "# from google.colab import userdata\n",
        "\n",
        "# os.environ[\"OPENAI_API_KEY\"] = userdata.get(\"OPENAI_API_KEY\")"
      ]
    },
    {
      "cell_type": "markdown",
      "metadata": {
        "id": "cuHyWJsrb5ZB"
      },
      "source": [
        "#### 【주의】알려진 오류에 대하여\n",
        "\n",
        "openai 패키지가 의존하는 httpx의 업데이트로 인해, `openai==1.40.6`을 사용하는 부분에서 `TypeError: Client.__init__() got an unexpected keyword argument 'proxies'`라는 오류가 발생하게 되었습니다.\n",
        "\n",
        "이 오류는 `!pip install httpx==0.27.2`와 같이 httpx의 특정 버전을 설치함으로써 회피할 수 있습니다.\n",
        "\n",
        "또한, Google Colab에서 한 번 위 오류를 만난 후 `!pip install httpx==0.27.2`와 같이 패키지를 다시 설치한 경우, 다음 중 하나의 작업을 수행해야 합니다.\n",
        "\n",
        "- Google Colab의 \"런타임\"에서 \"세션 재시작\"을 실행합니다\n",
        "- \"런타임 연결 해제 후 삭제\"를 실행하고 패키지 설치부터 다시 시작합니다"
      ]
    },
    {
      "cell_type": "code",
      "execution_count": 19,
      "metadata": {
        "id": "5hwg9ipzb5ZB"
      },
      "outputs": [
        {
          "name": "stdout",
          "output_type": "stream",
          "text": [
            "Requirement already satisfied: openai==1.40.6 in /Users/iyeongbeom/YB/Repository/study/llm-agent/.venv/lib/python3.12/site-packages (1.40.6)\n",
            "Requirement already satisfied: httpx==0.27.2 in /Users/iyeongbeom/YB/Repository/study/llm-agent/.venv/lib/python3.12/site-packages (0.27.2)\n",
            "Requirement already satisfied: anyio<5,>=3.5.0 in /Users/iyeongbeom/YB/Repository/study/llm-agent/.venv/lib/python3.12/site-packages (from openai==1.40.6) (4.10.0)\n",
            "Requirement already satisfied: distro<2,>=1.7.0 in /Users/iyeongbeom/YB/Repository/study/llm-agent/.venv/lib/python3.12/site-packages (from openai==1.40.6) (1.9.0)\n",
            "Requirement already satisfied: jiter<1,>=0.4.0 in /Users/iyeongbeom/YB/Repository/study/llm-agent/.venv/lib/python3.12/site-packages (from openai==1.40.6) (0.11.0)\n",
            "Requirement already satisfied: pydantic<3,>=1.9.0 in /Users/iyeongbeom/YB/Repository/study/llm-agent/.venv/lib/python3.12/site-packages (from openai==1.40.6) (2.11.9)\n",
            "Requirement already satisfied: sniffio in /Users/iyeongbeom/YB/Repository/study/llm-agent/.venv/lib/python3.12/site-packages (from openai==1.40.6) (1.3.1)\n",
            "Requirement already satisfied: tqdm>4 in /Users/iyeongbeom/YB/Repository/study/llm-agent/.venv/lib/python3.12/site-packages (from openai==1.40.6) (4.67.1)\n",
            "Requirement already satisfied: typing-extensions<5,>=4.11 in /Users/iyeongbeom/YB/Repository/study/llm-agent/.venv/lib/python3.12/site-packages (from openai==1.40.6) (4.15.0)\n",
            "Requirement already satisfied: certifi in /Users/iyeongbeom/YB/Repository/study/llm-agent/.venv/lib/python3.12/site-packages (from httpx==0.27.2) (2025.8.3)\n",
            "Requirement already satisfied: httpcore==1.* in /Users/iyeongbeom/YB/Repository/study/llm-agent/.venv/lib/python3.12/site-packages (from httpx==0.27.2) (1.0.9)\n",
            "Requirement already satisfied: idna in /Users/iyeongbeom/YB/Repository/study/llm-agent/.venv/lib/python3.12/site-packages (from httpx==0.27.2) (3.10)\n",
            "Requirement already satisfied: h11>=0.16 in /Users/iyeongbeom/YB/Repository/study/llm-agent/.venv/lib/python3.12/site-packages (from httpcore==1.*->httpx==0.27.2) (0.16.0)\n",
            "Requirement already satisfied: annotated-types>=0.6.0 in /Users/iyeongbeom/YB/Repository/study/llm-agent/.venv/lib/python3.12/site-packages (from pydantic<3,>=1.9.0->openai==1.40.6) (0.7.0)\n",
            "Requirement already satisfied: pydantic-core==2.33.2 in /Users/iyeongbeom/YB/Repository/study/llm-agent/.venv/lib/python3.12/site-packages (from pydantic<3,>=1.9.0->openai==1.40.6) (2.33.2)\n",
            "Requirement already satisfied: typing-inspection>=0.4.0 in /Users/iyeongbeom/YB/Repository/study/llm-agent/.venv/lib/python3.12/site-packages (from pydantic<3,>=1.9.0->openai==1.40.6) (0.4.1)\n"
          ]
        }
      ],
      "source": [
        "!pip install openai==1.40.6 httpx==0.27.2"
      ]
    },
    {
      "cell_type": "markdown",
      "metadata": {},
      "source": [
        "## 3.1 필요성\n",
        "\n",
        "“프롬프트 엔지니어링”으로 100% 동일한 결과를 기대할수는 없지만 실용적인 비율로 지시에 따르게 할 수 있음\n",
        "\n",
        "파인튜닝과 비교했을 때 비용 효율적"
      ]
    },
    {
      "cell_type": "markdown",
      "metadata": {
        "id": "V9l35yDPb5ZB"
      },
      "source": [
        "## 3.2. 프롬프트 엔지니어링\n",
        "\n",
        "프롬프트 엔지니어링의 요소\n",
        "\n",
        "- 프롬프트 설계: 모델에 적절한 지시를 제공하기 위한 문구나 구조를 고려\n",
        "- 지시의 명확화: 모델에 요구하는 정보나 태스크 내용을 최대한 명확하게 전달하는 방법을 모색\n",
        "- 피드백 루프: 출력 결과를 평가하고, 이를 바탕으로 프롬프트를 개선하는 과정을 반복"
      ]
    },
    {
      "cell_type": "code",
      "execution_count": null,
      "metadata": {
        "id": "9wUnFM_ib5ZC"
      },
      "outputs": [],
      "source": [
        "from openai import OpenAI\n",
        "\n",
        "client = OpenAI()\n",
        "\n",
        "response = client.chat.completions.create(\n",
        "    model=\"gpt-4o-mini\",\n",
        "    messages=[\n",
        "        {\"role\": \"user\", \"content\": \"프롬프트 엔지니어링이란\"},\n",
        "    ],\n",
        ")\n",
        "print(response.choices[0].message.content)"
      ]
    },
    {
      "cell_type": "code",
      "execution_count": null,
      "metadata": {
        "id": "m0ajdA2tb5ZC"
      },
      "outputs": [],
      "source": [
        "response = client.chat.completions.create(\n",
        "    model=\"gpt-4o-mini\",\n",
        "    messages=[\n",
        "        {\"role\": \"system\", \"content\": \"질문에 100글자 정도로 답변해 주세요.\"},\n",
        "        {\"role\": \"user\", \"content\": \"프롬프트 엔지니어링이란\"},\n",
        "    ],\n",
        ")\n",
        "print(response.choices[0].message.content)"
      ]
    },
    {
      "cell_type": "markdown",
      "metadata": {
        "id": "Ui6jqLy9b5ZC"
      },
      "source": [
        "## 3.3. 프롬프트의 기본 구성 요소\n"
      ]
    },
    {
      "cell_type": "markdown",
      "metadata": {
        "id": "hlYoEXTib5ZD"
      },
      "source": [
        "### 프롬프트의 템플릿화\n"
      ]
    },
    {
      "cell_type": "code",
      "execution_count": null,
      "metadata": {
        "id": "0XwZUyMhb5ZD"
      },
      "outputs": [],
      "source": [
        "prompt = '''\\\n",
        "다음 요리의 레시피를 생각해 주세요.\n",
        "\n",
        "요리명: \"\"\"\n",
        "{dish}\n",
        "\"\"\"\n",
        "'''\n",
        "\n",
        "\n",
        "def generate_recipe(dish: str) -> str:\n",
        "    response = client.chat.completions.create(\n",
        "        model=\"gpt-4o-mini\",\n",
        "        messages=[\n",
        "            {\"role\": \"user\", \"content\": prompt.format(dish=dish)},\n",
        "        ],\n",
        "    )\n",
        "    return response.choices[0].message.content\n",
        "\n",
        "\n",
        "recipe = generate_recipe(\"카레\")\n",
        "print(recipe)"
      ]
    },
    {
      "cell_type": "code",
      "execution_count": null,
      "metadata": {
        "id": "pi-uiHnAb5ZD"
      },
      "outputs": [],
      "source": [
        "prompt = \"\"\"\\\n",
        "사용자가 입력한 요리의 레시피를 생각해 주세요.\n",
        "\n",
        "요리명: '''\n",
        "{dish}\n",
        "'''\n",
        "\"\"\"\n",
        "\n",
        "\n",
        "def generate_recipe(dish: str) -> str:\n",
        "    response = client.chat.completions.create(\n",
        "        model=\"gpt-4o-mini\",\n",
        "        messages=[\n",
        "            {\"role\": \"system\", \"content\": \"사용자가 입력한 요리의 레시피를 생각해 주세요.\"},\n",
        "            {\"role\": \"user\", \"content\": f\"{dish}\"},\n",
        "        ],\n",
        "    )\n",
        "    return response.choices[0].message.content\n",
        "\n",
        "\n",
        "recipe = generate_recipe(\"카레\")\n",
        "print(recipe)"
      ]
    },
    {
      "cell_type": "markdown",
      "metadata": {
        "id": "VHU0T6Okb5ZD"
      },
      "source": [
        "### 출력 형식 지정하기\n"
      ]
    },
    {
      "cell_type": "code",
      "execution_count": null,
      "metadata": {
        "id": "NLlKzD1Yb5ZD"
      },
      "outputs": [],
      "source": [
        "system_prompt = \"\"\"\\\n",
        "사용자가 입력한 요리의 레시피를 생각해 주세요.。\n",
        "\n",
        "출력은 다음 JSON 형식으로 해주세요.\n",
        "\n",
        "```\n",
        "{\n",
        "  \"재료\": [\"재료1\", \"재료2\"],\n",
        "  \"순서\": [\"순서1\", \"순서2\"]\n",
        "}\n",
        "```\n",
        "\"\"\"\n",
        "\n",
        "response = client.chat.completions.create(\n",
        "    model=\"gpt-4o-mini\",\n",
        "    messages=[\n",
        "        {\"role\": \"system\", \"content\": system_prompt},\n",
        "        {\"role\": \"user\", \"content\": \"카레\"},\n",
        "    ],\n",
        ")\n",
        "print(response.choices[0].message.content)"
      ]
    },
    {
      "cell_type": "markdown",
      "metadata": {
        "id": "Pfde35eFb5ZD"
      },
      "source": [
        "## 3.4. 프롬프트 엔지니어링의 대표적인 기법\n"
      ]
    },
    {
      "cell_type": "markdown",
      "metadata": {
        "id": "kDOyln4Xb5ZE"
      },
      "source": [
        "### Zero-shot 프롬프팅\n"
      ]
    },
    {
      "cell_type": "code",
      "execution_count": null,
      "metadata": {
        "id": "cxTnszZ6b5ZE"
      },
      "outputs": [],
      "source": [
        "response = client.chat.completions.create(\n",
        "    model=\"gpt-4o-mini\",\n",
        "    messages=[\n",
        "        {\n",
        "            \"role\": \"system\",\n",
        "            \"content\": \"입력을 긍정적·부정적·중립 중 하나로 분류해 주세요.\",\n",
        "        },\n",
        "        {\n",
        "            \"role\": \"user\",\n",
        "            \"content\": \"ChatGPT는 매우 편리하다\",\n",
        "        },\n",
        "    ],\n",
        ")\n",
        "print(response.choices[0].message.content)"
      ]
    },
    {
      "cell_type": "markdown",
      "metadata": {
        "id": "bvNjRb9tb5ZE"
      },
      "source": [
        "### Few-shot 프롬프팅\n"
      ]
    },
    {
      "cell_type": "code",
      "execution_count": null,
      "metadata": {
        "id": "ADbt4t5Ub5ZE"
      },
      "outputs": [],
      "source": [
        "response = client.chat.completions.create(\n",
        "    model=\"gpt-4o-mini\",\n",
        "    messages=[\n",
        "        {\"role\": \"system\", \"content\": \"입력이 AI와 관련이 있는지 답변해 주세요.\"},\n",
        "        {\"role\": \"user\", \"content\": \"ChatGPT는 매우 편리하다\"},\n",
        "    ],\n",
        ")\n",
        "print(response.choices[0].message.content)"
      ]
    },
    {
      "cell_type": "code",
      "execution_count": null,
      "metadata": {
        "id": "7Q6fwyseb5ZE"
      },
      "outputs": [],
      "source": [
        "response = client.chat.completions.create(\n",
        "    model=\"gpt-4o-mini\",\n",
        "    messages=[\n",
        "        {\"role\": \"system\", \"content\": \"입력이 AI와 관련이 있는지 답변해 주세요.\"},\n",
        "        {\"role\": \"user\", \"content\": \"AI의 진화는 대단하다\"},\n",
        "        {\"role\": \"assistant\", \"content\": \"true\"},\n",
        "        {\"role\": \"user\", \"content\": \"오늘은 날씨가 좋다\"},\n",
        "        {\"role\": \"assistant\", \"content\": \"false\"},\n",
        "        {\"role\": \"user\", \"content\": \"ChatGPT는 매우 편리하다\"},\n",
        "    ],\n",
        ")\n",
        "print(response.choices[0].message.content)"
      ]
    },
    {
      "cell_type": "markdown",
      "metadata": {
        "id": "_hhQ73oDb5ZE"
      },
      "source": [
        "### (칼럼) Few-shot 프롬프팅의 다른 형식\n"
      ]
    },
    {
      "cell_type": "code",
      "execution_count": null,
      "metadata": {
        "id": "2Af7n69ab5ZE"
      },
      "outputs": [],
      "source": [
        "prompt = \"\"\"\\\n",
        "입력이 AI와 관련이 있는지 답변해 주세요.\n",
        "\n",
        "Q: AI의 진화는 대단하다\n",
        "A: true\n",
        "Q: 오늘은 날씨가 좋다\n",
        "A: false\n",
        "Q: ChatGPT는 매우 편리하다\n",
        "A:\n",
        "\"\"\"\n",
        "\n",
        "response = client.completions.create(\n",
        "    model=\"gpt-3.5-turbo-instruct\",\n",
        "    prompt=prompt,\n",
        ")\n",
        "print(response.choices[0].text)"
      ]
    },
    {
      "cell_type": "code",
      "execution_count": null,
      "metadata": {
        "id": "mtfG3wBLb5ZE"
      },
      "outputs": [],
      "source": [
        "response = client.chat.completions.create(\n",
        "    model=\"gpt-4o-mini\",\n",
        "    messages=[\n",
        "        {\"role\": \"system\", \"content\": \"입력이 AI와 관련이 있는지 답변해 주세요.\"},\n",
        "        {\"role\": \"system\", \"name\": \"example_user\", \"content\": \"AI의 진화는 대단하다\"},\n",
        "        {\"role\": \"system\", \"name\": \"example_assistant\", \"content\": \"true\"},\n",
        "        {\"role\": \"system\", \"name\": \"example_user\", \"content\": \"오늘은 날씨가 좋다\"},\n",
        "        {\"role\": \"system\", \"name\": \"example_assistant\", \"content\": \"false\"},\n",
        "        {\"role\": \"user\", \"content\": \"ChatGPT는 매우 편리하다\"},\n",
        "    ],\n",
        ")\n",
        "print(response.choices[0].message.content)"
      ]
    },
    {
      "cell_type": "markdown",
      "metadata": {
        "id": "ujVZdOm7b5ZF"
      },
      "source": [
        "### Zero-shot Chain-of-Thought 프롬프팅\n"
      ]
    },
    {
      "cell_type": "code",
      "execution_count": null,
      "metadata": {
        "id": "vvOpVcyGb5ZF"
      },
      "outputs": [],
      "source": [
        "response = client.chat.completions.create(\n",
        "    model=\"gpt-4o-mini\",\n",
        "    messages=[\n",
        "        {\"role\": \"system\", \"content\": \"답변만 한 마디로 출력해 주세요.\"},\n",
        "        {\"role\": \"user\", \"content\": \"10 + 2 * 3 - 4 * 2\"},\n",
        "    ],\n",
        ")\n",
        "print(response.choices[0].message.content)"
      ]
    },
    {
      "cell_type": "code",
      "execution_count": null,
      "metadata": {
        "id": "-LMR-4KPb5ZF"
      },
      "outputs": [],
      "source": [
        "response = client.chat.completions.create(\n",
        "    model=\"gpt-4o-mini\",\n",
        "    messages=[\n",
        "        {\"role\": \"system\", \"content\": \"단계별로 생각해 주세요.\"},\n",
        "        {\"role\": \"user\", \"content\": \"10 + 2 * 3 - 4 * 2\"},\n",
        "    ],\n",
        ")\n",
        "print(response.choices[0].message.content)"
      ]
    },
    {
      "cell_type": "code",
      "execution_count": null,
      "metadata": {
        "id": "KGrvxRJ0b5ZF"
      },
      "outputs": [],
      "source": []
    }
  ],
  "metadata": {
    "colab": {
      "provenance": []
    },
    "kernelspec": {
      "display_name": ".venv",
      "language": "python",
      "name": "python3"
    },
    "language_info": {
      "codemirror_mode": {
        "name": "ipython",
        "version": 3
      },
      "file_extension": ".py",
      "mimetype": "text/x-python",
      "name": "python",
      "nbconvert_exporter": "python",
      "pygments_lexer": "ipython3",
      "version": "3.12.4"
    }
  },
  "nbformat": 4,
  "nbformat_minor": 0
}
