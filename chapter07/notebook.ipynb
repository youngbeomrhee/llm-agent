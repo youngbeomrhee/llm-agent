{
  "cells": [
    {
      "cell_type": "markdown",
      "metadata": {
        "id": "tXsfYVCzoZ84"
      },
      "source": [
        "# 7. LangSmith를 활용한 RAG 애플리케이션 평가\n",
        "\n"
      ]
    },
    {
      "cell_type": "code",
      "execution_count": 4,
      "metadata": {
        "execution": {
          "iopub.execute_input": "2024-06-28T02:32:34.489407Z",
          "iopub.status.busy": "2024-06-28T02:32:34.488775Z",
          "iopub.status.idle": "2024-06-28T02:32:34.491583Z",
          "shell.execute_reply": "2024-06-28T02:32:34.491086Z"
        },
        "id": "558jptEWoZ85"
      },
      "outputs": [],
      "source": [
        "\"\"\"\n",
        "환경 설정 및 API 키 구성\n",
        "이 섹션에서는 LangSmith와 OpenAI API를 사용하기 위한 환경 변수를 설정합니다.\n",
        "\"\"\"\n",
        "\n",
        "# os 모듈: Python 표준 라이브러리로, 운영 체제와 상호작용하기 위한 인터페이스 제공\n",
        "# 여기서는 환경 변수 설정에 사용됩니다\n",
        "import os\n",
        "\n",
        "# Google Colab 환경에서 사용자 데이터를 가져오기 위한 모듈 (현재는 주석 처리)\n",
        "# from google.colab import userdata\n",
        "\n",
        "# python-dotenv: .env 파일에서 환경 변수를 자동으로 로드하는 라이브러리\n",
        "# 개발 환경에서 민감한 정보(API 키 등)를 안전하게 관리하기 위해 사용\n",
        "from dotenv import load_dotenv\n",
        "\n",
        "# .env 파일에서 환경 변수를 로드\n",
        "# .env 파일은 프로젝트 루트 디렉토리에 위치해야 하며, KEY=VALUE 형식으로 작성\n",
        "load_dotenv()\n",
        "\n",
        "# OpenAI API 키 설정\n",
        "# OpenAI의 GPT 모델들을 사용하기 위한 인증 키\n",
        "# os.environ[\"OPENAI_API_KEY\"] = userdata.get(\"OPENAI_API_KEY\")  # Colab 환경\n",
        "os.environ[\"OPENAI_API_KEY\"] = os.getenv(\"OPENAI_API_KEY\")  # 로컬 환경\n",
        "\n",
        "# LangSmith 추적 설정\n",
        "# LangSmith는 LangChain 애플리케이션의 디버깅, 테스팅, 모니터링을 위한 플랫폼\n",
        "# LANGCHAIN_TRACING_V2: 추적 기능을 활성화 (true/false)\n",
        "os.environ[\"LANGCHAIN_TRACING_V2\"] = \"true\"\n",
        "\n",
        "# LangSmith API 엔드포인트 URL\n",
        "# LangSmith 서비스에 접속하기 위한 API 서버 주소\n",
        "os.environ[\"LANGCHAIN_ENDPOINT\"] = \"https://api.smith.langchain.com\"\n",
        "\n",
        "# LangSmith API 키 설정\n",
        "# LangSmith 서비스 인증을 위한 API 키\n",
        "# os.environ[\"LANGCHAIN_API_KEY\"] = userdata.get(\"LANGCHAIN_API_KEY\")  # Colab 환경\n",
        "os.environ[\"LANGCHAIN_API_KEY\"] = os.getenv(\"LANGCHAIN_API_KEY\")  # 로컬 환경\n",
        "\n",
        "# LangSmith 프로젝트 이름\n",
        "# 추적된 실행들을 구분하고 관리하기 위한 프로젝트 식별자\n",
        "os.environ[\"LANGCHAIN_PROJECT\"] = \"agent-book\"\n",
        "\n",
        "# Tavily API 키 설정\n",
        "# Tavily는 웹 검색 API 서비스로, RAG 애플리케이션에서 실시간 정보 검색에 사용\n",
        "# os.environ[\"TAVILY_API_KEY\"] = userdata.get(\"TAVILY_API_KEY\")  # Colab 환경\n",
        "os.environ[\"TAVILY_API_KEY\"] = os.getenv(\"TAVILY_API_KEY\")  # 로컬 환경"
      ]
    },
    {
      "cell_type": "markdown",
      "metadata": {
        "id": "4hQV0tspoZ86"
      },
      "source": [
        "## 7.4. Ragas를 활용한 합성 테스트 데이터 생성\n"
      ]
    },
    {
      "cell_type": "markdown",
      "metadata": {
        "id": "ccowWgLPoZ86"
      },
      "source": [
        "### 패키지 설치\n"
      ]
    },
    {
      "cell_type": "code",
      "execution_count": 5,
      "metadata": {
        "id": "P5PO1hz4oZ86"
      },
      "outputs": [
        {
          "name": "stdout",
          "output_type": "stream",
          "text": [
            "Requirement already satisfied: langchain-core==0.2.30 in /Users/youngbeom-rhee/Repositories/study/llm-agent/.venv/lib/python3.12/site-packages (0.2.30)\n",
            "Requirement already satisfied: langchain-openai==0.1.21 in /Users/youngbeom-rhee/Repositories/study/llm-agent/.venv/lib/python3.12/site-packages (0.1.21)\n",
            "Requirement already satisfied: langchain-community==0.2.12 in /Users/youngbeom-rhee/Repositories/study/llm-agent/.venv/lib/python3.12/site-packages (0.2.12)\n",
            "Requirement already satisfied: GitPython==3.1.43 in /Users/youngbeom-rhee/Repositories/study/llm-agent/.venv/lib/python3.12/site-packages (3.1.43)\n",
            "Requirement already satisfied: langchain-chroma==0.1.2 in /Users/youngbeom-rhee/Repositories/study/llm-agent/.venv/lib/python3.12/site-packages (0.1.2)\n",
            "Requirement already satisfied: chromadb==0.5.3 in /Users/youngbeom-rhee/Repositories/study/llm-agent/.venv/lib/python3.12/site-packages (0.5.3)\n",
            "Requirement already satisfied: ragas==0.1.14 in /Users/youngbeom-rhee/Repositories/study/llm-agent/.venv/lib/python3.12/site-packages (0.1.14)\n",
            "Requirement already satisfied: nest-asyncio==1.6.0 in /Users/youngbeom-rhee/Repositories/study/llm-agent/.venv/lib/python3.12/site-packages (1.6.0)\n",
            "Requirement already satisfied: pydantic==2.9.2 in /Users/youngbeom-rhee/Repositories/study/llm-agent/.venv/lib/python3.12/site-packages (2.9.2)\n",
            "Requirement already satisfied: numpy==1.26.4 in /Users/youngbeom-rhee/Repositories/study/llm-agent/.venv/lib/python3.12/site-packages (1.26.4)\n",
            "Requirement already satisfied: PyYAML>=5.3 in /Users/youngbeom-rhee/Repositories/study/llm-agent/.venv/lib/python3.12/site-packages (from langchain-core==0.2.30) (6.0.3)\n",
            "Requirement already satisfied: jsonpatch<2.0,>=1.33 in /Users/youngbeom-rhee/Repositories/study/llm-agent/.venv/lib/python3.12/site-packages (from langchain-core==0.2.30) (1.33)\n",
            "Requirement already satisfied: langsmith<0.2.0,>=0.1.75 in /Users/youngbeom-rhee/Repositories/study/llm-agent/.venv/lib/python3.12/site-packages (from langchain-core==0.2.30) (0.1.147)\n",
            "Requirement already satisfied: packaging<25,>=23.2 in /Users/youngbeom-rhee/Repositories/study/llm-agent/.venv/lib/python3.12/site-packages (from langchain-core==0.2.30) (24.2)\n",
            "Requirement already satisfied: tenacity!=8.4.0,<9.0.0,>=8.1.0 in /Users/youngbeom-rhee/Repositories/study/llm-agent/.venv/lib/python3.12/site-packages (from langchain-core==0.2.30) (8.3.0)\n",
            "Requirement already satisfied: typing-extensions>=4.7 in /Users/youngbeom-rhee/Repositories/study/llm-agent/.venv/lib/python3.12/site-packages (from langchain-core==0.2.30) (4.15.0)\n",
            "Requirement already satisfied: annotated-types>=0.6.0 in /Users/youngbeom-rhee/Repositories/study/llm-agent/.venv/lib/python3.12/site-packages (from pydantic==2.9.2) (0.7.0)\n",
            "Requirement already satisfied: pydantic-core==2.23.4 in /Users/youngbeom-rhee/Repositories/study/llm-agent/.venv/lib/python3.12/site-packages (from pydantic==2.9.2) (2.23.4)\n",
            "Requirement already satisfied: openai<2.0.0,>=1.40.0 in /Users/youngbeom-rhee/Repositories/study/llm-agent/.venv/lib/python3.12/site-packages (from langchain-openai==0.1.21) (1.109.1)\n",
            "Requirement already satisfied: tiktoken<1,>=0.7 in /Users/youngbeom-rhee/Repositories/study/llm-agent/.venv/lib/python3.12/site-packages (from langchain-openai==0.1.21) (0.12.0)\n",
            "Requirement already satisfied: SQLAlchemy<3,>=1.4 in /Users/youngbeom-rhee/Repositories/study/llm-agent/.venv/lib/python3.12/site-packages (from langchain-community==0.2.12) (2.0.43)\n",
            "Requirement already satisfied: aiohttp<4.0.0,>=3.8.3 in /Users/youngbeom-rhee/Repositories/study/llm-agent/.venv/lib/python3.12/site-packages (from langchain-community==0.2.12) (3.13.0)\n",
            "Requirement already satisfied: dataclasses-json<0.7,>=0.5.7 in /Users/youngbeom-rhee/Repositories/study/llm-agent/.venv/lib/python3.12/site-packages (from langchain-community==0.2.12) (0.6.7)\n",
            "Requirement already satisfied: langchain<0.3.0,>=0.2.13 in /Users/youngbeom-rhee/Repositories/study/llm-agent/.venv/lib/python3.12/site-packages (from langchain-community==0.2.12) (0.2.13)\n",
            "Requirement already satisfied: requests<3,>=2 in /Users/youngbeom-rhee/Repositories/study/llm-agent/.venv/lib/python3.12/site-packages (from langchain-community==0.2.12) (2.32.5)\n",
            "Requirement already satisfied: gitdb<5,>=4.0.1 in /Users/youngbeom-rhee/Repositories/study/llm-agent/.venv/lib/python3.12/site-packages (from GitPython==3.1.43) (4.0.12)\n",
            "Requirement already satisfied: fastapi<1,>=0.95.2 in /Users/youngbeom-rhee/Repositories/study/llm-agent/.venv/lib/python3.12/site-packages (from langchain-chroma==0.1.2) (0.119.1)\n",
            "Requirement already satisfied: build>=1.0.3 in /Users/youngbeom-rhee/Repositories/study/llm-agent/.venv/lib/python3.12/site-packages (from chromadb==0.5.3) (1.3.0)\n",
            "Requirement already satisfied: chroma-hnswlib==0.7.3 in /Users/youngbeom-rhee/Repositories/study/llm-agent/.venv/lib/python3.12/site-packages (from chromadb==0.5.3) (0.7.3)\n",
            "Requirement already satisfied: uvicorn>=0.18.3 in /Users/youngbeom-rhee/Repositories/study/llm-agent/.venv/lib/python3.12/site-packages (from uvicorn[standard]>=0.18.3->chromadb==0.5.3) (0.38.0)\n",
            "Requirement already satisfied: posthog>=2.4.0 in /Users/youngbeom-rhee/Repositories/study/llm-agent/.venv/lib/python3.12/site-packages (from chromadb==0.5.3) (6.7.9)\n",
            "Requirement already satisfied: onnxruntime>=1.14.1 in /Users/youngbeom-rhee/Repositories/study/llm-agent/.venv/lib/python3.12/site-packages (from chromadb==0.5.3) (1.23.2)\n",
            "Requirement already satisfied: opentelemetry-api>=1.2.0 in /Users/youngbeom-rhee/Repositories/study/llm-agent/.venv/lib/python3.12/site-packages (from chromadb==0.5.3) (1.38.0)\n",
            "Requirement already satisfied: opentelemetry-exporter-otlp-proto-grpc>=1.2.0 in /Users/youngbeom-rhee/Repositories/study/llm-agent/.venv/lib/python3.12/site-packages (from chromadb==0.5.3) (1.38.0)\n",
            "Requirement already satisfied: opentelemetry-instrumentation-fastapi>=0.41b0 in /Users/youngbeom-rhee/Repositories/study/llm-agent/.venv/lib/python3.12/site-packages (from chromadb==0.5.3) (0.59b0)\n",
            "Requirement already satisfied: opentelemetry-sdk>=1.2.0 in /Users/youngbeom-rhee/Repositories/study/llm-agent/.venv/lib/python3.12/site-packages (from chromadb==0.5.3) (1.38.0)\n",
            "Requirement already satisfied: tokenizers>=0.13.2 in /Users/youngbeom-rhee/Repositories/study/llm-agent/.venv/lib/python3.12/site-packages (from chromadb==0.5.3) (0.20.3)\n",
            "Requirement already satisfied: pypika>=0.48.9 in /Users/youngbeom-rhee/Repositories/study/llm-agent/.venv/lib/python3.12/site-packages (from chromadb==0.5.3) (0.48.9)\n",
            "Requirement already satisfied: tqdm>=4.65.0 in /Users/youngbeom-rhee/Repositories/study/llm-agent/.venv/lib/python3.12/site-packages (from chromadb==0.5.3) (4.67.1)\n",
            "Requirement already satisfied: overrides>=7.3.1 in /Users/youngbeom-rhee/Repositories/study/llm-agent/.venv/lib/python3.12/site-packages (from chromadb==0.5.3) (7.7.0)\n",
            "Requirement already satisfied: importlib-resources in /Users/youngbeom-rhee/Repositories/study/llm-agent/.venv/lib/python3.12/site-packages (from chromadb==0.5.3) (6.5.2)\n",
            "Requirement already satisfied: grpcio>=1.58.0 in /Users/youngbeom-rhee/Repositories/study/llm-agent/.venv/lib/python3.12/site-packages (from chromadb==0.5.3) (1.76.0)\n",
            "Requirement already satisfied: bcrypt>=4.0.1 in /Users/youngbeom-rhee/Repositories/study/llm-agent/.venv/lib/python3.12/site-packages (from chromadb==0.5.3) (5.0.0)\n",
            "Requirement already satisfied: typer>=0.9.0 in /Users/youngbeom-rhee/Repositories/study/llm-agent/.venv/lib/python3.12/site-packages (from chromadb==0.5.3) (0.20.0)\n",
            "Requirement already satisfied: kubernetes>=28.1.0 in /Users/youngbeom-rhee/Repositories/study/llm-agent/.venv/lib/python3.12/site-packages (from chromadb==0.5.3) (34.1.0)\n",
            "Requirement already satisfied: mmh3>=4.0.1 in /Users/youngbeom-rhee/Repositories/study/llm-agent/.venv/lib/python3.12/site-packages (from chromadb==0.5.3) (5.2.0)\n",
            "Requirement already satisfied: orjson>=3.9.12 in /Users/youngbeom-rhee/Repositories/study/llm-agent/.venv/lib/python3.12/site-packages (from chromadb==0.5.3) (3.11.3)\n",
            "Requirement already satisfied: httpx>=0.27.0 in /Users/youngbeom-rhee/Repositories/study/llm-agent/.venv/lib/python3.12/site-packages (from chromadb==0.5.3) (0.28.1)\n",
            "Requirement already satisfied: datasets in /Users/youngbeom-rhee/Repositories/study/llm-agent/.venv/lib/python3.12/site-packages (from ragas==0.1.14) (4.2.0)\n",
            "Requirement already satisfied: pysbd>=0.3.4 in /Users/youngbeom-rhee/Repositories/study/llm-agent/.venv/lib/python3.12/site-packages (from ragas==0.1.14) (0.3.4)\n",
            "Requirement already satisfied: appdirs in /Users/youngbeom-rhee/Repositories/study/llm-agent/.venv/lib/python3.12/site-packages (from ragas==0.1.14) (1.4.4)\n",
            "Requirement already satisfied: aiohappyeyeballs>=2.5.0 in /Users/youngbeom-rhee/Repositories/study/llm-agent/.venv/lib/python3.12/site-packages (from aiohttp<4.0.0,>=3.8.3->langchain-community==0.2.12) (2.6.1)\n",
            "Requirement already satisfied: aiosignal>=1.4.0 in /Users/youngbeom-rhee/Repositories/study/llm-agent/.venv/lib/python3.12/site-packages (from aiohttp<4.0.0,>=3.8.3->langchain-community==0.2.12) (1.4.0)\n",
            "Requirement already satisfied: attrs>=17.3.0 in /Users/youngbeom-rhee/Repositories/study/llm-agent/.venv/lib/python3.12/site-packages (from aiohttp<4.0.0,>=3.8.3->langchain-community==0.2.12) (25.4.0)\n",
            "Requirement already satisfied: frozenlist>=1.1.1 in /Users/youngbeom-rhee/Repositories/study/llm-agent/.venv/lib/python3.12/site-packages (from aiohttp<4.0.0,>=3.8.3->langchain-community==0.2.12) (1.8.0)\n",
            "Requirement already satisfied: multidict<7.0,>=4.5 in /Users/youngbeom-rhee/Repositories/study/llm-agent/.venv/lib/python3.12/site-packages (from aiohttp<4.0.0,>=3.8.3->langchain-community==0.2.12) (6.7.0)\n",
            "Requirement already satisfied: propcache>=0.2.0 in /Users/youngbeom-rhee/Repositories/study/llm-agent/.venv/lib/python3.12/site-packages (from aiohttp<4.0.0,>=3.8.3->langchain-community==0.2.12) (0.4.1)\n",
            "Requirement already satisfied: yarl<2.0,>=1.17.0 in /Users/youngbeom-rhee/Repositories/study/llm-agent/.venv/lib/python3.12/site-packages (from aiohttp<4.0.0,>=3.8.3->langchain-community==0.2.12) (1.22.0)\n",
            "Requirement already satisfied: marshmallow<4.0.0,>=3.18.0 in /Users/youngbeom-rhee/Repositories/study/llm-agent/.venv/lib/python3.12/site-packages (from dataclasses-json<0.7,>=0.5.7->langchain-community==0.2.12) (3.26.1)\n",
            "Requirement already satisfied: typing-inspect<1,>=0.4.0 in /Users/youngbeom-rhee/Repositories/study/llm-agent/.venv/lib/python3.12/site-packages (from dataclasses-json<0.7,>=0.5.7->langchain-community==0.2.12) (0.9.0)\n",
            "Requirement already satisfied: starlette<0.49.0,>=0.40.0 in /Users/youngbeom-rhee/Repositories/study/llm-agent/.venv/lib/python3.12/site-packages (from fastapi<1,>=0.95.2->langchain-chroma==0.1.2) (0.48.0)\n",
            "Requirement already satisfied: smmap<6,>=3.0.1 in /Users/youngbeom-rhee/Repositories/study/llm-agent/.venv/lib/python3.12/site-packages (from gitdb<5,>=4.0.1->GitPython==3.1.43) (5.0.2)\n",
            "Requirement already satisfied: jsonpointer>=1.9 in /Users/youngbeom-rhee/Repositories/study/llm-agent/.venv/lib/python3.12/site-packages (from jsonpatch<2.0,>=1.33->langchain-core==0.2.30) (3.0.0)\n",
            "Requirement already satisfied: langchain-text-splitters<0.3.0,>=0.2.0 in /Users/youngbeom-rhee/Repositories/study/llm-agent/.venv/lib/python3.12/site-packages (from langchain<0.3.0,>=0.2.13->langchain-community==0.2.12) (0.2.2)\n",
            "Requirement already satisfied: requests-toolbelt<2.0.0,>=1.0.0 in /Users/youngbeom-rhee/Repositories/study/llm-agent/.venv/lib/python3.12/site-packages (from langsmith<0.2.0,>=0.1.75->langchain-core==0.2.30) (1.0.0)\n",
            "Requirement already satisfied: anyio in /Users/youngbeom-rhee/Repositories/study/llm-agent/.venv/lib/python3.12/site-packages (from httpx>=0.27.0->chromadb==0.5.3) (4.11.0)\n",
            "Requirement already satisfied: certifi in /Users/youngbeom-rhee/Repositories/study/llm-agent/.venv/lib/python3.12/site-packages (from httpx>=0.27.0->chromadb==0.5.3) (2025.10.5)\n",
            "Requirement already satisfied: httpcore==1.* in /Users/youngbeom-rhee/Repositories/study/llm-agent/.venv/lib/python3.12/site-packages (from httpx>=0.27.0->chromadb==0.5.3) (1.0.9)\n",
            "Requirement already satisfied: idna in /Users/youngbeom-rhee/Repositories/study/llm-agent/.venv/lib/python3.12/site-packages (from httpx>=0.27.0->chromadb==0.5.3) (3.11)\n",
            "Requirement already satisfied: h11>=0.16 in /Users/youngbeom-rhee/Repositories/study/llm-agent/.venv/lib/python3.12/site-packages (from httpcore==1.*->httpx>=0.27.0->chromadb==0.5.3) (0.16.0)\n",
            "Requirement already satisfied: distro<2,>=1.7.0 in /Users/youngbeom-rhee/Repositories/study/llm-agent/.venv/lib/python3.12/site-packages (from openai<2.0.0,>=1.40.0->langchain-openai==0.1.21) (1.9.0)\n",
            "Requirement already satisfied: jiter<1,>=0.4.0 in /Users/youngbeom-rhee/Repositories/study/llm-agent/.venv/lib/python3.12/site-packages (from openai<2.0.0,>=1.40.0->langchain-openai==0.1.21) (0.11.0)\n",
            "Requirement already satisfied: sniffio in /Users/youngbeom-rhee/Repositories/study/llm-agent/.venv/lib/python3.12/site-packages (from openai<2.0.0,>=1.40.0->langchain-openai==0.1.21) (1.3.1)\n",
            "Requirement already satisfied: charset_normalizer<4,>=2 in /Users/youngbeom-rhee/Repositories/study/llm-agent/.venv/lib/python3.12/site-packages (from requests<3,>=2->langchain-community==0.2.12) (3.4.4)\n",
            "Requirement already satisfied: urllib3<3,>=1.21.1 in /Users/youngbeom-rhee/Repositories/study/llm-agent/.venv/lib/python3.12/site-packages (from requests<3,>=2->langchain-community==0.2.12) (2.3.0)\n",
            "Requirement already satisfied: regex>=2022.1.18 in /Users/youngbeom-rhee/Repositories/study/llm-agent/.venv/lib/python3.12/site-packages (from tiktoken<1,>=0.7->langchain-openai==0.1.21) (2025.9.18)\n",
            "Requirement already satisfied: mypy-extensions>=0.3.0 in /Users/youngbeom-rhee/Repositories/study/llm-agent/.venv/lib/python3.12/site-packages (from typing-inspect<1,>=0.4.0->dataclasses-json<0.7,>=0.5.7->langchain-community==0.2.12) (1.1.0)\n",
            "Requirement already satisfied: pyproject_hooks in /Users/youngbeom-rhee/Repositories/study/llm-agent/.venv/lib/python3.12/site-packages (from build>=1.0.3->chromadb==0.5.3) (1.2.0)\n",
            "Requirement already satisfied: six>=1.9.0 in /Users/youngbeom-rhee/Repositories/study/llm-agent/.venv/lib/python3.12/site-packages (from kubernetes>=28.1.0->chromadb==0.5.3) (1.17.0)\n",
            "Requirement already satisfied: python-dateutil>=2.5.3 in /Users/youngbeom-rhee/Repositories/study/llm-agent/.venv/lib/python3.12/site-packages (from kubernetes>=28.1.0->chromadb==0.5.3) (2.9.0.post0)\n",
            "Requirement already satisfied: google-auth>=1.0.1 in /Users/youngbeom-rhee/Repositories/study/llm-agent/.venv/lib/python3.12/site-packages (from kubernetes>=28.1.0->chromadb==0.5.3) (2.41.1)\n",
            "Requirement already satisfied: websocket-client!=0.40.0,!=0.41.*,!=0.42.*,>=0.32.0 in /Users/youngbeom-rhee/Repositories/study/llm-agent/.venv/lib/python3.12/site-packages (from kubernetes>=28.1.0->chromadb==0.5.3) (1.9.0)\n",
            "Requirement already satisfied: requests-oauthlib in /Users/youngbeom-rhee/Repositories/study/llm-agent/.venv/lib/python3.12/site-packages (from kubernetes>=28.1.0->chromadb==0.5.3) (2.0.0)\n",
            "Requirement already satisfied: durationpy>=0.7 in /Users/youngbeom-rhee/Repositories/study/llm-agent/.venv/lib/python3.12/site-packages (from kubernetes>=28.1.0->chromadb==0.5.3) (0.10)\n",
            "Requirement already satisfied: cachetools<7.0,>=2.0.0 in /Users/youngbeom-rhee/Repositories/study/llm-agent/.venv/lib/python3.12/site-packages (from google-auth>=1.0.1->kubernetes>=28.1.0->chromadb==0.5.3) (6.2.1)\n",
            "Requirement already satisfied: pyasn1-modules>=0.2.1 in /Users/youngbeom-rhee/Repositories/study/llm-agent/.venv/lib/python3.12/site-packages (from google-auth>=1.0.1->kubernetes>=28.1.0->chromadb==0.5.3) (0.4.2)\n",
            "Requirement already satisfied: rsa<5,>=3.1.4 in /Users/youngbeom-rhee/Repositories/study/llm-agent/.venv/lib/python3.12/site-packages (from google-auth>=1.0.1->kubernetes>=28.1.0->chromadb==0.5.3) (4.9.1)\n",
            "Requirement already satisfied: pyasn1>=0.1.3 in /Users/youngbeom-rhee/Repositories/study/llm-agent/.venv/lib/python3.12/site-packages (from rsa<5,>=3.1.4->google-auth>=1.0.1->kubernetes>=28.1.0->chromadb==0.5.3) (0.6.1)\n",
            "Requirement already satisfied: coloredlogs in /Users/youngbeom-rhee/Repositories/study/llm-agent/.venv/lib/python3.12/site-packages (from onnxruntime>=1.14.1->chromadb==0.5.3) (15.0.1)\n",
            "Requirement already satisfied: flatbuffers in /Users/youngbeom-rhee/Repositories/study/llm-agent/.venv/lib/python3.12/site-packages (from onnxruntime>=1.14.1->chromadb==0.5.3) (25.9.23)\n",
            "Requirement already satisfied: protobuf in /Users/youngbeom-rhee/Repositories/study/llm-agent/.venv/lib/python3.12/site-packages (from onnxruntime>=1.14.1->chromadb==0.5.3) (6.33.0)\n",
            "Requirement already satisfied: sympy in /Users/youngbeom-rhee/Repositories/study/llm-agent/.venv/lib/python3.12/site-packages (from onnxruntime>=1.14.1->chromadb==0.5.3) (1.14.0)\n",
            "Requirement already satisfied: importlib-metadata<8.8.0,>=6.0 in /Users/youngbeom-rhee/Repositories/study/llm-agent/.venv/lib/python3.12/site-packages (from opentelemetry-api>=1.2.0->chromadb==0.5.3) (8.7.0)\n",
            "Requirement already satisfied: zipp>=3.20 in /Users/youngbeom-rhee/Repositories/study/llm-agent/.venv/lib/python3.12/site-packages (from importlib-metadata<8.8.0,>=6.0->opentelemetry-api>=1.2.0->chromadb==0.5.3) (3.23.0)\n",
            "Requirement already satisfied: googleapis-common-protos~=1.57 in /Users/youngbeom-rhee/Repositories/study/llm-agent/.venv/lib/python3.12/site-packages (from opentelemetry-exporter-otlp-proto-grpc>=1.2.0->chromadb==0.5.3) (1.71.0)\n",
            "Requirement already satisfied: opentelemetry-exporter-otlp-proto-common==1.38.0 in /Users/youngbeom-rhee/Repositories/study/llm-agent/.venv/lib/python3.12/site-packages (from opentelemetry-exporter-otlp-proto-grpc>=1.2.0->chromadb==0.5.3) (1.38.0)\n",
            "Requirement already satisfied: opentelemetry-proto==1.38.0 in /Users/youngbeom-rhee/Repositories/study/llm-agent/.venv/lib/python3.12/site-packages (from opentelemetry-exporter-otlp-proto-grpc>=1.2.0->chromadb==0.5.3) (1.38.0)\n",
            "Requirement already satisfied: opentelemetry-semantic-conventions==0.59b0 in /Users/youngbeom-rhee/Repositories/study/llm-agent/.venv/lib/python3.12/site-packages (from opentelemetry-sdk>=1.2.0->chromadb==0.5.3) (0.59b0)\n",
            "Requirement already satisfied: opentelemetry-instrumentation-asgi==0.59b0 in /Users/youngbeom-rhee/Repositories/study/llm-agent/.venv/lib/python3.12/site-packages (from opentelemetry-instrumentation-fastapi>=0.41b0->chromadb==0.5.3) (0.59b0)\n",
            "Requirement already satisfied: opentelemetry-instrumentation==0.59b0 in /Users/youngbeom-rhee/Repositories/study/llm-agent/.venv/lib/python3.12/site-packages (from opentelemetry-instrumentation-fastapi>=0.41b0->chromadb==0.5.3) (0.59b0)\n",
            "Requirement already satisfied: opentelemetry-util-http==0.59b0 in /Users/youngbeom-rhee/Repositories/study/llm-agent/.venv/lib/python3.12/site-packages (from opentelemetry-instrumentation-fastapi>=0.41b0->chromadb==0.5.3) (0.59b0)\n",
            "Requirement already satisfied: wrapt<2.0.0,>=1.0.0 in /Users/youngbeom-rhee/Repositories/study/llm-agent/.venv/lib/python3.12/site-packages (from opentelemetry-instrumentation==0.59b0->opentelemetry-instrumentation-fastapi>=0.41b0->chromadb==0.5.3) (1.17.3)\n",
            "Requirement already satisfied: asgiref~=3.0 in /Users/youngbeom-rhee/Repositories/study/llm-agent/.venv/lib/python3.12/site-packages (from opentelemetry-instrumentation-asgi==0.59b0->opentelemetry-instrumentation-fastapi>=0.41b0->chromadb==0.5.3) (3.10.0)\n",
            "Requirement already satisfied: backoff>=1.10.0 in /Users/youngbeom-rhee/Repositories/study/llm-agent/.venv/lib/python3.12/site-packages (from posthog>=2.4.0->chromadb==0.5.3) (2.2.1)\n",
            "Requirement already satisfied: huggingface-hub<1.0,>=0.16.4 in /Users/youngbeom-rhee/Repositories/study/llm-agent/.venv/lib/python3.12/site-packages (from tokenizers>=0.13.2->chromadb==0.5.3) (0.35.3)\n",
            "Requirement already satisfied: filelock in /Users/youngbeom-rhee/Repositories/study/llm-agent/.venv/lib/python3.12/site-packages (from huggingface-hub<1.0,>=0.16.4->tokenizers>=0.13.2->chromadb==0.5.3) (3.20.0)\n",
            "Requirement already satisfied: fsspec>=2023.5.0 in /Users/youngbeom-rhee/Repositories/study/llm-agent/.venv/lib/python3.12/site-packages (from huggingface-hub<1.0,>=0.16.4->tokenizers>=0.13.2->chromadb==0.5.3) (2025.9.0)\n",
            "Requirement already satisfied: hf-xet<2.0.0,>=1.1.3 in /Users/youngbeom-rhee/Repositories/study/llm-agent/.venv/lib/python3.12/site-packages (from huggingface-hub<1.0,>=0.16.4->tokenizers>=0.13.2->chromadb==0.5.3) (1.1.10)\n",
            "Requirement already satisfied: click>=8.0.0 in /Users/youngbeom-rhee/Repositories/study/llm-agent/.venv/lib/python3.12/site-packages (from typer>=0.9.0->chromadb==0.5.3) (8.3.0)\n",
            "Requirement already satisfied: shellingham>=1.3.0 in /Users/youngbeom-rhee/Repositories/study/llm-agent/.venv/lib/python3.12/site-packages (from typer>=0.9.0->chromadb==0.5.3) (1.5.4)\n",
            "Requirement already satisfied: rich>=10.11.0 in /Users/youngbeom-rhee/Repositories/study/llm-agent/.venv/lib/python3.12/site-packages (from typer>=0.9.0->chromadb==0.5.3) (14.2.0)\n",
            "Requirement already satisfied: markdown-it-py>=2.2.0 in /Users/youngbeom-rhee/Repositories/study/llm-agent/.venv/lib/python3.12/site-packages (from rich>=10.11.0->typer>=0.9.0->chromadb==0.5.3) (4.0.0)\n",
            "Requirement already satisfied: pygments<3.0.0,>=2.13.0 in /Users/youngbeom-rhee/Repositories/study/llm-agent/.venv/lib/python3.12/site-packages (from rich>=10.11.0->typer>=0.9.0->chromadb==0.5.3) (2.19.2)\n",
            "Requirement already satisfied: mdurl~=0.1 in /Users/youngbeom-rhee/Repositories/study/llm-agent/.venv/lib/python3.12/site-packages (from markdown-it-py>=2.2.0->rich>=10.11.0->typer>=0.9.0->chromadb==0.5.3) (0.1.2)\n",
            "Requirement already satisfied: httptools>=0.6.3 in /Users/youngbeom-rhee/Repositories/study/llm-agent/.venv/lib/python3.12/site-packages (from uvicorn[standard]>=0.18.3->chromadb==0.5.3) (0.7.1)\n",
            "Requirement already satisfied: python-dotenv>=0.13 in /Users/youngbeom-rhee/Repositories/study/llm-agent/.venv/lib/python3.12/site-packages (from uvicorn[standard]>=0.18.3->chromadb==0.5.3) (1.1.1)\n",
            "Requirement already satisfied: uvloop>=0.15.1 in /Users/youngbeom-rhee/Repositories/study/llm-agent/.venv/lib/python3.12/site-packages (from uvicorn[standard]>=0.18.3->chromadb==0.5.3) (0.22.1)\n",
            "Requirement already satisfied: watchfiles>=0.13 in /Users/youngbeom-rhee/Repositories/study/llm-agent/.venv/lib/python3.12/site-packages (from uvicorn[standard]>=0.18.3->chromadb==0.5.3) (1.1.1)\n",
            "Requirement already satisfied: websockets>=10.4 in /Users/youngbeom-rhee/Repositories/study/llm-agent/.venv/lib/python3.12/site-packages (from uvicorn[standard]>=0.18.3->chromadb==0.5.3) (15.0.1)\n",
            "Requirement already satisfied: humanfriendly>=9.1 in /Users/youngbeom-rhee/Repositories/study/llm-agent/.venv/lib/python3.12/site-packages (from coloredlogs->onnxruntime>=1.14.1->chromadb==0.5.3) (10.0)\n",
            "Requirement already satisfied: pyarrow>=21.0.0 in /Users/youngbeom-rhee/Repositories/study/llm-agent/.venv/lib/python3.12/site-packages (from datasets->ragas==0.1.14) (21.0.0)\n",
            "Requirement already satisfied: dill<0.4.1,>=0.3.0 in /Users/youngbeom-rhee/Repositories/study/llm-agent/.venv/lib/python3.12/site-packages (from datasets->ragas==0.1.14) (0.4.0)\n",
            "Requirement already satisfied: pandas in /Users/youngbeom-rhee/Repositories/study/llm-agent/.venv/lib/python3.12/site-packages (from datasets->ragas==0.1.14) (2.3.3)\n",
            "Requirement already satisfied: xxhash in /Users/youngbeom-rhee/Repositories/study/llm-agent/.venv/lib/python3.12/site-packages (from datasets->ragas==0.1.14) (3.6.0)\n",
            "Requirement already satisfied: multiprocess<0.70.17 in /Users/youngbeom-rhee/Repositories/study/llm-agent/.venv/lib/python3.12/site-packages (from datasets->ragas==0.1.14) (0.70.16)\n",
            "Requirement already satisfied: pytz>=2020.1 in /Users/youngbeom-rhee/Repositories/study/llm-agent/.venv/lib/python3.12/site-packages (from pandas->datasets->ragas==0.1.14) (2025.2)\n",
            "Requirement already satisfied: tzdata>=2022.7 in /Users/youngbeom-rhee/Repositories/study/llm-agent/.venv/lib/python3.12/site-packages (from pandas->datasets->ragas==0.1.14) (2025.2)\n",
            "Requirement already satisfied: oauthlib>=3.0.0 in /Users/youngbeom-rhee/Repositories/study/llm-agent/.venv/lib/python3.12/site-packages (from requests-oauthlib->kubernetes>=28.1.0->chromadb==0.5.3) (3.3.1)\n",
            "Requirement already satisfied: mpmath<1.4,>=1.1.0 in /Users/youngbeom-rhee/Repositories/study/llm-agent/.venv/lib/python3.12/site-packages (from sympy->onnxruntime>=1.14.1->chromadb==0.5.3) (1.3.0)\n"
          ]
        }
      ],
      "source": [
        "!pip install langchain-core==0.2.30 langchain-openai==0.1.21 \\\n",
        "    langchain-community==0.2.12 GitPython==3.1.43 \\\n",
        "    langchain-chroma==0.1.2 chromadb==0.5.3 \\\n",
        "    ragas==0.1.14 nest-asyncio==1.6.0 pydantic==2.9.2 numpy==1.26.4"
      ]
    },
    {
      "cell_type": "markdown",
      "metadata": {
        "id": "0XosBAJ1oZ86"
      },
      "source": [
        "### 검색 대상 문서 로드\n"
      ]
    },
    {
      "cell_type": "code",
      "execution_count": null,
      "metadata": {
        "id": "sfrs5iUSoZ86"
      },
      "outputs": [],
      "source": [
        "\"\"\"\n",
        "검색 대상 문서 로드\n",
        "RAG 시스템의 지식 베이스로 사용할 문서들을 GitHub 저장소에서 로드합니다.\n",
        "\"\"\"\n",
        "\n",
        "# langchain_community: LangChain의 커뮤니티 통합 모듈\n",
        "# document_loaders: 다양한 소스에서 문서를 로드하는 클래스들을 제공\n",
        "# GitLoader: Git 저장소에서 파일을 로드하는 전문 로더\n",
        "from langchain_community.document_loaders import GitLoader\n",
        "\n",
        "# 파일 필터 함수: 로드할 파일을 선택하는 조건을 정의\n",
        "# GitLoader는 이 함수를 사용해 특정 파일만 선택적으로 로드\n",
        "def file_filter(file_path: str) -> bool:\n",
        "    \"\"\"\n",
        "    로드할 파일을 필터링하는 함수\n",
        "    \n",
        "    Args:\n",
        "        file_path (str): 확인할 파일의 경로\n",
        "    \n",
        "    Returns:\n",
        "        bool: 파일을 로드할지 여부 (True면 로드, False면 스킵)\n",
        "    \"\"\"\n",
        "    # Markdown 파일(.md)만 로드하도록 필터링\n",
        "    # LangChain 문서는 주로 Markdown 형식으로 작성되어 있음\n",
        "    return file_path.endswith(\".md\")\n",
        "\n",
        "\n",
        "# GitLoader 인스턴스 생성 및 설정\n",
        "loader = GitLoader(\n",
        "    # GitHub 저장소의 클론 URL\n",
        "    # LangChain 공식 저장소에서 문서를 가져옴\n",
        "    clone_url=\"https://github.com/langchain-ai/langchain\",\n",
        "    \n",
        "    # 로컬에 클론될 저장소 경로\n",
        "    # 이미 존재하면 업데이트, 없으면 새로 클론\n",
        "    repo_path=\"./langchain\",\n",
        "    \n",
        "    # 특정 브랜치나 태그 지정\n",
        "    # 특정 버전을 사용하여 일관성 있는 결과 보장\n",
        "    branch=\"langchain==0.2.13\",\n",
        "    \n",
        "    # 파일 필터 함수 지정\n",
        "    # 위에서 정의한 file_filter 함수를 사용하여 .md 파일만 로드\n",
        "    file_filter=file_filter,\n",
        ")\n",
        "\n",
        "# 문서 로드 실행\n",
        "# load() 메서드는 지정된 조건에 맞는 모든 문서를 Document 객체 리스트로 반환\n",
        "# 각 Document 객체는 page_content(텍스트 내용)와 metadata(파일 정보)를 포함\n",
        "documents = loader.load()\n",
        "\n",
        "# 로드된 문서 개수 출력\n",
        "print(len(documents))"
      ]
    },
    {
      "cell_type": "markdown",
      "metadata": {
        "id": "2zl7xcs5oZ86"
      },
      "source": [
        "### Ragas를 활용한 합성 테스트 데이터 생성 구현\n"
      ]
    },
    {
      "cell_type": "code",
      "execution_count": null,
      "metadata": {
        "id": "2f878Y37oZ87"
      },
      "outputs": [],
      "source": [
        "\"\"\"\n",
        "문서 메타데이터 처리\n",
        "Ragas가 요구하는 형식에 맞게 메타데이터를 조정합니다.\n",
        "\"\"\"\n",
        "\n",
        "# 각 문서의 메타데이터를 수정\n",
        "# Ragas는 'filename' 필드를 필요로 하므로 'source' 필드를 복사\n",
        "for document in documents:\n",
        "    # document.metadata는 딕셔너리로, 문서의 부가 정보를 저장\n",
        "    # 'source': 원본 파일 경로 (GitLoader가 자동으로 설정)\n",
        "    # 'filename': Ragas가 테스트 데이터 생성 시 참조하는 파일명 필드\n",
        "    document.metadata[\"filename\"] = document.metadata[\"source\"]"
      ]
    },
    {
      "cell_type": "markdown",
      "metadata": {
        "id": "gzFdSJhooZ87"
      },
      "source": [
        "#### 【주의】알려진 오류에 관해\n",
        "\n",
        "아래 코드에서 gpt-4o를 사용할 경우 OpenAI API의 Usage tier에 따라 RateLimitError가 발생할 수 있다고 보고되었습니다.\n",
        "\n",
        "OpenAI API의 Usage tier에 관해서는 공식 문서의 다음 페이지를 참조하세요.\n",
        "\n",
        "https://platform.openai.com/docs/guides/rate-limits/usage-tiers\n",
        "\n",
        "이 오류가 발생한 경우 다음 중 하나의 대응을 실시하세요.\n",
        "\n",
        "1. 같은 Tier에서도 gpt-4o보다 레이트 리밋이 높은 gpt-4o-mini를 사용한다\n",
        "   - 이 경우, 생성되는 합성 테스트 데이터의 품질이 낮아질 것으로 예상됩니다\n",
        "2. 과금 등을 통해 Tier를 올린다\n",
        "   - Tier 2에서는 RateLimitError가 발생하지 않는 것을 확인했습니다 (2024년 10월 31일 기준)\n",
        "\n",
        "##### 2025/3/15 추가\n",
        "\n",
        "LangChain 문서의 증가로 인해, gpt-4o-mini를 사용하더라도 Tier 1에서는 오류가 발생한다는 보고가 있습니다.\n",
        "\n",
        "이 경우, GitHub에서 문서를 로드하는 부분에서 다음과 같이 작동이 확인된 버전인 `langchain==0.2.13`을 지정하도록 하세요.\n",
        "\n",
        "```python\n",
        "loader = GitLoader(\n",
        "    clone_url=\"https://github.com/langchain-ai/langchain\",\n",
        "    repo_path=\"./langchain\",\n",
        "    branch=\"langchain==0.2.13\",\n",
        "    file_filter=file_filter,\n",
        ")\n",
        "```\n"
      ]
    },
    {
      "cell_type": "markdown",
      "metadata": {},
      "source": []
    },
    {
      "cell_type": "code",
      "execution_count": null,
      "metadata": {
        "id": "ARH4WhZgoZ87"
      },
      "outputs": [
        {
          "name": "stderr",
          "output_type": "stream",
          "text": [
            "Generating: 100%|██████████| 4/4 [00:13<00:00,  3.37s/it]         \n"
          ]
        }
      ],
      "source": [
        "# Ragas의 기능으로 합성 테스트 데이터 생성\n",
        "import nest_asyncio\n",
        "from ragas.testset.generator import TestsetGenerator\n",
        "from ragas.testset.evolutions import simple, reasoning, multi_context\n",
        "from langchain_openai import ChatOpenAI, OpenAIEmbeddings\n",
        "\n",
        "nest_asyncio.apply()\n",
        "\n",
        "generator = TestsetGenerator.from_langchain(\n",
        "    generator_llm=ChatOpenAI(model=\"gpt-4.1-mini\"),\n",
        "    critic_llm=ChatOpenAI(model=\"gpt-4.1-mini\"),\n",
        "    embeddings=OpenAIEmbeddings(),\n",
        ")\n",
        "\n",
        "testset = generator.generate_with_langchain_docs(\n",
        "    documents,\n",
        "    test_size=4, # 생성할 데이터 수를 4개로 설정\n",
        "    distributions={simple: 0.5, reasoning: 0.25, multi_context: 0.25},\n",
        ")"
      ]
    },
    {
      "cell_type": "code",
      "execution_count": null,
      "metadata": {
        "id": "9pTWmwRSoZ87"
      },
      "outputs": [
        {
          "data": {
            "text/html": [
              "<div>\n",
              "<style scoped>\n",
              "    .dataframe tbody tr th:only-of-type {\n",
              "        vertical-align: middle;\n",
              "    }\n",
              "\n",
              "    .dataframe tbody tr th {\n",
              "        vertical-align: top;\n",
              "    }\n",
              "\n",
              "    .dataframe thead th {\n",
              "        text-align: right;\n",
              "    }\n",
              "</style>\n",
              "<table border=\"1\" class=\"dataframe\">\n",
              "  <thead>\n",
              "    <tr style=\"text-align: right;\">\n",
              "      <th></th>\n",
              "      <th>question</th>\n",
              "      <th>contexts</th>\n",
              "      <th>ground_truth</th>\n",
              "      <th>evolution_type</th>\n",
              "      <th>metadata</th>\n",
              "      <th>episode_done</th>\n",
              "    </tr>\n",
              "  </thead>\n",
              "  <tbody>\n",
              "    <tr>\n",
              "      <th>0</th>\n",
              "      <td>What is the Milvus vector database and how can...</td>\n",
              "      <td>[# langchain-milvus\\n\\nThis is a library integ...</td>\n",
              "      <td>The Milvus vector database is a vector databas...</td>\n",
              "      <td>simple</td>\n",
              "      <td>[{'source': 'libs/partners/milvus/README.md', ...</td>\n",
              "      <td>True</td>\n",
              "    </tr>\n",
              "    <tr>\n",
              "      <th>1</th>\n",
              "      <td>What are the key features of Airtable that dif...</td>\n",
              "      <td>[# Airtable\\n\\n&gt;[Airtable](https://en.wikipedi...</td>\n",
              "      <td>Airtable is a spreadsheet-database hybrid that...</td>\n",
              "      <td>simple</td>\n",
              "      <td>[{'source': 'docs/docs/integrations/providers/...</td>\n",
              "      <td>True</td>\n",
              "    </tr>\n",
              "    <tr>\n",
              "      <th>2</th>\n",
              "      <td>How to start &amp; access vertexai-chuck-norris lo...</td>\n",
              "      <td>[\\n# vertexai-chuck-norris\\n\\nThis template ma...</td>\n",
              "      <td>To start the vertexai-chuck-norris local serve...</td>\n",
              "      <td>reasoning</td>\n",
              "      <td>[{'source': 'templates/vertexai-chuck-norris/R...</td>\n",
              "      <td>True</td>\n",
              "    </tr>\n",
              "    <tr>\n",
              "      <th>3</th>\n",
              "      <td>How does Milvus hybrid search in langchain-mil...</td>\n",
              "      <td>[# langchain-milvus\\n\\nThis is a library integ...</td>\n",
              "      <td>The context does not provide information on ho...</td>\n",
              "      <td>multi_context</td>\n",
              "      <td>[{'source': 'libs/partners/milvus/README.md', ...</td>\n",
              "      <td>True</td>\n",
              "    </tr>\n",
              "  </tbody>\n",
              "</table>\n",
              "</div>"
            ],
            "text/plain": [
              "                                            question  \\\n",
              "0  What is the Milvus vector database and how can...   \n",
              "1  What are the key features of Airtable that dif...   \n",
              "2  How to start & access vertexai-chuck-norris lo...   \n",
              "3  How does Milvus hybrid search in langchain-mil...   \n",
              "\n",
              "                                            contexts  \\\n",
              "0  [# langchain-milvus\\n\\nThis is a library integ...   \n",
              "1  [# Airtable\\n\\n>[Airtable](https://en.wikipedi...   \n",
              "2  [\\n# vertexai-chuck-norris\\n\\nThis template ma...   \n",
              "3  [# langchain-milvus\\n\\nThis is a library integ...   \n",
              "\n",
              "                                        ground_truth evolution_type  \\\n",
              "0  The Milvus vector database is a vector databas...         simple   \n",
              "1  Airtable is a spreadsheet-database hybrid that...         simple   \n",
              "2  To start the vertexai-chuck-norris local serve...      reasoning   \n",
              "3  The context does not provide information on ho...  multi_context   \n",
              "\n",
              "                                            metadata  episode_done  \n",
              "0  [{'source': 'libs/partners/milvus/README.md', ...          True  \n",
              "1  [{'source': 'docs/docs/integrations/providers/...          True  \n",
              "2  [{'source': 'templates/vertexai-chuck-norris/R...          True  \n",
              "3  [{'source': 'libs/partners/milvus/README.md', ...          True  "
            ]
          },
          "execution_count": 15,
          "metadata": {},
          "output_type": "execute_result"
        }
      ],
      "source": [
        "testset.to_pandas()"
      ]
    },
    {
      "cell_type": "markdown",
      "metadata": {
        "id": "_PNRkXu0oZ87"
      },
      "source": [
        "### LangSmith의 Dataset 생성\n"
      ]
    },
    {
      "cell_type": "code",
      "execution_count": null,
      "metadata": {
        "id": "Gv286-93oZ87"
      },
      "outputs": [],
      "source": [
        "from langsmith import Client\n",
        "\n",
        "dataset_name = \"agent-book\"\n",
        "\n",
        "client = Client()\n",
        "\n",
        "if client.has_dataset(dataset_name=dataset_name):\n",
        "    client.delete_dataset(dataset_name=dataset_name)\n",
        "\n",
        "dataset = client.create_dataset(dataset_name=dataset_name)"
      ]
    },
    {
      "cell_type": "markdown",
      "metadata": {
        "id": "qNjCCMQHoZ87"
      },
      "source": [
        "### 합성 테스트 데이터 저장\n"
      ]
    },
    {
      "cell_type": "code",
      "execution_count": null,
      "metadata": {
        "id": "_J1Z1qkboZ87"
      },
      "outputs": [],
      "source": [
        "inputs = []\n",
        "outputs = []\n",
        "metadatas = []\n",
        "\n",
        "for testset_record in testset.test_data:\n",
        "    inputs.append(\n",
        "        {\n",
        "            \"question\": testset_record.question,\n",
        "        }\n",
        "    )\n",
        "    outputs.append(\n",
        "        {\n",
        "            \"contexts\": testset_record.contexts,\n",
        "            \"ground_truth\": testset_record.ground_truth,\n",
        "        }\n",
        "    )\n",
        "    metadatas.append(\n",
        "        {\n",
        "            \"source\": testset_record.metadata[0][\"source\"],\n",
        "            \"evolution_type\": testset_record.evolution_type,\n",
        "        }\n",
        "    )"
      ]
    },
    {
      "cell_type": "code",
      "execution_count": null,
      "metadata": {
        "id": "ZtaCO3vloZ87"
      },
      "outputs": [],
      "source": [
        "client.create_examples(\n",
        "    inputs=inputs,\n",
        "    outputs=outputs,\n",
        "    metadata=metadatas,\n",
        "    dataset_id=dataset.id,\n",
        ")"
      ]
    },
    {
      "cell_type": "markdown",
      "metadata": {
        "id": "hVmP4yOToZ88"
      },
      "source": [
        "## 7.5. LangSmith와 Ragas를 활용한 오프라인 평가 구현\n"
      ]
    },
    {
      "cell_type": "markdown",
      "metadata": {
        "id": "ScujV403oZ88"
      },
      "source": [
        "### 커스텀 Evaluator 구현\n"
      ]
    },
    {
      "cell_type": "code",
      "execution_count": null,
      "metadata": {
        "id": "BikeKwOzoZ88"
      },
      "outputs": [],
      "source": [
        "from typing import Any\n",
        "\n",
        "from langchain_core.embeddings import Embeddings\n",
        "from langchain_core.language_models import BaseChatModel\n",
        "from langsmith.schemas import Example, Run\n",
        "from ragas.embeddings import LangchainEmbeddingsWrapper\n",
        "from ragas.llms import LangchainLLMWrapper\n",
        "from ragas.metrics.base import Metric, MetricWithEmbeddings, MetricWithLLM\n",
        "\n",
        "\n",
        "class RagasMetricEvaluator:\n",
        "    def __init__(self, metric: Metric, llm: BaseChatModel, embeddings: Embeddings):\n",
        "        self.metric = metric\n",
        "\n",
        "        # LLM과 Embeddings을 Metric에 설정\n",
        "        if isinstance(self.metric, MetricWithLLM):\n",
        "            self.metric.llm = LangchainLLMWrapper(llm)\n",
        "        if isinstance(self.metric, MetricWithEmbeddings):\n",
        "            self.metric.embeddings = LangchainEmbeddingsWrapper(embeddings)\n",
        "\n",
        "    def evaluate(self, run: Run, example: Example) -> dict[str, Any]:\n",
        "        context_strs = [doc.page_content for doc in run.outputs[\"contexts\"]]\n",
        "\n",
        "        # Ragas의 평가 메트릭의 score 메서드로 점수 산출\n",
        "        score = self.metric.score(\n",
        "            {\n",
        "                \"question\": example.inputs[\"question\"],\n",
        "                \"answer\": run.outputs[\"answer\"],\n",
        "                \"contexts\": context_strs,\n",
        "                \"ground_truth\": example.outputs[\"ground_truth\"],\n",
        "            },\n",
        "        )\n",
        "        return {\"key\": self.metric.name, \"score\": score}"
      ]
    },
    {
      "cell_type": "code",
      "execution_count": null,
      "metadata": {
        "id": "bUtosqw-oZ88"
      },
      "outputs": [],
      "source": [
        "from langchain_openai import ChatOpenAI, OpenAIEmbeddings\n",
        "from ragas.metrics import answer_relevancy, context_precision\n",
        "\n",
        "metrics = [context_precision, answer_relevancy]\n",
        "\n",
        "llm = ChatOpenAI(model=\"gpt-4o\", temperature=0)\n",
        "embeddings = OpenAIEmbeddings(model=\"text-embedding-3-small\")\n",
        "\n",
        "evaluators = [\n",
        "    RagasMetricEvaluator(metric, llm, embeddings).evaluate\n",
        "    for metric in metrics\n",
        "]"
      ]
    },
    {
      "cell_type": "markdown",
      "metadata": {
        "id": "TAeAfETvoZ88"
      },
      "source": [
        "### 추론 함수 구현\n"
      ]
    },
    {
      "cell_type": "code",
      "execution_count": null,
      "metadata": {
        "id": "q_f6awmboZ88"
      },
      "outputs": [
        {
          "name": "stderr",
          "output_type": "stream",
          "text": [
            "Failed to send telemetry event ClientStartEvent: capture() takes 1 positional argument but 3 were given\n",
            "Failed to send telemetry event ClientCreateCollectionEvent: capture() takes 1 positional argument but 3 were given\n"
          ]
        }
      ],
      "source": [
        "from langchain_chroma import Chroma\n",
        "from langchain_openai import OpenAIEmbeddings\n",
        "\n",
        "embeddings = OpenAIEmbeddings(model=\"text-embedding-3-small\")\n",
        "db = Chroma.from_documents(documents, embeddings)"
      ]
    },
    {
      "cell_type": "code",
      "execution_count": null,
      "metadata": {
        "id": "mtUqYHs3oZ88"
      },
      "outputs": [
        {
          "ename": "NameError",
          "evalue": "name 'db' is not defined",
          "output_type": "error",
          "traceback": [
            "\u001b[31m---------------------------------------------------------------------------\u001b[39m",
            "\u001b[31mNameError\u001b[39m                                 Traceback (most recent call last)",
            "\u001b[36mCell\u001b[39m\u001b[36m \u001b[39m\u001b[32mIn[3]\u001b[39m\u001b[32m, line 18\u001b[39m\n\u001b[32m      6\u001b[39m prompt = ChatPromptTemplate.from_template(\u001b[33m'''\u001b[39m\u001b[38;5;130;01m\\\u001b[39;00m\n\u001b[32m      7\u001b[39m \u001b[33m다음 문맥만을 고려해 질문에 답하세요.\u001b[39m\n\u001b[32m      8\u001b[39m \n\u001b[32m   (...)\u001b[39m\u001b[32m     13\u001b[39m \u001b[33m질문: \u001b[39m\u001b[38;5;132;01m{question}\u001b[39;00m\n\u001b[32m     14\u001b[39m \u001b[33m'''\u001b[39m)\n\u001b[32m     16\u001b[39m model = ChatOpenAI(model=\u001b[33m\"\u001b[39m\u001b[33mgpt-4o-mini\u001b[39m\u001b[33m\"\u001b[39m, temperature=\u001b[32m0\u001b[39m)\n\u001b[32m---> \u001b[39m\u001b[32m18\u001b[39m retriever = \u001b[43mdb\u001b[49m.as_retriever()\n\u001b[32m     20\u001b[39m chain = RunnableParallel(\n\u001b[32m     21\u001b[39m     {\n\u001b[32m     22\u001b[39m         \u001b[33m\"\u001b[39m\u001b[33mquestion\u001b[39m\u001b[33m\"\u001b[39m: RunnablePassthrough(),\n\u001b[32m     23\u001b[39m         \u001b[33m\"\u001b[39m\u001b[33mcontext\u001b[39m\u001b[33m\"\u001b[39m: retriever,\n\u001b[32m     24\u001b[39m     }\n\u001b[32m     25\u001b[39m ).assign(answer=prompt | model | StrOutputParser())\n",
            "\u001b[31mNameError\u001b[39m: name 'db' is not defined"
          ]
        }
      ],
      "source": [
        "from langchain_core.output_parsers import StrOutputParser\n",
        "from langchain_core.prompts import ChatPromptTemplate\n",
        "from langchain_core.runnables import RunnableParallel, RunnablePassthrough\n",
        "from langchain_openai import ChatOpenAI\n",
        "\n",
        "prompt = ChatPromptTemplate.from_template('''\\\n",
        "다음 문맥만을 고려해 질문에 답하세요.\n",
        "\n",
        "문맥: \"\"\"\n",
        "{context}\n",
        "\"\"\"\n",
        "\n",
        "질문: {question}\n",
        "''')\n",
        "\n",
        "model = ChatOpenAI(model=\"gpt-4o-mini\", temperature=0)\n",
        "\n",
        "retriever = db.as_retriever()\n",
        "\n",
        "chain = RunnableParallel(\n",
        "    {\n",
        "        \"question\": RunnablePassthrough(),\n",
        "        \"context\": retriever,\n",
        "    }\n",
        ").assign(answer=prompt | model | StrOutputParser())"
      ]
    },
    {
      "cell_type": "code",
      "execution_count": null,
      "metadata": {
        "id": "JmPp6oL5oZ88"
      },
      "outputs": [],
      "source": [
        "def predict(inputs: dict[str, Any]) -> dict[str, Any]:\n",
        "    question = inputs[\"question\"]\n",
        "    output = chain.invoke(question)\n",
        "    return {\n",
        "        \"contexts\": output[\"context\"],\n",
        "        \"answer\": output[\"answer\"],\n",
        "    }"
      ]
    },
    {
      "cell_type": "markdown",
      "metadata": {
        "id": "nr6sF78CoZ88"
      },
      "source": [
        "### 오프라인 평가 구현·실행\n"
      ]
    },
    {
      "cell_type": "code",
      "execution_count": null,
      "metadata": {
        "id": "tXG0SOQeoZ88"
      },
      "outputs": [
        {
          "name": "stdout",
          "output_type": "stream",
          "text": [
            "View the evaluation results for experiment: 'enchanted-case-10' at:\n",
            "https://smith.langchain.com/o/8e65c94f-633f-413a-a8ec-eb44d58ed5fc/datasets/225de56f-7e22-406f-9a9d-5ed3f028b809/compare?selectedSessions=71209035-0e1e-498e-a2b6-1eef77d05235\n",
            "\n",
            "\n"
          ]
        },
        {
          "name": "stderr",
          "output_type": "stream",
          "text": [
            "0it [00:00, ?it/s]Failed to send telemetry event CollectionQueryEvent: capture() takes 1 positional argument but 3 were given\n",
            "4it [00:33,  8.48s/it]\n"
          ]
        },
        {
          "data": {
            "text/html": [
              "<div>\n",
              "<style scoped>\n",
              "    .dataframe tbody tr th:only-of-type {\n",
              "        vertical-align: middle;\n",
              "    }\n",
              "\n",
              "    .dataframe tbody tr th {\n",
              "        vertical-align: top;\n",
              "    }\n",
              "\n",
              "    .dataframe thead th {\n",
              "        text-align: right;\n",
              "    }\n",
              "</style>\n",
              "<table border=\"1\" class=\"dataframe\">\n",
              "  <thead>\n",
              "    <tr style=\"text-align: right;\">\n",
              "      <th></th>\n",
              "      <th>inputs.question</th>\n",
              "      <th>outputs.contexts</th>\n",
              "      <th>outputs.answer</th>\n",
              "      <th>error</th>\n",
              "      <th>reference.contexts</th>\n",
              "      <th>reference.ground_truth</th>\n",
              "      <th>feedback.context_precision</th>\n",
              "      <th>feedback.answer_relevancy</th>\n",
              "      <th>execution_time</th>\n",
              "      <th>example_id</th>\n",
              "      <th>id</th>\n",
              "    </tr>\n",
              "  </thead>\n",
              "  <tbody>\n",
              "    <tr>\n",
              "      <th>0</th>\n",
              "      <td>How does Milvus hybrid search in langchain-mil...</td>\n",
              "      <td>[page_content='# langchain-milvus\\n\\nThis is a...</td>\n",
              "      <td>The context provided does not contain specific...</td>\n",
              "      <td>None</td>\n",
              "      <td>[# langchain-milvus\\n\\nThis is a library integ...</td>\n",
              "      <td>The context does not provide information on ho...</td>\n",
              "      <td>0.000000</td>\n",
              "      <td>0.000000</td>\n",
              "      <td>3.617417</td>\n",
              "      <td>0a4c6d24-ca36-445f-904f-929e8ad64423</td>\n",
              "      <td>60668606-de61-4fb1-8fba-e4f19b0aa97d</td>\n",
              "    </tr>\n",
              "    <tr>\n",
              "      <th>1</th>\n",
              "      <td>What is the Milvus vector database and how can...</td>\n",
              "      <td>[page_content='# langchain-milvus\\n\\nThis is a...</td>\n",
              "      <td>The Milvus vector database is a high-performan...</td>\n",
              "      <td>None</td>\n",
              "      <td>[# langchain-milvus\\n\\nThis is a library integ...</td>\n",
              "      <td>The Milvus vector database is a vector databas...</td>\n",
              "      <td>1.000000</td>\n",
              "      <td>0.965116</td>\n",
              "      <td>6.586956</td>\n",
              "      <td>91bc5f59-fcef-4c8a-af17-0cc36b8e4a1f</td>\n",
              "      <td>4044b452-59e6-47e1-827e-d49c45d82887</td>\n",
              "    </tr>\n",
              "    <tr>\n",
              "      <th>2</th>\n",
              "      <td>How to start &amp; access vertexai-chuck-norris lo...</td>\n",
              "      <td>[page_content='\\n# vertexai-chuck-norris\\n\\nTh...</td>\n",
              "      <td>To start and access the `vertexai-chuck-norris...</td>\n",
              "      <td>None</td>\n",
              "      <td>[\\n# vertexai-chuck-norris\\n\\nThis template ma...</td>\n",
              "      <td>To start the vertexai-chuck-norris local serve...</td>\n",
              "      <td>0.805556</td>\n",
              "      <td>0.965608</td>\n",
              "      <td>11.147836</td>\n",
              "      <td>b96c61f0-12b0-4bb5-a68b-723e9d521e01</td>\n",
              "      <td>b3c14c28-a8e6-4c87-8bd8-70d0a7858f29</td>\n",
              "    </tr>\n",
              "    <tr>\n",
              "      <th>3</th>\n",
              "      <td>What are the key features of Airtable that dif...</td>\n",
              "      <td>[page_content='# Airtable\\n\\n&gt;[Airtable](https...</td>\n",
              "      <td>Airtable differentiates itself from a traditio...</td>\n",
              "      <td>None</td>\n",
              "      <td>[# Airtable\\n\\n&gt;[Airtable](https://en.wikipedi...</td>\n",
              "      <td>Airtable is a spreadsheet-database hybrid that...</td>\n",
              "      <td>1.000000</td>\n",
              "      <td>0.939072</td>\n",
              "      <td>8.094627</td>\n",
              "      <td>361d850c-c54b-4c10-b8ba-25ba08d417c7</td>\n",
              "      <td>84e4eab9-e9d9-4521-9078-6f01a9805f96</td>\n",
              "    </tr>\n",
              "  </tbody>\n",
              "</table>\n",
              "</div>"
            ],
            "text/plain": [
              "<ExperimentResults enchanted-case-10>"
            ]
          },
          "execution_count": 24,
          "metadata": {},
          "output_type": "execute_result"
        }
      ],
      "source": [
        "from langsmith.evaluation import evaluate\n",
        "\n",
        "evaluate(\n",
        "    predict,\n",
        "    data=\"agent-book\",\n",
        "    evaluators=evaluators,\n",
        ")"
      ]
    },
    {
      "cell_type": "markdown",
      "metadata": {
        "id": "kOXerRwyoZ89"
      },
      "source": [
        "## LangSmith를 활용한 온라인 평가 구현\n"
      ]
    },
    {
      "cell_type": "markdown",
      "metadata": {
        "id": "Rwu4vrx3oZ89"
      },
      "source": [
        "### 피드백 버튼을 표시하는 함수 구현\n"
      ]
    },
    {
      "cell_type": "code",
      "execution_count": null,
      "metadata": {},
      "outputs": [
        {
          "name": "stdout",
          "output_type": "stream",
          "text": [
            "Requirement already satisfied: uuid in /Users/youngbeom-rhee/Repositories/study/llm-agent/.venv/lib/python3.12/site-packages (1.30)\n",
            "Collecting ipywidgets\n",
            "  Downloading ipywidgets-8.1.7-py3-none-any.whl.metadata (2.4 kB)\n",
            "Requirement already satisfied: comm>=0.1.3 in /Users/youngbeom-rhee/Repositories/study/llm-agent/.venv/lib/python3.12/site-packages (from ipywidgets) (0.2.3)\n",
            "Requirement already satisfied: ipython>=6.1.0 in /Users/youngbeom-rhee/Repositories/study/llm-agent/.venv/lib/python3.12/site-packages (from ipywidgets) (9.6.0)\n",
            "Requirement already satisfied: traitlets>=4.3.1 in /Users/youngbeom-rhee/Repositories/study/llm-agent/.venv/lib/python3.12/site-packages (from ipywidgets) (5.14.3)\n",
            "Collecting widgetsnbextension~=4.0.14 (from ipywidgets)\n",
            "  Downloading widgetsnbextension-4.0.14-py3-none-any.whl.metadata (1.6 kB)\n",
            "Collecting jupyterlab_widgets~=3.0.15 (from ipywidgets)\n",
            "  Downloading jupyterlab_widgets-3.0.15-py3-none-any.whl.metadata (20 kB)\n",
            "Requirement already satisfied: decorator in /Users/youngbeom-rhee/Repositories/study/llm-agent/.venv/lib/python3.12/site-packages (from ipython>=6.1.0->ipywidgets) (5.2.1)\n",
            "Requirement already satisfied: ipython-pygments-lexers in /Users/youngbeom-rhee/Repositories/study/llm-agent/.venv/lib/python3.12/site-packages (from ipython>=6.1.0->ipywidgets) (1.1.1)\n",
            "Requirement already satisfied: jedi>=0.16 in /Users/youngbeom-rhee/Repositories/study/llm-agent/.venv/lib/python3.12/site-packages (from ipython>=6.1.0->ipywidgets) (0.19.2)\n",
            "Requirement already satisfied: matplotlib-inline in /Users/youngbeom-rhee/Repositories/study/llm-agent/.venv/lib/python3.12/site-packages (from ipython>=6.1.0->ipywidgets) (0.1.7)\n",
            "Requirement already satisfied: pexpect>4.3 in /Users/youngbeom-rhee/Repositories/study/llm-agent/.venv/lib/python3.12/site-packages (from ipython>=6.1.0->ipywidgets) (4.9.0)\n",
            "Requirement already satisfied: prompt_toolkit<3.1.0,>=3.0.41 in /Users/youngbeom-rhee/Repositories/study/llm-agent/.venv/lib/python3.12/site-packages (from ipython>=6.1.0->ipywidgets) (3.0.52)\n",
            "Requirement already satisfied: pygments>=2.4.0 in /Users/youngbeom-rhee/Repositories/study/llm-agent/.venv/lib/python3.12/site-packages (from ipython>=6.1.0->ipywidgets) (2.19.2)\n",
            "Requirement already satisfied: stack_data in /Users/youngbeom-rhee/Repositories/study/llm-agent/.venv/lib/python3.12/site-packages (from ipython>=6.1.0->ipywidgets) (0.6.3)\n",
            "Requirement already satisfied: wcwidth in /Users/youngbeom-rhee/Repositories/study/llm-agent/.venv/lib/python3.12/site-packages (from prompt_toolkit<3.1.0,>=3.0.41->ipython>=6.1.0->ipywidgets) (0.2.14)\n",
            "Requirement already satisfied: parso<0.9.0,>=0.8.4 in /Users/youngbeom-rhee/Repositories/study/llm-agent/.venv/lib/python3.12/site-packages (from jedi>=0.16->ipython>=6.1.0->ipywidgets) (0.8.5)\n",
            "Requirement already satisfied: ptyprocess>=0.5 in /Users/youngbeom-rhee/Repositories/study/llm-agent/.venv/lib/python3.12/site-packages (from pexpect>4.3->ipython>=6.1.0->ipywidgets) (0.7.0)\n",
            "Requirement already satisfied: executing>=1.2.0 in /Users/youngbeom-rhee/Repositories/study/llm-agent/.venv/lib/python3.12/site-packages (from stack_data->ipython>=6.1.0->ipywidgets) (2.2.1)\n",
            "Requirement already satisfied: asttokens>=2.1.0 in /Users/youngbeom-rhee/Repositories/study/llm-agent/.venv/lib/python3.12/site-packages (from stack_data->ipython>=6.1.0->ipywidgets) (3.0.0)\n",
            "Requirement already satisfied: pure-eval in /Users/youngbeom-rhee/Repositories/study/llm-agent/.venv/lib/python3.12/site-packages (from stack_data->ipython>=6.1.0->ipywidgets) (0.2.3)\n",
            "Downloading ipywidgets-8.1.7-py3-none-any.whl (139 kB)\n",
            "Downloading jupyterlab_widgets-3.0.15-py3-none-any.whl (216 kB)\n",
            "Downloading widgetsnbextension-4.0.14-py3-none-any.whl (2.2 MB)\n",
            "\u001b[2K   \u001b[90m━━━━━━━━━━━━━━━━━━━━━━━━━━━━━━━━━━━━━━━━\u001b[0m \u001b[32m2.2/2.2 MB\u001b[0m \u001b[31m57.1 MB/s\u001b[0m  \u001b[33m0:00:00\u001b[0m\n",
            "\u001b[?25hInstalling collected packages: widgetsnbextension, jupyterlab_widgets, ipywidgets\n",
            "\u001b[2K   \u001b[90m━━━━━━━━━━━━━━━━━━━━━━━━━━━━━━━━━━━━━━━━\u001b[0m \u001b[32m3/3\u001b[0m [ipywidgets]3\u001b[0m [ipywidgets]\n",
            "\u001b[1A\u001b[2KSuccessfully installed ipywidgets-8.1.7 jupyterlab_widgets-3.0.15 widgetsnbextension-4.0.14\n"
          ]
        }
      ],
      "source": [
        "!pip install uuid ipywidgets"
      ]
    },
    {
      "cell_type": "code",
      "execution_count": null,
      "metadata": {
        "id": "Rxc3F8pyoZ89"
      },
      "outputs": [],
      "source": [
        "from uuid import UUID\n",
        "\n",
        "import ipywidgets as widgets\n",
        "from IPython.display import display\n",
        "from langsmith import Client\n",
        "\n",
        "\n",
        "def display_feedback_buttons(run_id: UUID) -> None:\n",
        "    # Good 버튼과 Bad 버튼 준비\n",
        "    good_button = widgets.Button(\n",
        "        description=\"Good\",\n",
        "        button_style=\"success\",\n",
        "        icon=\"thumbs-up\",\n",
        "    )\n",
        "    bad_button = widgets.Button(\n",
        "        description=\"Bad\",\n",
        "        button_style=\"danger\",\n",
        "        icon=\"thumbs-down\",\n",
        "    )\n",
        "\n",
        "    # 클릭 시 실행될 함수 정의\n",
        "    def on_button_clicked(button: widgets.Button) -> None:\n",
        "        if button == good_button:\n",
        "            score = 1\n",
        "        elif button == bad_button:\n",
        "            score = 0\n",
        "        else:\n",
        "            raise ValueError(f\"Unknown button: {button}\")\n",
        "\n",
        "        client = Client()\n",
        "        client.create_feedback(run_id=run_id, key=\"thumbs\", score=score)\n",
        "        print(\"피드백을 전송했습니다\")\n",
        "\n",
        "    # 버튼 클릭 시 on_button_clicked 함수 실행\n",
        "    good_button.on_click(on_button_clicked)\n",
        "    bad_button.on_click(on_button_clicked)\n",
        "\n",
        "    # 버튼 표시\n",
        "    display(good_button, bad_button)"
      ]
    },
    {
      "cell_type": "markdown",
      "metadata": {
        "id": "is8nKteHoZ89"
      },
      "source": [
        "### 피드백 버튼 표시\n"
      ]
    },
    {
      "cell_type": "code",
      "execution_count": null,
      "metadata": {
        "id": "Rzqyu0aDoZ89"
      },
      "outputs": [
        {
          "ename": "NameError",
          "evalue": "name 'chain' is not defined",
          "output_type": "error",
          "traceback": [
            "\u001b[31m---------------------------------------------------------------------------\u001b[39m",
            "\u001b[31mNameError\u001b[39m                                 Traceback (most recent call last)",
            "\u001b[36mCell\u001b[39m\u001b[36m \u001b[39m\u001b[32mIn[2]\u001b[39m\u001b[32m, line 5\u001b[39m\n\u001b[32m      3\u001b[39m \u001b[38;5;66;03m# LangSmith의 트레이스 ID(Run ID)를 가져오기 위해 collect_runs 함수 사용\u001b[39;00m\n\u001b[32m      4\u001b[39m \u001b[38;5;28;01mwith\u001b[39;00m collect_runs() \u001b[38;5;28;01mas\u001b[39;00m runs_cb:\n\u001b[32m----> \u001b[39m\u001b[32m5\u001b[39m     output = \u001b[43mchain\u001b[49m.invoke(\u001b[33m\"\u001b[39m\u001b[33mLangChain의 개요를 알려줘\u001b[39m\u001b[33m\"\u001b[39m)\n\u001b[32m      6\u001b[39m     \u001b[38;5;28mprint\u001b[39m(output[\u001b[33m\"\u001b[39m\u001b[33manswer\u001b[39m\u001b[33m\"\u001b[39m])\n\u001b[32m      7\u001b[39m     run_id = runs_cb.traced_runs[\u001b[32m0\u001b[39m].id\n",
            "\u001b[31mNameError\u001b[39m: name 'chain' is not defined"
          ]
        }
      ],
      "source": [
        "from langchain_core.tracers.context import collect_runs\n",
        "\n",
        "# LangSmith의 트레이스 ID(Run ID)를 가져오기 위해 collect_runs 함수 사용\n",
        "with collect_runs() as runs_cb:\n",
        "    output = chain.invoke(\"LangChain의 개요를 알려줘\")\n",
        "    print(output[\"answer\"])\n",
        "    run_id = runs_cb.traced_runs[0].id\n",
        "\n",
        "display_feedback_buttons(run_id)"
      ]
    }
  ],
  "metadata": {
    "colab": {
      "provenance": []
    },
    "kernelspec": {
      "display_name": ".venv",
      "language": "python",
      "name": "python3"
    },
    "language_info": {
      "codemirror_mode": {
        "name": "ipython",
        "version": 3
      },
      "file_extension": ".py",
      "mimetype": "text/x-python",
      "name": "python",
      "nbconvert_exporter": "python",
      "pygments_lexer": "ipython3",
      "version": "3.12.9"
    }
  },
  "nbformat": 4,
  "nbformat_minor": 0
}
