{
 "cells": [
  {
   "cell_type": "markdown",
   "metadata": {
    "id": "4EoZtMECpM1l"
   },
   "source": [
    "# 4. LangChain 기초\n"
   ]
  },
  {
   "cell_type": "code",
   "execution_count": null,
   "metadata": {
    "id": "Iv5Q9gd9pM1m"
   },
   "outputs": [],
   "source": [
    "#  코랩사용시\n",
    "# import os\n",
    "# from google.colab import userdata\n",
    "\n",
    "# os.environ[\"OPENAI_API_KEY\"] = userdata.get(\"OPENAI_API_KEY\")"
   ]
  },
  {
   "cell_type": "code",
   "execution_count": 1,
   "metadata": {},
   "outputs": [],
   "source": [
    "# 로컬 구동시\n",
    "import os\n",
    "from dotenv import load_dotenv\n",
    "\n",
    "load_dotenv()\n",
    "\n",
    "os.environ[\"OPENAI_API_KEY\"] = os.getenv(\"OPENAI_API_KEY\")"
   ]
  },
  {
   "cell_type": "markdown",
   "metadata": {
    "id": "Bnl6fMJwpM1m"
   },
   "source": [
    "## 4.1. LangChain 개요\n"
   ]
  },
  {
   "cell_type": "markdown",
   "metadata": {
    "id": "-cy5h8brpM1m"
   },
   "source": [
    "### LangChain 설치\n"
   ]
  },
  {
   "cell_type": "code",
   "execution_count": null,
   "metadata": {
    "colab": {
     "base_uri": "https://localhost:8080/"
    },
    "id": "J68jaPsUpM1m",
    "outputId": "5acf1203-ebcb-47fa-ed96-f7fd18c41274"
   },
   "outputs": [],
   "source": [
    "!pip install langchain-core==0.3.0 langchain-openai==0.2.0 pydantic==2.9.2"
   ]
  },
  {
   "cell_type": "markdown",
   "metadata": {
    "id": "7kSjPI8lpM1m"
   },
   "source": [
    "### LangSmith 설정\n"
   ]
  },
  {
   "cell_type": "code",
   "execution_count": 3,
   "metadata": {
    "execution": {
     "iopub.execute_input": "2024-06-28T02:32:34.489407Z",
     "iopub.status.busy": "2024-06-28T02:32:34.488775Z",
     "iopub.status.idle": "2024-06-28T02:32:34.491583Z",
     "shell.execute_reply": "2024-06-28T02:32:34.491086Z"
    },
    "id": "4qy2JIE6pM1m"
   },
   "outputs": [],
   "source": [
    "os.environ[\"LANGCHAIN_TRACING_V2\"] = \"true\"\n",
    "os.environ[\"LANGCHAIN_ENDPOINT\"] = \"https://api.smith.langchain.com\"\n",
    "# 코랩사용시\n",
    "# os.environ[\"LANGCHAIN_API_KEY\"] = userdata.get(\"LANGCHAIN_API_KEY\")\n",
    "# 로컬 구동시\n",
    "os.environ[\"LANGCHAIN_API_KEY\"] = os.getenv(\"LANGCHAIN_API_KEY\")\n",
    "os.environ[\"LANGCHAIN_PROJECT\"] = \"agent-book\""
   ]
  },
  {
   "cell_type": "markdown",
   "metadata": {
    "id": "MoPUgAVepM1m"
   },
   "source": [
    "## 4.2. LLM / Chat model\n"
   ]
  },
  {
   "cell_type": "markdown",
   "metadata": {
    "id": "MTyaGeDrpM1m"
   },
   "source": [
    "### LLM\n"
   ]
  },
  {
   "cell_type": "code",
   "execution_count": 4,
   "metadata": {
    "colab": {
     "base_uri": "https://localhost:8080/"
    },
    "execution": {
     "iopub.execute_input": "2024-06-28T02:32:34.493540Z",
     "iopub.status.busy": "2024-06-28T02:32:34.493370Z",
     "iopub.status.idle": "2024-06-28T02:32:36.949739Z",
     "shell.execute_reply": "2024-06-28T02:32:36.949284Z"
    },
    "id": "cNEN3c_DpM1n",
    "outputId": "7fca5137-ecf2-486c-f29d-e0a77c7148b9"
   },
   "outputs": [
    {
     "name": "stdout",
     "output_type": "stream",
     "text": [
      "\n",
      "\n",
      "안녕하세요. 반가워요.\n"
     ]
    }
   ],
   "source": [
    "from langchain_openai import OpenAI\n",
    "\n",
    "model = OpenAI(model=\"gpt-3.5-turbo-instruct\", temperature=0)\n",
    "ai_message = model.invoke(\"안녕하세요. \")\n",
    "print(ai_message)"
   ]
  },
  {
   "cell_type": "markdown",
   "metadata": {
    "id": "eGTk9AMopM1n"
   },
   "source": [
    "### Chat model\n"
   ]
  },
  {
   "cell_type": "code",
   "execution_count": 5,
   "metadata": {
    "colab": {
     "base_uri": "https://localhost:8080/"
    },
    "execution": {
     "iopub.execute_input": "2024-06-28T02:32:36.951724Z",
     "iopub.status.busy": "2024-06-28T02:32:36.951536Z",
     "iopub.status.idle": "2024-06-28T02:32:39.034259Z",
     "shell.execute_reply": "2024-06-28T02:32:39.033764Z"
    },
    "id": "Sv8QMiS7pM1n",
    "outputId": "82f1111e-f2a3-42a5-831c-e6970db51590"
   },
   "outputs": [
    {
     "name": "stdout",
     "output_type": "stream",
     "text": [
      "네, 이영범님이라고 말씀하셨습니다. 어떻게 도와드릴까요?\n"
     ]
    }
   ],
   "source": [
    "from langchain_core.messages import AIMessage, HumanMessage, SystemMessage\n",
    "from langchain_openai import ChatOpenAI\n",
    "\n",
    "model = ChatOpenAI(model=\"gpt-4o-mini\", temperature=0)\n",
    "\n",
    "messages = [\n",
    "    SystemMessage(\"You are a helpful assistant.\"),\n",
    "    HumanMessage(\"안녕하세요! 저는 이영범이라고 합니다!\"),\n",
    "    AIMessage(content=\"안녕하세요, 이영범님! 어떤 도움이 필요하신가요?\"),\n",
    "    HumanMessage(content=\"제 이름을 아시나요?\"),\n",
    "]\n",
    "\n",
    "ai_message = model.invoke(messages)\n",
    "print(ai_message.content)"
   ]
  },
  {
   "cell_type": "markdown",
   "metadata": {
    "id": "6IZNoabGpM1n"
   },
   "source": [
    "### 스트리밍\n"
   ]
  },
  {
   "cell_type": "code",
   "execution_count": 6,
   "metadata": {
    "colab": {
     "base_uri": "https://localhost:8080/"
    },
    "execution": {
     "iopub.execute_input": "2024-06-28T02:32:39.036893Z",
     "iopub.status.busy": "2024-06-28T02:32:39.036468Z",
     "iopub.status.idle": "2024-06-28T02:32:40.188998Z",
     "shell.execute_reply": "2024-06-28T02:32:40.188511Z"
    },
    "id": "JQaPmIZJpM1n",
    "outputId": "82b96830-2ddf-486c-af09-d3d6a0882814"
   },
   "outputs": [
    {
     "name": "stdout",
     "output_type": "stream",
     "text": [
      "안녕하세요! 어떻게 도와드릴까요?"
     ]
    }
   ],
   "source": [
    "from langchain_core.messages import SystemMessage, HumanMessage\n",
    "from langchain_openai import ChatOpenAI\n",
    "\n",
    "model = ChatOpenAI(model=\"gpt-4o-mini\", temperature=0)\n",
    "\n",
    "messages = [\n",
    "    SystemMessage(\"You are a helpful assistant.\"),\n",
    "    HumanMessage(\"안녕하세요!\"),\n",
    "]\n",
    "\n",
    "for chunk in model.stream(messages):\n",
    "    print(chunk.content, end=\"\", flush=True)"
   ]
  },
  {
   "cell_type": "markdown",
   "metadata": {
    "id": "748HOmKcpM1n"
   },
   "source": [
    "## 4.3. Prompt template\n"
   ]
  },
  {
   "cell_type": "markdown",
   "metadata": {
    "id": "HGZbTcrCpM1n"
   },
   "source": [
    "### PromptTemplate\n"
   ]
  },
  {
   "cell_type": "code",
   "execution_count": 9,
   "metadata": {
    "colab": {
     "base_uri": "https://localhost:8080/"
    },
    "execution": {
     "iopub.execute_input": "2024-06-28T02:32:40.191537Z",
     "iopub.status.busy": "2024-06-28T02:32:40.191222Z",
     "iopub.status.idle": "2024-06-28T02:32:40.197096Z",
     "shell.execute_reply": "2024-06-28T02:32:40.196704Z"
    },
    "id": "WUavdGF_pM1n",
    "outputId": "ddca107d-43a5-4956-e8ae-b8c8b5d2bd98"
   },
   "outputs": [
    {
     "name": "stdout",
     "output_type": "stream",
     "text": [
      "다음 요리의 레시피를 생각해 주세요.\n",
      "\n",
      "요리명: 곰탕\n"
     ]
    }
   ],
   "source": [
    "from langchain_core.prompts import PromptTemplate\n",
    "\n",
    "prompt = PromptTemplate.from_template(\"\"\"다음 요리의 레시피를 생각해 주세요.\n",
    "\n",
    "요리명: {dish}\"\"\")\n",
    "\n",
    "prompt_value = prompt.invoke({\"dish\": \"곰탕\"})\n",
    "print(prompt_value.text)"
   ]
  },
  {
   "cell_type": "markdown",
   "metadata": {
    "id": "l7xn8Wn_pM1n"
   },
   "source": [
    "#### ＜보충: 프롬프트 변수가 1개인 경우＞\n"
   ]
  },
  {
   "cell_type": "code",
   "execution_count": 10,
   "metadata": {
    "colab": {
     "base_uri": "https://localhost:8080/"
    },
    "id": "9ORP--QppM1n",
    "outputId": "5523ffad-ddbb-4a3f-a3b8-f5f6393d110e"
   },
   "outputs": [
    {
     "name": "stdout",
     "output_type": "stream",
     "text": [
      "다음 요리의 레시피를 생각해 주세요.\n",
      "\n",
      "요리명: 불고기\n"
     ]
    }
   ],
   "source": [
    "prompt_value = prompt.invoke(\"불고기\")\n",
    "print(prompt_value.text)"
   ]
  },
  {
   "cell_type": "markdown",
   "metadata": {
    "id": "qldqXkC2pM1n"
   },
   "source": [
    "### ChatPromptTemplate\n"
   ]
  },
  {
   "cell_type": "code",
   "execution_count": 11,
   "metadata": {
    "colab": {
     "base_uri": "https://localhost:8080/"
    },
    "execution": {
     "iopub.execute_input": "2024-06-28T02:32:40.199009Z",
     "iopub.status.busy": "2024-06-28T02:32:40.198811Z",
     "iopub.status.idle": "2024-06-28T02:32:40.204792Z",
     "shell.execute_reply": "2024-06-28T02:32:40.204434Z"
    },
    "id": "wd3KIQRZpM1n",
    "outputId": "bb2de7a8-ad8b-44d4-e8e0-b062ee6672c1"
   },
   "outputs": [
    {
     "name": "stdout",
     "output_type": "stream",
     "text": [
      "messages=[SystemMessage(content='사용자가 입력한 요리의 레시피를 생각해 주세요.', additional_kwargs={}, response_metadata={}), HumanMessage(content='된장찌게', additional_kwargs={}, response_metadata={})]\n"
     ]
    }
   ],
   "source": [
    "from langchain_core.prompts import ChatPromptTemplate\n",
    "\n",
    "prompt = ChatPromptTemplate.from_messages(\n",
    "    [\n",
    "        (\"system\", \"사용자가 입력한 요리의 레시피를 생각해 주세요.\"),\n",
    "        (\"human\", \"{dish}\"),\n",
    "    ]\n",
    ")\n",
    "\n",
    "prompt_value = prompt.invoke({\"dish\": \"된장찌게\"})\n",
    "print(prompt_value)"
   ]
  },
  {
   "cell_type": "markdown",
   "metadata": {
    "id": "5q2lKNhcpM1n"
   },
   "source": [
    "### MessagesPlaceholder\n",
    "대화 이력처럼 여러 메시지가 들어가는 langchain의 플레이스 홀더"
   ]
  },
  {
   "cell_type": "code",
   "execution_count": null,
   "metadata": {
    "colab": {
     "base_uri": "https://localhost:8080/"
    },
    "execution": {
     "iopub.execute_input": "2024-06-28T02:32:40.206823Z",
     "iopub.status.busy": "2024-06-28T02:32:40.206639Z",
     "iopub.status.idle": "2024-06-28T02:32:40.213139Z",
     "shell.execute_reply": "2024-06-28T02:32:40.212764Z"
    },
    "id": "lZ-0WUPEpM1n",
    "outputId": "04c2f5c9-814a-4ba5-bdaf-6e6521c5cf2c"
   },
   "outputs": [
    {
     "name": "stdout",
     "output_type": "stream",
     "text": [
      "messages=[SystemMessage(content='You are a helpful assistant.', additional_kwargs={}, response_metadata={}), HumanMessage(content='안녕하세요! 저는 존이라고 합니다!', additional_kwargs={}, response_metadata={}), AIMessage(content='안녕하세요, 존님! 어떻게 도와드릴까요?', additional_kwargs={}, response_metadata={}), HumanMessage(content='제 이름을 아시나요?', additional_kwargs={}, response_metadata={})]\n"
     ]
    }
   ],
   "source": [
    "from langchain_core.messages import AIMessage, HumanMessage\n",
    "from langchain_core.prompts import ChatPromptTemplate, MessagesPlaceholder\n",
    "\n",
    "prompt = ChatPromptTemplate.from_messages(\n",
    "    [\n",
    "        (\"system\", \"You are a helpful assistant.\"),\n",
    "        MessagesPlaceholder(\"chat_history\", optional=True),\n",
    "        (\"human\", \"{input}\"),\n",
    "    ]\n",
    ")\n",
    "\n",
    "prompt_value = prompt.invoke(\n",
    "    {\n",
    "        \"chat_history\": [\n",
    "            HumanMessage(content=\"안녕하세요! 저는 이영범이라고 합니다!\"),\n",
    "            AIMessage(\"안녕하세요, 이영범님! 어떻게 도와드릴까요?\"),\n",
    "        ],\n",
    "        \"input\": \"제 이름을 아시나요?\",\n",
    "    }\n",
    ")\n",
    "print(prompt_value)"
   ]
  },
  {
   "cell_type": "markdown",
   "metadata": {
    "id": "X1Dpk-RCpM1n"
   },
   "source": [
    "### LangSmith의 Prompts\n"
   ]
  },
  {
   "cell_type": "code",
   "execution_count": 13,
   "metadata": {
    "colab": {
     "base_uri": "https://localhost:8080/"
    },
    "execution": {
     "iopub.execute_input": "2024-06-28T02:32:40.215357Z",
     "iopub.status.busy": "2024-06-28T02:32:40.215034Z",
     "iopub.status.idle": "2024-06-28T02:32:40.850572Z",
     "shell.execute_reply": "2024-06-28T02:32:40.850086Z"
    },
    "id": "Vhj7xU4xpM1n",
    "outputId": "66f4d6c6-0e38-47f6-ed98-3ea8f3c8a0aa"
   },
   "outputs": [
    {
     "name": "stderr",
     "output_type": "stream",
     "text": [
      "/Library/Frameworks/Python.framework/Versions/3.12/lib/python3.12/json/decoder.py:337: UserWarning: WARNING! extra_headers is not default parameter.\n",
      "                extra_headers was transferred to model_kwargs.\n",
      "                Please confirm that extra_headers is what you intended.\n",
      "  obj, end = self.raw_decode(s, idx=_w(s, 0).end())\n"
     ]
    },
    {
     "name": "stdout",
     "output_type": "stream",
     "text": [
      "content='엔비디아 창업자 겸 CEO 젠슨 황은 GPU·CUDA 생태계를 확장해 딥러닝 학습·추론을 가속하고 DGX·A100·cuDNN·TensorRT 등 하드웨어·소프트웨어 통합으로 연구와 산업의 AI 혁신을 촉진했다.' additional_kwargs={'refusal': None} response_metadata={'token_usage': {'completion_tokens': 1042, 'prompt_tokens': 69, 'total_tokens': 1111, 'prompt_tokens_details': {'cached_tokens': 0, 'audio_tokens': 0}, 'completion_tokens_details': {'reasoning_tokens': 960, 'audio_tokens': 0, 'accepted_prediction_tokens': 0, 'rejected_prediction_tokens': 0}}, 'model_name': 'gpt-5-mini-2025-08-07', 'system_fingerprint': None, 'finish_reason': 'stop', 'logprobs': None} id='run-bba330e7-c7da-4882-81ab-c931629ef8b9-0' usage_metadata={'input_tokens': 69, 'output_tokens': 1042, 'total_tokens': 1111}\n"
     ]
    }
   ],
   "source": [
    "from langsmith import Client\n",
    "\n",
    "# client = Client()\n",
    "# prompt = client.pull_prompt(\"ychoi/recipe\")\n",
    "\n",
    "# prompt_value = prompt.invoke({\"dish\": \"카레\"})\n",
    "\n",
    "client = Client(api_key=os.getenv(\"LANGCHAIN_API_KEY\"))\n",
    "# 당신은 뛰어난 해설가입니다. 전달되는 단어를 최소 100자, 최대 200자 이내로 설명해주세요. 지식을 확장할 수 있도록 중요한 개념이나 사실을 언급해 주세요.\n",
    "prompt = client.pull_prompt(\"test\", include_model=True)\n",
    "\n",
    "prompt_value = prompt.invoke({\"word\": \"젠슨황이 AI 시대에 기여한 점\"})\n",
    "print(prompt_value)"
   ]
  },
  {
   "cell_type": "markdown",
   "metadata": {
    "id": "rsQDtY6RpM1n"
   },
   "source": [
    "### (칼럼) 멀티모달 모델의 입력 처리\n"
   ]
  },
  {
   "cell_type": "code",
   "execution_count": 17,
   "metadata": {
    "execution": {
     "iopub.execute_input": "2024-06-28T02:32:40.852551Z",
     "iopub.status.busy": "2024-06-28T02:32:40.852328Z",
     "iopub.status.idle": "2024-06-28T02:32:40.984619Z",
     "shell.execute_reply": "2024-06-28T02:32:40.984231Z"
    },
    "id": "odMiiuOopM1n"
   },
   "outputs": [],
   "source": [
    "from langchain_core.prompts import ChatPromptTemplate\n",
    "from langchain_openai import ChatOpenAI\n",
    "\n",
    "prompt = ChatPromptTemplate.from_messages(\n",
    "    [\n",
    "        (\n",
    "            \"user\",\n",
    "            [\n",
    "                {\"type\": \"text\", \"text\": \"이미지를 설명해 주세요.\"},\n",
    "                {\"type\": \"image_url\", \"image_url\": {\"url\": \"{image_url}\"}},\n",
    "            ],\n",
    "        ),\n",
    "    ]\n",
    ")\n",
    "image_url = \"https://raw.githubusercontent.com/ychoi-kr/langchain-book/main/cover.jpg\"\n",
    "\n",
    "prompt_value = prompt.invoke({\"image_url\": image_url})"
   ]
  },
  {
   "cell_type": "code",
   "execution_count": null,
   "metadata": {
    "colab": {
     "base_uri": "https://localhost:8080/"
    },
    "execution": {
     "iopub.execute_input": "2024-06-28T02:32:40.986542Z",
     "iopub.status.busy": "2024-06-28T02:32:40.986385Z",
     "iopub.status.idle": "2024-06-28T02:32:49.421870Z",
     "shell.execute_reply": "2024-06-28T02:32:49.421368Z"
    },
    "id": "7auzQZh3pM1n",
    "outputId": "6d5b3a77-ce21-42fb-cafe-633decb381d9"
   },
   "outputs": [
    {
     "name": "stdout",
     "output_type": "stream",
     "text": [
      "이 이미지는 책 표지입니다. 제목은 \"챗GPT와 랭체인을 활용한 LLM 기반 AI 앱 개발\"입니다. 표지에는 벌 모양의 종이접기 도안이 그려져 있으며, 노란색과 파란색 줄무늬가 특징입니다. 책은 랭체인과 LLM 애플리케이션 구축에 관한 내용을 다루고 있는 것으로 보입니다.\n"
     ]
    }
   ],
   "source": [
    "model = ChatOpenAI(model=\"gpt-4o\", temperature=0)\n",
    "ai_message = model.invoke(prompt_value)\n",
    "print(ai_message.content)"
   ]
  },
  {
   "cell_type": "markdown",
   "metadata": {
    "id": "ZEgVaWPdpM1n"
   },
   "source": [
    "## 4.4. Output parser\n"
   ]
  },
  {
   "cell_type": "markdown",
   "metadata": {
    "id": "naUnEl_mpM1n"
   },
   "source": [
    "### PydanticOutputParser를 사용한 Python 객체 변환\n",
    "LLM의 출력을 Python 객체로 변환 가능 -> 추후에 등장할 with_structured_output을 사용하는 것을 권장"
   ]
  },
  {
   "cell_type": "code",
   "execution_count": null,
   "metadata": {
    "execution": {
     "iopub.execute_input": "2024-06-28T02:32:49.423970Z",
     "iopub.status.busy": "2024-06-28T02:32:49.423805Z",
     "iopub.status.idle": "2024-06-28T02:32:49.427124Z",
     "shell.execute_reply": "2024-06-28T02:32:49.426747Z"
    },
    "id": "_E4lcbRqpM1n"
   },
   "outputs": [],
   "source": [
    "from pydantic import BaseModel, Field\n",
    "\n",
    "# 레시피 모델 정의\n",
    "class Recipe(BaseModel):\n",
    "    ingredients: list[str] = Field(description=\"ingredients of the dish\")\n",
    "    steps: list[str] = Field(description=\"steps to make the dish\")"
   ]
  },
  {
   "cell_type": "code",
   "execution_count": 15,
   "metadata": {
    "execution": {
     "iopub.execute_input": "2024-06-28T02:32:49.428896Z",
     "iopub.status.busy": "2024-06-28T02:32:49.428630Z",
     "iopub.status.idle": "2024-06-28T02:32:49.430921Z",
     "shell.execute_reply": "2024-06-28T02:32:49.430585Z"
    },
    "id": "0F4oTh9spM1n"
   },
   "outputs": [],
   "source": [
    "from langchain_core.output_parsers import PydanticOutputParser\n",
    "\n",
    "output_parser = PydanticOutputParser(pydantic_object=Recipe)"
   ]
  },
  {
   "cell_type": "code",
   "execution_count": 16,
   "metadata": {
    "colab": {
     "base_uri": "https://localhost:8080/"
    },
    "execution": {
     "iopub.execute_input": "2024-06-28T02:32:49.432752Z",
     "iopub.status.busy": "2024-06-28T02:32:49.432482Z",
     "iopub.status.idle": "2024-06-28T02:32:49.435573Z",
     "shell.execute_reply": "2024-06-28T02:32:49.435232Z"
    },
    "id": "h5xvGwQKpM1o",
    "outputId": "74538429-8b20-40e2-fb73-5a741c4789f6"
   },
   "outputs": [
    {
     "name": "stdout",
     "output_type": "stream",
     "text": [
      "The output should be formatted as a JSON instance that conforms to the JSON schema below.\n",
      "\n",
      "As an example, for the schema {\"properties\": {\"foo\": {\"title\": \"Foo\", \"description\": \"a list of strings\", \"type\": \"array\", \"items\": {\"type\": \"string\"}}}, \"required\": [\"foo\"]}\n",
      "the object {\"foo\": [\"bar\", \"baz\"]} is a well-formatted instance of the schema. The object {\"properties\": {\"foo\": [\"bar\", \"baz\"]}} is not well-formatted.\n",
      "\n",
      "Here is the output schema:\n",
      "```\n",
      "{\"properties\": {\"ingredients\": {\"description\": \"ingredients of the dish\", \"items\": {\"type\": \"string\"}, \"title\": \"Ingredients\", \"type\": \"array\"}, \"steps\": {\"description\": \"steps to make the dish\", \"items\": {\"type\": \"string\"}, \"title\": \"Steps\", \"type\": \"array\"}}, \"required\": [\"ingredients\", \"steps\"]}\n",
      "```\n"
     ]
    }
   ],
   "source": [
    "format_instructions = output_parser.get_format_instructions()\n",
    "print(format_instructions)"
   ]
  },
  {
   "cell_type": "code",
   "execution_count": 17,
   "metadata": {
    "execution": {
     "iopub.execute_input": "2024-06-28T02:32:49.437304Z",
     "iopub.status.busy": "2024-06-28T02:32:49.437089Z",
     "iopub.status.idle": "2024-06-28T02:32:49.440212Z",
     "shell.execute_reply": "2024-06-28T02:32:49.439868Z"
    },
    "id": "KIFoenM_pM1o"
   },
   "outputs": [],
   "source": [
    "from langchain_core.prompts import ChatPromptTemplate\n",
    "\n",
    "prompt = ChatPromptTemplate.from_messages(\n",
    "    [\n",
    "        (\n",
    "            \"system\",\n",
    "            \"사용자가 입력한 요리의 레시피를 생각해 주세요.\\n\\n\"\n",
    "            \"{format_instructions}\",\n",
    "        ),\n",
    "        (\"human\", \"{dish}\"),\n",
    "    ]\n",
    ")\n",
    "\n",
    "prompt_with_format_instructions = prompt.partial(\n",
    "    format_instructions=format_instructions\n",
    ")"
   ]
  },
  {
   "cell_type": "code",
   "execution_count": 19,
   "metadata": {
    "colab": {
     "base_uri": "https://localhost:8080/"
    },
    "execution": {
     "iopub.execute_input": "2024-06-28T02:32:49.441965Z",
     "iopub.status.busy": "2024-06-28T02:32:49.441750Z",
     "iopub.status.idle": "2024-06-28T02:32:49.446830Z",
     "shell.execute_reply": "2024-06-28T02:32:49.446490Z"
    },
    "id": "O6WQzC9YpM1o",
    "outputId": "37c752b4-5f35-4084-9980-3e30e84bb5fd"
   },
   "outputs": [
    {
     "name": "stdout",
     "output_type": "stream",
     "text": [
      "=== role: system ===\n",
      "사용자가 입력한 요리의 레시피를 생각해 주세요.\n",
      "\n",
      "The output should be formatted as a JSON instance that conforms to the JSON schema below.\n",
      "\n",
      "As an example, for the schema {\"properties\": {\"foo\": {\"title\": \"Foo\", \"description\": \"a list of strings\", \"type\": \"array\", \"items\": {\"type\": \"string\"}}}, \"required\": [\"foo\"]}\n",
      "the object {\"foo\": [\"bar\", \"baz\"]} is a well-formatted instance of the schema. The object {\"properties\": {\"foo\": [\"bar\", \"baz\"]}} is not well-formatted.\n",
      "\n",
      "Here is the output schema:\n",
      "```\n",
      "{\"properties\": {\"ingredients\": {\"description\": \"ingredients of the dish\", \"items\": {\"type\": \"string\"}, \"title\": \"Ingredients\", \"type\": \"array\"}, \"steps\": {\"description\": \"steps to make the dish\", \"items\": {\"type\": \"string\"}, \"title\": \"Steps\", \"type\": \"array\"}}, \"required\": [\"ingredients\", \"steps\"]}\n",
      "```\n",
      "=== role: user ===\n",
      "카레\n"
     ]
    }
   ],
   "source": [
    "prompt_value = prompt_with_format_instructions.invoke({\"dish\": \"카레\"})\n",
    "print(\"=== role: system ===\")\n",
    "print(prompt_value.messages[0].content)\n",
    "print(\"=== role: user ===\")\n",
    "print(prompt_value.messages[1].content)"
   ]
  },
  {
   "cell_type": "code",
   "execution_count": 20,
   "metadata": {
    "colab": {
     "base_uri": "https://localhost:8080/"
    },
    "execution": {
     "iopub.execute_input": "2024-06-28T02:32:49.448688Z",
     "iopub.status.busy": "2024-06-28T02:32:49.448466Z",
     "iopub.status.idle": "2024-06-28T02:32:53.559871Z",
     "shell.execute_reply": "2024-06-28T02:32:53.559376Z"
    },
    "id": "32KKIWQ_pM1o",
    "outputId": "662e29fe-0c08-495f-9da3-88af45ddf835"
   },
   "outputs": [
    {
     "name": "stdout",
     "output_type": "stream",
     "text": [
      "{\n",
      "  \"ingredients\": [\n",
      "    \"닭고기 500g\",\n",
      "    \"양파 1개\",\n",
      "    \"감자 2개\",\n",
      "    \"당근 1개\",\n",
      "    \"카레 가루 3큰술\",\n",
      "    \"코코넛 밀크 400ml\",\n",
      "    \"식용유 2큰술\",\n",
      "    \"소금 약간\",\n",
      "    \"후추 약간\",\n",
      "    \"물 2컵\"\n",
      "  ],\n",
      "  \"steps\": [\n",
      "    \"양파를 잘게 썰고, 감자와 당근은 큐브 모양으로 자릅니다.\",\n",
      "    \"큰 냄비에 식용유를 두르고 중불에서 양파를 볶아 투명해질 때까지 볶습니다.\",\n",
      "    \"닭고기를 추가하고 겉면이 노릇해질 때까지 볶습니다.\",\n",
      "    \"감자와 당근을 넣고 잘 섞은 후, 카레 가루를 넣고 볶습니다.\",\n",
      "    \"물과 코코넛 밀크를 추가하고 끓입니다.\",\n",
      "    \"끓기 시작하면 불을 줄이고 뚜껑을 덮고 20-30분간 끓입니다.\",\n",
      "    \"소금과 후추로 간을 맞추고, 원하는 농도가 될 때까지 더 끓입니다.\",\n",
      "    \"완성된 카레를 밥과 함께 서빙합니다.\"\n",
      "  ]\n",
      "}\n"
     ]
    }
   ],
   "source": [
    "from langchain_openai import ChatOpenAI\n",
    "\n",
    "model = ChatOpenAI(model=\"gpt-4o-mini\", temperature=0)\n",
    "\n",
    "ai_message = model.invoke(prompt_value)\n",
    "print(ai_message.content)"
   ]
  },
  {
   "cell_type": "code",
   "execution_count": 24,
   "metadata": {
    "colab": {
     "base_uri": "https://localhost:8080/"
    },
    "execution": {
     "iopub.execute_input": "2024-06-28T02:32:53.561786Z",
     "iopub.status.busy": "2024-06-28T02:32:53.561632Z",
     "iopub.status.idle": "2024-06-28T02:32:53.572140Z",
     "shell.execute_reply": "2024-06-28T02:32:53.571665Z"
    },
    "id": "hjfLC4CppM1o",
    "outputId": "89faf388-409c-44de-f822-465c4a853649"
   },
   "outputs": [
    {
     "name": "stdout",
     "output_type": "stream",
     "text": [
      "<class '__main__.Recipe'>\n",
      "ingredients=['닭고기 500g', '양파 1개', '감자 2개', '당근 1개', '카레 가루 3큰술', '식용유 2큰술', '소금 약간', '후추 약간', '물 4컵'] steps=['닭고기를 한 입 크기로 자르고, 소금과 후추로 간을 한다.', '양파는 다지고, 감자와 당근은 깍둑썰기로 준비한다.', '팬에 식용유를 두르고 양파를 볶아 투명해질 때까지 볶는다.', '닭고기를 넣고 겉면이 노릇해질 때까지 볶는다.', '감자와 당근을 넣고 함께 볶는다.', '물 4컵을 붓고 끓인다.', '끓기 시작하면 불을 줄이고, 카레 가루를 넣고 잘 섞는다.', '약한 불에서 20분 정도 끓여서 재료가 부드러워질 때까지 조리한다.', '완성된 카레를 밥과 함께 서빙한다.']\n"
     ]
    }
   ],
   "source": [
    "recipe = output_parser.invoke(ai_message)\n",
    "print(type(recipe))\n",
    "print(recipe)"
   ]
  },
  {
   "cell_type": "markdown",
   "metadata": {
    "id": "JfET1xD7pM1o"
   },
   "source": [
    "### StrOutputParser\n",
    "LLM의 출력을 텍스트로 변환하는데 사용. LCEL의 구성 요소로서 중요한 역할을 함"
   ]
  },
  {
   "cell_type": "code",
   "execution_count": 21,
   "metadata": {
    "colab": {
     "base_uri": "https://localhost:8080/"
    },
    "execution": {
     "iopub.execute_input": "2024-06-28T02:32:53.614251Z",
     "iopub.status.busy": "2024-06-28T02:32:53.614030Z",
     "iopub.status.idle": "2024-06-28T02:32:53.619857Z",
     "shell.execute_reply": "2024-06-28T02:32:53.619506Z"
    },
    "id": "fF9_Uq_rpM1o",
    "outputId": "1a97c10c-0822-4dc0-95b3-c8e8fa7dd564"
   },
   "outputs": [
    {
     "name": "stdout",
     "output_type": "stream",
     "text": [
      "<class 'str'>\n",
      "안녕하세요. 저는 AI 어시스턴트입니다.\n"
     ]
    }
   ],
   "source": [
    "from langchain_core.messages import AIMessage\n",
    "from langchain_core.output_parsers import StrOutputParser\n",
    "\n",
    "output_parser = StrOutputParser()\n",
    "\n",
    "ai_message = AIMessage(content=\"안녕하세요. 저는 AI 어시스턴트입니다.\")\n",
    "ai_message = output_parser.invoke(ai_message)\n",
    "print(type(ai_message))\n",
    "print(ai_message)"
   ]
  },
  {
   "cell_type": "markdown",
   "metadata": {
    "id": "tt4Y8MDYpM1u"
   },
   "source": [
    "## 4.5. Chain—LangChain Expression Language(LCEL) 개요\n",
    "LLM 애플리케이션에서는 단순히 LLM에 입력하고 출력을 얻는 것으로 끝나지 않고, 처리를 연쇄적으로 연결(chaining)하고 싶은 경우가 많다"
   ]
  },
  {
   "cell_type": "markdown",
   "metadata": {
    "id": "aBLtFPlXpM1u"
   },
   "source": [
    "### prompt와 model 연결\n"
   ]
  },
  {
   "cell_type": "code",
   "execution_count": 22,
   "metadata": {
    "execution": {
     "iopub.execute_input": "2024-06-28T02:32:53.621888Z",
     "iopub.status.busy": "2024-06-28T02:32:53.621584Z",
     "iopub.status.idle": "2024-06-28T02:32:53.674625Z",
     "shell.execute_reply": "2024-06-28T02:32:53.674143Z"
    },
    "id": "vK1xRRW6pM1u"
   },
   "outputs": [],
   "source": [
    "from langchain_core.prompts import ChatPromptTemplate\n",
    "from langchain_openai import ChatOpenAI\n",
    "\n",
    "prompt = ChatPromptTemplate.from_messages(\n",
    "    [\n",
    "        (\"system\", \"사용자가 입력한 요리의 레시피를 생각해 주세요.\"),\n",
    "        (\"human\", \"{dish}\"),\n",
    "    ]\n",
    ")\n",
    "\n",
    "model = ChatOpenAI(model_name=\"gpt-4o-mini\", temperature=0)"
   ]
  },
  {
   "cell_type": "code",
   "execution_count": 23,
   "metadata": {
    "execution": {
     "iopub.execute_input": "2024-06-28T02:32:53.676366Z",
     "iopub.status.busy": "2024-06-28T02:32:53.676220Z",
     "iopub.status.idle": "2024-06-28T02:32:53.678436Z",
     "shell.execute_reply": "2024-06-28T02:32:53.678095Z"
    },
    "id": "MiJd0G-ypM1w"
   },
   "outputs": [],
   "source": [
    "chain = prompt | model"
   ]
  },
  {
   "cell_type": "code",
   "execution_count": 24,
   "metadata": {
    "colab": {
     "base_uri": "https://localhost:8080/"
    },
    "execution": {
     "iopub.execute_input": "2024-06-28T02:32:53.680152Z",
     "iopub.status.busy": "2024-06-28T02:32:53.679899Z",
     "iopub.status.idle": "2024-06-28T02:32:59.546328Z",
     "shell.execute_reply": "2024-06-28T02:32:59.544073Z"
    },
    "id": "IDoV-Tg0pM1w",
    "outputId": "a8362d18-a6bd-4954-b732-6a84a7722c8b"
   },
   "outputs": [
    {
     "name": "stdout",
     "output_type": "stream",
     "text": [
      "카레는 다양한 재료와 향신료를 사용하여 만드는 맛있는 요리입니다. 아래는 기본적인 카레 레시피입니다.\n",
      "\n",
      "### 재료\n",
      "- 고기 (닭고기, 소고기, 돼지고기 등) 300g\n",
      "- 양파 1개\n",
      "- 감자 1개\n",
      "- 당근 1개\n",
      "- 카레 가루 2-3 큰술\n",
      "- 식용유 2 큰술\n",
      "- 물 3컵\n",
      "- 소금, 후추 약간\n",
      "- 선택 재료: 피망, 버섯, 완두콩 등\n",
      "\n",
      "### 조리 방법\n",
      "1. **재료 손질**: 고기는 한 입 크기로 자르고, 양파는 다지고, 감자와 당근은 깍둑썰기 합니다.\n",
      "\n",
      "2. **양파 볶기**: 큰 냄비에 식용유를 두르고 중불에서 다진 양파를 넣어 투명해질 때까지 볶습니다.\n",
      "\n",
      "3. **고기 추가**: 양파가 볶아지면 고기를 넣고 겉면이 익을 때까지 볶습니다.\n",
      "\n",
      "4. **채소 추가**: 감자와 당근을 넣고 함께 볶아줍니다.\n",
      "\n",
      "5. **물 붓기**: 재료가 잘 섞이면 물을 붓고 끓입니다. 끓기 시작하면 불을 줄이고 15-20분 정도 끓입니다.\n",
      "\n",
      "6. **카레 가루 추가**: 카레 가루를 넣고 잘 섞은 후, 다시 10분 정도 끓입니다. 필요에 따라 소금과 후추로 간을 맞춥니다.\n",
      "\n",
      "7. **완성**: 카레가 걸쭉해지면 불을 끄고, 밥과 함께 서빙합니다.\n",
      "\n",
      "### 팁\n",
      "- 카레는 냉장고에 보관하면 맛이 더 깊어지므로, 다음 날 먹는 것도 추천합니다.\n",
      "- 다양한 채소나 해산물을 추가하여 나만의 카레를 만들어 보세요!\n",
      "\n",
      "맛있게 드세요!\n"
     ]
    }
   ],
   "source": [
    "ai_message = chain.invoke({\"dish\": \"카레\"})\n",
    "print(ai_message.content)"
   ]
  },
  {
   "cell_type": "markdown",
   "metadata": {
    "id": "5H2ZOqDWpM1w"
   },
   "source": [
    "### StrOutputParser를 연결에 추가\n"
   ]
  },
  {
   "cell_type": "code",
   "execution_count": null,
   "metadata": {
    "colab": {
     "base_uri": "https://localhost:8080/"
    },
    "execution": {
     "iopub.execute_input": "2024-06-28T02:32:59.555286Z",
     "iopub.status.busy": "2024-06-28T02:32:59.554550Z",
     "iopub.status.idle": "2024-06-28T02:33:05.105219Z",
     "shell.execute_reply": "2024-06-28T02:33:05.104783Z"
    },
    "id": "MuEtEDCWpM1w",
    "outputId": "666e8567-d121-4ab4-c46c-03fc307a42a4"
   },
   "outputs": [
    {
     "name": "stdout",
     "output_type": "stream",
     "text": [
      "카레는 다양한 재료와 향신료를 사용하여 만드는 맛있는 요리입니다. 아래는 기본적인 카레 레시피입니다.\n",
      "\n",
      "### 재료\n",
      "- 고기 (닭고기, 소고기, 돼지고기 등) 300g\n",
      "- 양파 1개\n",
      "- 감자 1개\n",
      "- 당근 1개\n",
      "- 카레 가루 2-3 큰술\n",
      "- 코코넛 밀크 또는 물 2컵\n",
      "- 식용유 2 큰술\n",
      "- 소금, 후추 약간\n",
      "- 선택 재료: 마늘, 생강, 피망, 버섯 등\n",
      "\n",
      "### 조리 방법\n",
      "1. **재료 손질**: 고기는 한 입 크기로 자르고, 양파는 다지고, 감자와 당근은 깍둑썰기 합니다. 선택 재료도 적당한 크기로 썰어줍니다.\n",
      "\n",
      "2. **양파 볶기**: 큰 냄비에 식용유를 두르고 중불에서 다진 양파를 넣고 투명해질 때까지 볶습니다.\n",
      "\n",
      "3. **고기 추가**: 양파가 볶아지면 고기를 넣고 겉면이 익을 때까지 볶습니다.\n",
      "\n",
      "4. **채소 추가**: 감자와 당근을 넣고 함께 볶아줍니다. 이때 마늘과 생강을 추가하면 향이 더해집니다.\n",
      "\n",
      "5. **카레 가루 추가**: 카레 가루를 넣고 잘 섞어줍니다. 이때 향신료의 향이 올라옵니다.\n",
      "\n",
      "6. **액체 추가**: 코코넛 밀크 또는 물을 부어주고, 소금과 후추로 간을 맞춥니다. 끓어오르면 불을 줄이고 뚜껑을 덮고 20-30분 정도 끓입니다. 중간에 저어주면 좋습니다.\n",
      "\n",
      "7. **완성**: 채소가 부드러워지고 소스가 걸쭉해지면 불을 끄고, 필요에 따라 추가 간을 맞춥니다.\n",
      "\n",
      "8. **서빙**: 밥과 함께 따뜻하게 서빙합니다. 원한다면 고수나 파슬리로 장식해도 좋습니다.\n",
      "\n",
      "맛있게 드세요!\n"
     ]
    }
   ],
   "source": [
    "from langchain_core.output_parsers import StrOutputParser\n",
    "\n",
    "# Chat model의 출력인 AIMessage를 텍스트로 변환\n",
    "chain = prompt | model | StrOutputParser()\n",
    "output = chain.invoke({\"dish\": \"카레\"})\n",
    "print(output)"
   ]
  },
  {
   "cell_type": "markdown",
   "metadata": {
    "id": "dmgK4BP7pM1w"
   },
   "source": [
    "### PydanticOutputParser를 사용한 연결\n"
   ]
  },
  {
   "cell_type": "code",
   "execution_count": null,
   "metadata": {
    "execution": {
     "iopub.execute_input": "2024-06-28T02:33:05.107198Z",
     "iopub.status.busy": "2024-06-28T02:33:05.107009Z",
     "iopub.status.idle": "2024-06-28T02:33:05.110329Z",
     "shell.execute_reply": "2024-06-28T02:33:05.109967Z"
    },
    "id": "bJ4gC0fmpM1w"
   },
   "outputs": [],
   "source": [
    "from langchain_core.output_parsers import PydanticOutputParser\n",
    "from pydantic import BaseModel, Field\n",
    "\n",
    "# 클래스를 정의하고\n",
    "class Recipe(BaseModel):\n",
    "    ingredients: list[str] = Field(description=\"ingredients of the dish\")\n",
    "    steps: list[str] = Field(description=\"steps to make the dish\")\n",
    "\n",
    "# output_parser를 준비\n",
    "output_parser = PydanticOutputParser(pydantic_object=Recipe)"
   ]
  },
  {
   "cell_type": "code",
   "execution_count": null,
   "metadata": {
    "execution": {
     "iopub.execute_input": "2024-06-28T02:33:05.112162Z",
     "iopub.status.busy": "2024-06-28T02:33:05.111890Z",
     "iopub.status.idle": "2024-06-28T02:33:05.167716Z",
     "shell.execute_reply": "2024-06-28T02:33:05.167216Z"
    },
    "id": "-0Yq5DT8pM1w"
   },
   "outputs": [],
   "source": [
    "from langchain_core.prompts import ChatPromptTemplate\n",
    "from langchain_openai import ChatOpenAI\n",
    "\n",
    "prompt = ChatPromptTemplate.from_messages(\n",
    "    [\n",
    "        (\"system\", \"사용자가 입력한 요리의 레시피를 생각해 주세요.\\n\\n{format_instructions}\"),\n",
    "        (\"human\", \"{dish}\"),\n",
    "    ]\n",
    ")\n",
    "\n",
    "# prompt.partial: 프로프트 템플릿에서 일부 변수를 미리 채워두는 함수\n",
    "prompt_with_format_instructions = prompt.partial(\n",
    "    format_instructions=output_parser.get_format_instructions()\n",
    ")\n",
    "\n",
    "model = ChatOpenAI(model=\"gpt-4o-mini\", temperature=0).bind(\n",
    "    response_format={\"type\": \"json_object\"}\n",
    ")"
   ]
  },
  {
   "cell_type": "code",
   "execution_count": 27,
   "metadata": {
    "execution": {
     "iopub.execute_input": "2024-06-28T02:33:05.169740Z",
     "iopub.status.busy": "2024-06-28T02:33:05.169590Z",
     "iopub.status.idle": "2024-06-28T02:33:05.172044Z",
     "shell.execute_reply": "2024-06-28T02:33:05.171669Z"
    },
    "id": "-y9yADwZpM1x"
   },
   "outputs": [],
   "source": [
    "chain = prompt_with_format_instructions | model | output_parser"
   ]
  },
  {
   "cell_type": "code",
   "execution_count": 26,
   "metadata": {
    "colab": {
     "base_uri": "https://localhost:8080/"
    },
    "execution": {
     "iopub.execute_input": "2024-06-28T02:33:05.173987Z",
     "iopub.status.busy": "2024-06-28T02:33:05.173667Z",
     "iopub.status.idle": "2024-06-28T02:33:10.259404Z",
     "shell.execute_reply": "2024-06-28T02:33:10.258892Z"
    },
    "id": "PA5j3DzxpM1x",
    "outputId": "374871c0-7f4c-4e82-cd78-319ba4b562c9"
   },
   "outputs": [
    {
     "name": "stdout",
     "output_type": "stream",
     "text": [
      "<class 'str'>\n",
      "카레는 다양한 재료와 향신료를 사용하여 만드는 맛있는 요리입니다. 아래는 기본적인 카레 레시피입니다.\n",
      "\n",
      "### 재료\n",
      "- 고기 (닭고기, 소고기, 양고기 등) 300g\n",
      "- 양파 1개\n",
      "- 감자 1개\n",
      "- 당근 1개\n",
      "- 카레 가루 2-3 큰술\n",
      "- 식용유 2 큰술\n",
      "- 물 3컵\n",
      "- 소금, 후추 약간\n",
      "- 선택 재료: 피망, 버섯, 완두콩 등\n",
      "\n",
      "### 조리 방법\n",
      "1. **재료 손질**: 고기는 한 입 크기로 자르고, 양파는 다지고, 감자와 당근은 깍둑썰기 합니다.\n",
      "\n",
      "2. **양파 볶기**: 큰 냄비에 식용유를 두르고 중불에서 다진 양파를 넣어 투명해질 때까지 볶습니다.\n",
      "\n",
      "3. **고기 추가**: 양파가 볶아지면 고기를 넣고 겉면이 익을 때까지 볶습니다.\n",
      "\n",
      "4. **채소 추가**: 감자와 당근을 넣고 함께 볶아줍니다.\n",
      "\n",
      "5. **물 붓기**: 재료가 잘 섞이면 물을 붓고 끓입니다. 끓기 시작하면 불을 줄이고 중약불로 15-20분 정도 끓입니다.\n",
      "\n",
      "6. **카레 가루 추가**: 카레 가루를 넣고 잘 섞은 후, 다시 10분 정도 끓입니다. 필요에 따라 소금과 후추로 간을 맞춥니다.\n",
      "\n",
      "7. **완성**: 카레가 걸쭉해지면 불을 끄고, 밥과 함께 서빙합니다.\n",
      "\n",
      "### 팁\n",
      "- 카레는 냉장고에 보관하면 맛이 더 깊어지므로, 다음 날 먹는 것도 추천합니다.\n",
      "- 다양한 채소나 해산물을 추가하여 나만의 카레를 만들어 보세요!\n",
      "\n",
      "맛있게 드세요!\n"
     ]
    }
   ],
   "source": [
    "recipe = chain.invoke({\"dish\": \"카레\"})\n",
    "print(type(recipe))\n",
    "print(recipe)"
   ]
  },
  {
   "cell_type": "markdown",
   "metadata": {
    "id": "fZMD9uQ3pM1x"
   },
   "source": [
    "### （칼럼）with_structured_output\n",
    "실제로 LangChain에서 LLM에 구조화된 데이터를 출력하게 할 때는 보다 간단한 with_structured_output을 사용. 모든 Chat model에서 사용할 수 있는 것은 아니며, ChatOpenAI와 같은 일부 model에서 사용 가능. with_structured_output은 내부적으로 Function calling을 사용하여 JSON 형식의 데이터를 출력"
   ]
  },
  {
   "cell_type": "code",
   "execution_count": 34,
   "metadata": {
    "colab": {
     "base_uri": "https://localhost:8080/"
    },
    "execution": {
     "iopub.execute_input": "2024-06-28T02:33:10.261391Z",
     "iopub.status.busy": "2024-06-28T02:33:10.261230Z",
     "iopub.status.idle": "2024-06-28T02:33:12.288341Z",
     "shell.execute_reply": "2024-06-28T02:33:12.287844Z"
    },
    "id": "EuFxrt3apM1x",
    "outputId": "00e5dbfb-58c2-4a05-f37d-d8eeef079bd5"
   },
   "outputs": [
    {
     "name": "stdout",
     "output_type": "stream",
     "text": [
      "<class '__main__.Recipe'>\n",
      "ingredients=['닭고기', '양파', '감자', '당근', '카레 가루', '코코넛 밀크', '식용유', '소금', '후추', '물'] steps=['닭고기를 한 입 크기로 썰고, 소금과 후추로 간을 한다.', '양파를 다지고, 감자와 당근을 깍둑썰기로 준비한다.', '팬에 식용유를 두르고 다진 양파를 넣어 볶다가 투명해질 때까지 볶는다.', '닭고기를 넣고 겉면이 익을 때까지 볶는다.', '감자와 당근을 추가하고 함께 볶는다.', '카레 가루를 넣고 잘 섞은 후, 물과 코코넛 밀크를 붓고 끓인다.', '중불로 20-30분간 끓여서 재료들이 부드러워질 때까지 조리한다.', '소금으로 간을 맞추고, 원하는 농도로 졸여서 완성한다.']\n"
     ]
    }
   ],
   "source": [
    "from langchain_core.prompts import ChatPromptTemplate\n",
    "from langchain_openai import ChatOpenAI\n",
    "from pydantic import BaseModel, Field\n",
    "\n",
    "\n",
    "class Recipe(BaseModel):\n",
    "    ingredients: list[str] = Field(description=\"ingredients of the dish\")\n",
    "    steps: list[str] = Field(description=\"steps to make the dish\")\n",
    "\n",
    "\n",
    "prompt = ChatPromptTemplate.from_messages(\n",
    "    [\n",
    "        (\"system\", \"사용자가 입력한 요리의 레시피를 생각해 주세요.\"),\n",
    "        (\"human\", \"{dish}\"),\n",
    "    ]\n",
    ")\n",
    "\n",
    "model = ChatOpenAI(model=\"gpt-4o-mini\")\n",
    "\n",
    "chain = prompt | model.with_structured_output(Recipe)\n",
    "\n",
    "recipe = chain.invoke({\"dish\": \"카레\"})\n",
    "print(type(recipe))\n",
    "print(recipe)"
   ]
  },
  {
   "cell_type": "markdown",
   "metadata": {
    "id": "dToiFutipM1x"
   },
   "source": [
    "## 4.6.LangChain의 RAG 관련 컴포넌트\n",
    "RAG(Retrieval-Augmented Generation: 끌어온 것으로 보강하여 생성)\n",
    "LangChain의 공식 문서를 읽어 들여 gpt-4o-mioni에게 질문하는 예로 실제 흐름을 실행"
   ]
  },
  {
   "cell_type": "markdown",
   "metadata": {
    "id": "UBzQnAmTpM1x"
   },
   "source": [
    "### Document loader\n",
    "https://python.langchain.com/docs/integrations/document_loaders/"
   ]
  },
  {
   "cell_type": "code",
   "execution_count": 29,
   "metadata": {
    "colab": {
     "base_uri": "https://localhost:8080/"
    },
    "id": "HNxkIlFKpM1x",
    "outputId": "e166191e-326c-4216-c06d-0e0052f4c825"
   },
   "outputs": [
    {
     "name": "stdout",
     "output_type": "stream",
     "text": [
      "Requirement already satisfied: langchain-community==0.3.0 in /Users/iyeongbeom/YB/Repository/study/llm-agent/.venv/lib/python3.12/site-packages (0.3.0)\n",
      "Requirement already satisfied: GitPython==3.1.43 in /Users/iyeongbeom/YB/Repository/study/llm-agent/.venv/lib/python3.12/site-packages (3.1.43)\n",
      "Requirement already satisfied: PyYAML>=5.3 in /Users/iyeongbeom/YB/Repository/study/llm-agent/.venv/lib/python3.12/site-packages (from langchain-community==0.3.0) (6.0.3)\n",
      "Requirement already satisfied: SQLAlchemy<3,>=1.4 in /Users/iyeongbeom/YB/Repository/study/llm-agent/.venv/lib/python3.12/site-packages (from langchain-community==0.3.0) (2.0.43)\n",
      "Requirement already satisfied: aiohttp<4.0.0,>=3.8.3 in /Users/iyeongbeom/YB/Repository/study/llm-agent/.venv/lib/python3.12/site-packages (from langchain-community==0.3.0) (3.13.0)\n",
      "Requirement already satisfied: dataclasses-json<0.7,>=0.5.7 in /Users/iyeongbeom/YB/Repository/study/llm-agent/.venv/lib/python3.12/site-packages (from langchain-community==0.3.0) (0.6.7)\n",
      "Requirement already satisfied: langchain<0.4.0,>=0.3.0 in /Users/iyeongbeom/YB/Repository/study/llm-agent/.venv/lib/python3.12/site-packages (from langchain-community==0.3.0) (0.3.25)\n",
      "Requirement already satisfied: langchain-core<0.4.0,>=0.3.0 in /Users/iyeongbeom/YB/Repository/study/llm-agent/.venv/lib/python3.12/site-packages (from langchain-community==0.3.0) (0.3.63)\n",
      "Requirement already satisfied: langsmith<0.2.0,>=0.1.112 in /Users/iyeongbeom/YB/Repository/study/llm-agent/.venv/lib/python3.12/site-packages (from langchain-community==0.3.0) (0.1.147)\n",
      "Requirement already satisfied: numpy<2.0.0,>=1.26.0 in /Users/iyeongbeom/YB/Repository/study/llm-agent/.venv/lib/python3.12/site-packages (from langchain-community==0.3.0) (1.26.4)\n",
      "Requirement already satisfied: pydantic-settings<3.0.0,>=2.4.0 in /Users/iyeongbeom/YB/Repository/study/llm-agent/.venv/lib/python3.12/site-packages (from langchain-community==0.3.0) (2.11.0)\n",
      "Requirement already satisfied: requests<3,>=2 in /Users/iyeongbeom/YB/Repository/study/llm-agent/.venv/lib/python3.12/site-packages (from langchain-community==0.3.0) (2.32.5)\n",
      "Requirement already satisfied: tenacity!=8.4.0,<9.0.0,>=8.1.0 in /Users/iyeongbeom/YB/Repository/study/llm-agent/.venv/lib/python3.12/site-packages (from langchain-community==0.3.0) (8.5.0)\n",
      "Requirement already satisfied: gitdb<5,>=4.0.1 in /Users/iyeongbeom/YB/Repository/study/llm-agent/.venv/lib/python3.12/site-packages (from GitPython==3.1.43) (4.0.12)\n",
      "Requirement already satisfied: aiohappyeyeballs>=2.5.0 in /Users/iyeongbeom/YB/Repository/study/llm-agent/.venv/lib/python3.12/site-packages (from aiohttp<4.0.0,>=3.8.3->langchain-community==0.3.0) (2.6.1)\n",
      "Requirement already satisfied: aiosignal>=1.4.0 in /Users/iyeongbeom/YB/Repository/study/llm-agent/.venv/lib/python3.12/site-packages (from aiohttp<4.0.0,>=3.8.3->langchain-community==0.3.0) (1.4.0)\n",
      "Requirement already satisfied: attrs>=17.3.0 in /Users/iyeongbeom/YB/Repository/study/llm-agent/.venv/lib/python3.12/site-packages (from aiohttp<4.0.0,>=3.8.3->langchain-community==0.3.0) (25.4.0)\n",
      "Requirement already satisfied: frozenlist>=1.1.1 in /Users/iyeongbeom/YB/Repository/study/llm-agent/.venv/lib/python3.12/site-packages (from aiohttp<4.0.0,>=3.8.3->langchain-community==0.3.0) (1.8.0)\n",
      "Requirement already satisfied: multidict<7.0,>=4.5 in /Users/iyeongbeom/YB/Repository/study/llm-agent/.venv/lib/python3.12/site-packages (from aiohttp<4.0.0,>=3.8.3->langchain-community==0.3.0) (6.7.0)\n",
      "Requirement already satisfied: propcache>=0.2.0 in /Users/iyeongbeom/YB/Repository/study/llm-agent/.venv/lib/python3.12/site-packages (from aiohttp<4.0.0,>=3.8.3->langchain-community==0.3.0) (0.4.0)\n",
      "Requirement already satisfied: yarl<2.0,>=1.17.0 in /Users/iyeongbeom/YB/Repository/study/llm-agent/.venv/lib/python3.12/site-packages (from aiohttp<4.0.0,>=3.8.3->langchain-community==0.3.0) (1.22.0)\n",
      "Requirement already satisfied: marshmallow<4.0.0,>=3.18.0 in /Users/iyeongbeom/YB/Repository/study/llm-agent/.venv/lib/python3.12/site-packages (from dataclasses-json<0.7,>=0.5.7->langchain-community==0.3.0) (3.26.1)\n",
      "Requirement already satisfied: typing-inspect<1,>=0.4.0 in /Users/iyeongbeom/YB/Repository/study/llm-agent/.venv/lib/python3.12/site-packages (from dataclasses-json<0.7,>=0.5.7->langchain-community==0.3.0) (0.9.0)\n",
      "Requirement already satisfied: smmap<6,>=3.0.1 in /Users/iyeongbeom/YB/Repository/study/llm-agent/.venv/lib/python3.12/site-packages (from gitdb<5,>=4.0.1->GitPython==3.1.43) (5.0.2)\n",
      "Requirement already satisfied: langchain-text-splitters<1.0.0,>=0.3.8 in /Users/iyeongbeom/YB/Repository/study/llm-agent/.venv/lib/python3.12/site-packages (from langchain<0.4.0,>=0.3.0->langchain-community==0.3.0) (0.3.8)\n",
      "Requirement already satisfied: pydantic<3.0.0,>=2.7.4 in /Users/iyeongbeom/YB/Repository/study/llm-agent/.venv/lib/python3.12/site-packages (from langchain<0.4.0,>=0.3.0->langchain-community==0.3.0) (2.9.2)\n",
      "Requirement already satisfied: jsonpatch<2.0,>=1.33 in /Users/iyeongbeom/YB/Repository/study/llm-agent/.venv/lib/python3.12/site-packages (from langchain-core<0.4.0,>=0.3.0->langchain-community==0.3.0) (1.33)\n",
      "Requirement already satisfied: packaging<25,>=23.2 in /Users/iyeongbeom/YB/Repository/study/llm-agent/.venv/lib/python3.12/site-packages (from langchain-core<0.4.0,>=0.3.0->langchain-community==0.3.0) (24.2)\n",
      "Requirement already satisfied: typing-extensions>=4.7 in /Users/iyeongbeom/YB/Repository/study/llm-agent/.venv/lib/python3.12/site-packages (from langchain-core<0.4.0,>=0.3.0->langchain-community==0.3.0) (4.15.0)\n",
      "Requirement already satisfied: jsonpointer>=1.9 in /Users/iyeongbeom/YB/Repository/study/llm-agent/.venv/lib/python3.12/site-packages (from jsonpatch<2.0,>=1.33->langchain-core<0.4.0,>=0.3.0->langchain-community==0.3.0) (3.0.0)\n",
      "Requirement already satisfied: httpx<1,>=0.23.0 in /Users/iyeongbeom/YB/Repository/study/llm-agent/.venv/lib/python3.12/site-packages (from langsmith<0.2.0,>=0.1.112->langchain-community==0.3.0) (0.27.2)\n",
      "Requirement already satisfied: orjson<4.0.0,>=3.9.14 in /Users/iyeongbeom/YB/Repository/study/llm-agent/.venv/lib/python3.12/site-packages (from langsmith<0.2.0,>=0.1.112->langchain-community==0.3.0) (3.11.3)\n",
      "Requirement already satisfied: requests-toolbelt<2.0.0,>=1.0.0 in /Users/iyeongbeom/YB/Repository/study/llm-agent/.venv/lib/python3.12/site-packages (from langsmith<0.2.0,>=0.1.112->langchain-community==0.3.0) (1.0.0)\n",
      "Requirement already satisfied: anyio in /Users/iyeongbeom/YB/Repository/study/llm-agent/.venv/lib/python3.12/site-packages (from httpx<1,>=0.23.0->langsmith<0.2.0,>=0.1.112->langchain-community==0.3.0) (4.10.0)\n",
      "Requirement already satisfied: certifi in /Users/iyeongbeom/YB/Repository/study/llm-agent/.venv/lib/python3.12/site-packages (from httpx<1,>=0.23.0->langsmith<0.2.0,>=0.1.112->langchain-community==0.3.0) (2025.8.3)\n",
      "Requirement already satisfied: httpcore==1.* in /Users/iyeongbeom/YB/Repository/study/llm-agent/.venv/lib/python3.12/site-packages (from httpx<1,>=0.23.0->langsmith<0.2.0,>=0.1.112->langchain-community==0.3.0) (1.0.9)\n",
      "Requirement already satisfied: idna in /Users/iyeongbeom/YB/Repository/study/llm-agent/.venv/lib/python3.12/site-packages (from httpx<1,>=0.23.0->langsmith<0.2.0,>=0.1.112->langchain-community==0.3.0) (3.10)\n",
      "Requirement already satisfied: sniffio in /Users/iyeongbeom/YB/Repository/study/llm-agent/.venv/lib/python3.12/site-packages (from httpx<1,>=0.23.0->langsmith<0.2.0,>=0.1.112->langchain-community==0.3.0) (1.3.1)\n",
      "Requirement already satisfied: h11>=0.16 in /Users/iyeongbeom/YB/Repository/study/llm-agent/.venv/lib/python3.12/site-packages (from httpcore==1.*->httpx<1,>=0.23.0->langsmith<0.2.0,>=0.1.112->langchain-community==0.3.0) (0.16.0)\n",
      "Requirement already satisfied: annotated-types>=0.6.0 in /Users/iyeongbeom/YB/Repository/study/llm-agent/.venv/lib/python3.12/site-packages (from pydantic<3.0.0,>=2.7.4->langchain<0.4.0,>=0.3.0->langchain-community==0.3.0) (0.7.0)\n",
      "Requirement already satisfied: pydantic-core==2.23.4 in /Users/iyeongbeom/YB/Repository/study/llm-agent/.venv/lib/python3.12/site-packages (from pydantic<3.0.0,>=2.7.4->langchain<0.4.0,>=0.3.0->langchain-community==0.3.0) (2.23.4)\n",
      "Requirement already satisfied: python-dotenv>=0.21.0 in /Users/iyeongbeom/YB/Repository/study/llm-agent/.venv/lib/python3.12/site-packages (from pydantic-settings<3.0.0,>=2.4.0->langchain-community==0.3.0) (1.1.1)\n",
      "Requirement already satisfied: typing-inspection>=0.4.0 in /Users/iyeongbeom/YB/Repository/study/llm-agent/.venv/lib/python3.12/site-packages (from pydantic-settings<3.0.0,>=2.4.0->langchain-community==0.3.0) (0.4.1)\n",
      "Requirement already satisfied: charset_normalizer<4,>=2 in /Users/iyeongbeom/YB/Repository/study/llm-agent/.venv/lib/python3.12/site-packages (from requests<3,>=2->langchain-community==0.3.0) (3.4.3)\n",
      "Requirement already satisfied: urllib3<3,>=1.21.1 in /Users/iyeongbeom/YB/Repository/study/llm-agent/.venv/lib/python3.12/site-packages (from requests<3,>=2->langchain-community==0.3.0) (2.5.0)\n",
      "Requirement already satisfied: mypy-extensions>=0.3.0 in /Users/iyeongbeom/YB/Repository/study/llm-agent/.venv/lib/python3.12/site-packages (from typing-inspect<1,>=0.4.0->dataclasses-json<0.7,>=0.5.7->langchain-community==0.3.0) (1.1.0)\n"
     ]
    }
   ],
   "source": [
    "!pip install langchain-community==0.3.0 GitPython==3.1.43"
   ]
  },
  {
   "cell_type": "code",
   "execution_count": 49,
   "metadata": {
    "colab": {
     "base_uri": "https://localhost:8080/"
    },
    "id": "qMpsNCTnpM1x",
    "outputId": "c5d3244a-cff4-420e-dc75-3651e1692911"
   },
   "outputs": [
    {
     "name": "stdout",
     "output_type": "stream",
     "text": [
      "2786\n"
     ]
    }
   ],
   "source": [
    "from langchain_community.document_loaders import GitLoader\n",
    "\n",
    "# Document loader의 한 종류인 GitLoader를 사용해 .mdx라는 확장자의 파일을 읽어 들임\n",
    "def file_filter(file_path: str) -> bool:\n",
    "    return file_path.endswith(\".mdx\")\n",
    "\n",
    "\n",
    "loader = GitLoader(\n",
    "    clone_url=\"https://github.com/langchain-ai/docs\",\n",
    "    repo_path=\"./langchain\",\n",
    "    branch=\"main\",\n",
    "    file_filter=file_filter,\n",
    ")\n",
    "\n",
    "raw_docs = loader.load()\n",
    "print(len(raw_docs))"
   ]
  },
  {
   "cell_type": "markdown",
   "metadata": {
    "id": "8XUJHe1BpM1x"
   },
   "source": [
    "### Document transformer\n",
    "문서를 어느 정도 길이의 청크로 분할하는 등의 문서를 변환하는 역할"
   ]
  },
  {
   "cell_type": "code",
   "execution_count": 34,
   "metadata": {
    "colab": {
     "base_uri": "https://localhost:8080/"
    },
    "id": "EJZqG5HDpM1x",
    "outputId": "ec1e3138-49e1-437f-ca21-d135ec8f201f"
   },
   "outputs": [
    {
     "name": "stdout",
     "output_type": "stream",
     "text": [
      "Requirement already satisfied: langchain-text-splitters==0.3.0 in /Users/iyeongbeom/YB/Repository/study/llm-agent/.venv/lib/python3.12/site-packages (0.3.0)\n",
      "Requirement already satisfied: langchain-core<0.4.0,>=0.3.0 in /Users/iyeongbeom/YB/Repository/study/llm-agent/.venv/lib/python3.12/site-packages (from langchain-text-splitters==0.3.0) (0.3.63)\n",
      "Requirement already satisfied: langsmith<0.4,>=0.1.126 in /Users/iyeongbeom/YB/Repository/study/llm-agent/.venv/lib/python3.12/site-packages (from langchain-core<0.4.0,>=0.3.0->langchain-text-splitters==0.3.0) (0.1.147)\n",
      "Requirement already satisfied: tenacity!=8.4.0,<10.0.0,>=8.1.0 in /Users/iyeongbeom/YB/Repository/study/llm-agent/.venv/lib/python3.12/site-packages (from langchain-core<0.4.0,>=0.3.0->langchain-text-splitters==0.3.0) (8.5.0)\n",
      "Requirement already satisfied: jsonpatch<2.0,>=1.33 in /Users/iyeongbeom/YB/Repository/study/llm-agent/.venv/lib/python3.12/site-packages (from langchain-core<0.4.0,>=0.3.0->langchain-text-splitters==0.3.0) (1.33)\n",
      "Requirement already satisfied: PyYAML>=5.3 in /Users/iyeongbeom/YB/Repository/study/llm-agent/.venv/lib/python3.12/site-packages (from langchain-core<0.4.0,>=0.3.0->langchain-text-splitters==0.3.0) (6.0.3)\n",
      "Requirement already satisfied: packaging<25,>=23.2 in /Users/iyeongbeom/YB/Repository/study/llm-agent/.venv/lib/python3.12/site-packages (from langchain-core<0.4.0,>=0.3.0->langchain-text-splitters==0.3.0) (24.2)\n",
      "Requirement already satisfied: typing-extensions>=4.7 in /Users/iyeongbeom/YB/Repository/study/llm-agent/.venv/lib/python3.12/site-packages (from langchain-core<0.4.0,>=0.3.0->langchain-text-splitters==0.3.0) (4.15.0)\n",
      "Requirement already satisfied: pydantic>=2.7.4 in /Users/iyeongbeom/YB/Repository/study/llm-agent/.venv/lib/python3.12/site-packages (from langchain-core<0.4.0,>=0.3.0->langchain-text-splitters==0.3.0) (2.9.2)\n",
      "Requirement already satisfied: jsonpointer>=1.9 in /Users/iyeongbeom/YB/Repository/study/llm-agent/.venv/lib/python3.12/site-packages (from jsonpatch<2.0,>=1.33->langchain-core<0.4.0,>=0.3.0->langchain-text-splitters==0.3.0) (3.0.0)\n",
      "Requirement already satisfied: httpx<1,>=0.23.0 in /Users/iyeongbeom/YB/Repository/study/llm-agent/.venv/lib/python3.12/site-packages (from langsmith<0.4,>=0.1.126->langchain-core<0.4.0,>=0.3.0->langchain-text-splitters==0.3.0) (0.27.2)\n",
      "Requirement already satisfied: orjson<4.0.0,>=3.9.14 in /Users/iyeongbeom/YB/Repository/study/llm-agent/.venv/lib/python3.12/site-packages (from langsmith<0.4,>=0.1.126->langchain-core<0.4.0,>=0.3.0->langchain-text-splitters==0.3.0) (3.11.3)\n",
      "Requirement already satisfied: requests<3,>=2 in /Users/iyeongbeom/YB/Repository/study/llm-agent/.venv/lib/python3.12/site-packages (from langsmith<0.4,>=0.1.126->langchain-core<0.4.0,>=0.3.0->langchain-text-splitters==0.3.0) (2.32.5)\n",
      "Requirement already satisfied: requests-toolbelt<2.0.0,>=1.0.0 in /Users/iyeongbeom/YB/Repository/study/llm-agent/.venv/lib/python3.12/site-packages (from langsmith<0.4,>=0.1.126->langchain-core<0.4.0,>=0.3.0->langchain-text-splitters==0.3.0) (1.0.0)\n",
      "Requirement already satisfied: anyio in /Users/iyeongbeom/YB/Repository/study/llm-agent/.venv/lib/python3.12/site-packages (from httpx<1,>=0.23.0->langsmith<0.4,>=0.1.126->langchain-core<0.4.0,>=0.3.0->langchain-text-splitters==0.3.0) (4.10.0)\n",
      "Requirement already satisfied: certifi in /Users/iyeongbeom/YB/Repository/study/llm-agent/.venv/lib/python3.12/site-packages (from httpx<1,>=0.23.0->langsmith<0.4,>=0.1.126->langchain-core<0.4.0,>=0.3.0->langchain-text-splitters==0.3.0) (2025.8.3)\n",
      "Requirement already satisfied: httpcore==1.* in /Users/iyeongbeom/YB/Repository/study/llm-agent/.venv/lib/python3.12/site-packages (from httpx<1,>=0.23.0->langsmith<0.4,>=0.1.126->langchain-core<0.4.0,>=0.3.0->langchain-text-splitters==0.3.0) (1.0.9)\n",
      "Requirement already satisfied: idna in /Users/iyeongbeom/YB/Repository/study/llm-agent/.venv/lib/python3.12/site-packages (from httpx<1,>=0.23.0->langsmith<0.4,>=0.1.126->langchain-core<0.4.0,>=0.3.0->langchain-text-splitters==0.3.0) (3.10)\n",
      "Requirement already satisfied: sniffio in /Users/iyeongbeom/YB/Repository/study/llm-agent/.venv/lib/python3.12/site-packages (from httpx<1,>=0.23.0->langsmith<0.4,>=0.1.126->langchain-core<0.4.0,>=0.3.0->langchain-text-splitters==0.3.0) (1.3.1)\n",
      "Requirement already satisfied: h11>=0.16 in /Users/iyeongbeom/YB/Repository/study/llm-agent/.venv/lib/python3.12/site-packages (from httpcore==1.*->httpx<1,>=0.23.0->langsmith<0.4,>=0.1.126->langchain-core<0.4.0,>=0.3.0->langchain-text-splitters==0.3.0) (0.16.0)\n",
      "Requirement already satisfied: annotated-types>=0.6.0 in /Users/iyeongbeom/YB/Repository/study/llm-agent/.venv/lib/python3.12/site-packages (from pydantic>=2.7.4->langchain-core<0.4.0,>=0.3.0->langchain-text-splitters==0.3.0) (0.7.0)\n",
      "Requirement already satisfied: pydantic-core==2.23.4 in /Users/iyeongbeom/YB/Repository/study/llm-agent/.venv/lib/python3.12/site-packages (from pydantic>=2.7.4->langchain-core<0.4.0,>=0.3.0->langchain-text-splitters==0.3.0) (2.23.4)\n",
      "Requirement already satisfied: charset_normalizer<4,>=2 in /Users/iyeongbeom/YB/Repository/study/llm-agent/.venv/lib/python3.12/site-packages (from requests<3,>=2->langsmith<0.4,>=0.1.126->langchain-core<0.4.0,>=0.3.0->langchain-text-splitters==0.3.0) (3.4.3)\n",
      "Requirement already satisfied: urllib3<3,>=1.21.1 in /Users/iyeongbeom/YB/Repository/study/llm-agent/.venv/lib/python3.12/site-packages (from requests<3,>=2->langsmith<0.4,>=0.1.126->langchain-core<0.4.0,>=0.3.0->langchain-text-splitters==0.3.0) (2.5.0)\n"
     ]
    }
   ],
   "source": [
    "!pip install langchain-text-splitters==0.3.0"
   ]
  },
  {
   "cell_type": "code",
   "execution_count": 50,
   "metadata": {
    "colab": {
     "base_uri": "https://localhost:8080/"
    },
    "id": "nu3MmXmUpM1x",
    "outputId": "7748d9de-687e-47f2-84d3-fec04cfa1dd0"
   },
   "outputs": [
    {
     "name": "stderr",
     "output_type": "stream",
     "text": [
      "Created a chunk of size 1772, which is longer than the specified 1000\n",
      "Created a chunk of size 3159, which is longer than the specified 1000\n",
      "Created a chunk of size 5522, which is longer than the specified 1000\n",
      "Created a chunk of size 17087, which is longer than the specified 1000\n",
      "Created a chunk of size 2380, which is longer than the specified 1000\n",
      "Created a chunk of size 2113, which is longer than the specified 1000\n",
      "Created a chunk of size 1598, which is longer than the specified 1000\n",
      "Created a chunk of size 1217, which is longer than the specified 1000\n",
      "Created a chunk of size 3182, which is longer than the specified 1000\n",
      "Created a chunk of size 3092, which is longer than the specified 1000\n",
      "Created a chunk of size 1441, which is longer than the specified 1000\n",
      "Created a chunk of size 1456, which is longer than the specified 1000\n",
      "Created a chunk of size 1092, which is longer than the specified 1000\n",
      "Created a chunk of size 3002, which is longer than the specified 1000\n",
      "Created a chunk of size 1356, which is longer than the specified 1000\n",
      "Created a chunk of size 1221, which is longer than the specified 1000\n",
      "Created a chunk of size 3044, which is longer than the specified 1000\n",
      "Created a chunk of size 1537, which is longer than the specified 1000\n",
      "Created a chunk of size 1014, which is longer than the specified 1000\n",
      "Created a chunk of size 2825, which is longer than the specified 1000\n",
      "Created a chunk of size 1106, which is longer than the specified 1000\n",
      "Created a chunk of size 1136, which is longer than the specified 1000\n",
      "Created a chunk of size 1010, which is longer than the specified 1000\n",
      "Created a chunk of size 1217, which is longer than the specified 1000\n",
      "Created a chunk of size 1099, which is longer than the specified 1000\n",
      "Created a chunk of size 1560, which is longer than the specified 1000\n",
      "Created a chunk of size 1014, which is longer than the specified 1000\n",
      "Created a chunk of size 1637, which is longer than the specified 1000\n",
      "Created a chunk of size 1453, which is longer than the specified 1000\n",
      "Created a chunk of size 1106, which is longer than the specified 1000\n",
      "Created a chunk of size 2603, which is longer than the specified 1000\n",
      "Created a chunk of size 1304, which is longer than the specified 1000\n",
      "Created a chunk of size 1781, which is longer than the specified 1000\n",
      "Created a chunk of size 1423, which is longer than the specified 1000\n",
      "Created a chunk of size 1206, which is longer than the specified 1000\n",
      "Created a chunk of size 1114, which is longer than the specified 1000\n",
      "Created a chunk of size 1493, which is longer than the specified 1000\n",
      "Created a chunk of size 1163, which is longer than the specified 1000\n",
      "Created a chunk of size 1870, which is longer than the specified 1000\n",
      "Created a chunk of size 1743, which is longer than the specified 1000\n",
      "Created a chunk of size 1313, which is longer than the specified 1000\n",
      "Created a chunk of size 1067, which is longer than the specified 1000\n",
      "Created a chunk of size 5591, which is longer than the specified 1000\n",
      "Created a chunk of size 1067, which is longer than the specified 1000\n",
      "Created a chunk of size 2153, which is longer than the specified 1000\n",
      "Created a chunk of size 1407, which is longer than the specified 1000\n",
      "Created a chunk of size 1022, which is longer than the specified 1000\n",
      "Created a chunk of size 1068, which is longer than the specified 1000\n",
      "Created a chunk of size 2154, which is longer than the specified 1000\n",
      "Created a chunk of size 1433, which is longer than the specified 1000\n",
      "Created a chunk of size 1496, which is longer than the specified 1000\n",
      "Created a chunk of size 1052, which is longer than the specified 1000\n",
      "Created a chunk of size 1068, which is longer than the specified 1000\n",
      "Created a chunk of size 3725, which is longer than the specified 1000\n",
      "Created a chunk of size 2191, which is longer than the specified 1000\n",
      "Created a chunk of size 1462, which is longer than the specified 1000\n",
      "Created a chunk of size 1189, which is longer than the specified 1000\n",
      "Created a chunk of size 1647, which is longer than the specified 1000\n",
      "Created a chunk of size 1403, which is longer than the specified 1000\n",
      "Created a chunk of size 1852, which is longer than the specified 1000\n",
      "Created a chunk of size 1433, which is longer than the specified 1000\n",
      "Created a chunk of size 1741, which is longer than the specified 1000\n",
      "Created a chunk of size 1744, which is longer than the specified 1000\n",
      "Created a chunk of size 1076, which is longer than the specified 1000\n",
      "Created a chunk of size 1166, which is longer than the specified 1000\n",
      "Created a chunk of size 1253, which is longer than the specified 1000\n",
      "Created a chunk of size 2030, which is longer than the specified 1000\n",
      "Created a chunk of size 1287, which is longer than the specified 1000\n",
      "Created a chunk of size 1045, which is longer than the specified 1000\n",
      "Created a chunk of size 1741, which is longer than the specified 1000\n",
      "Created a chunk of size 1310, which is longer than the specified 1000\n",
      "Created a chunk of size 1156, which is longer than the specified 1000\n",
      "Created a chunk of size 3225, which is longer than the specified 1000\n",
      "Created a chunk of size 3584, which is longer than the specified 1000\n",
      "Created a chunk of size 7420, which is longer than the specified 1000\n",
      "Created a chunk of size 1492, which is longer than the specified 1000\n",
      "Created a chunk of size 1162, which is longer than the specified 1000\n",
      "Created a chunk of size 2146, which is longer than the specified 1000\n",
      "Created a chunk of size 1152, which is longer than the specified 1000\n",
      "Created a chunk of size 1010, which is longer than the specified 1000\n",
      "Created a chunk of size 2505, which is longer than the specified 1000\n",
      "Created a chunk of size 2090, which is longer than the specified 1000\n",
      "Created a chunk of size 1513, which is longer than the specified 1000\n",
      "Created a chunk of size 2141, which is longer than the specified 1000\n",
      "Created a chunk of size 1321, which is longer than the specified 1000\n",
      "Created a chunk of size 1753, which is longer than the specified 1000\n",
      "Created a chunk of size 1044, which is longer than the specified 1000\n",
      "Created a chunk of size 1001, which is longer than the specified 1000\n",
      "Created a chunk of size 1863, which is longer than the specified 1000\n",
      "Created a chunk of size 1034, which is longer than the specified 1000\n",
      "Created a chunk of size 1391, which is longer than the specified 1000\n",
      "Created a chunk of size 1345, which is longer than the specified 1000\n",
      "Created a chunk of size 1548, which is longer than the specified 1000\n",
      "Created a chunk of size 1382, which is longer than the specified 1000\n",
      "Created a chunk of size 1630, which is longer than the specified 1000\n",
      "Created a chunk of size 4143, which is longer than the specified 1000\n",
      "Created a chunk of size 1063, which is longer than the specified 1000\n",
      "Created a chunk of size 2099, which is longer than the specified 1000\n",
      "Created a chunk of size 1572, which is longer than the specified 1000\n",
      "Created a chunk of size 1343, which is longer than the specified 1000\n",
      "Created a chunk of size 1219, which is longer than the specified 1000\n",
      "Created a chunk of size 3335, which is longer than the specified 1000\n",
      "Created a chunk of size 2204, which is longer than the specified 1000\n",
      "Created a chunk of size 1377, which is longer than the specified 1000\n",
      "Created a chunk of size 1180, which is longer than the specified 1000\n",
      "Created a chunk of size 1082, which is longer than the specified 1000\n",
      "Created a chunk of size 1052, which is longer than the specified 1000\n",
      "Created a chunk of size 1395, which is longer than the specified 1000\n",
      "Created a chunk of size 1570, which is longer than the specified 1000\n",
      "Created a chunk of size 1343, which is longer than the specified 1000\n",
      "Created a chunk of size 1154, which is longer than the specified 1000\n",
      "Created a chunk of size 1061, which is longer than the specified 1000\n",
      "Created a chunk of size 1280, which is longer than the specified 1000\n",
      "Created a chunk of size 1437, which is longer than the specified 1000\n",
      "Created a chunk of size 1121, which is longer than the specified 1000\n",
      "Created a chunk of size 1422, which is longer than the specified 1000\n",
      "Created a chunk of size 1391, which is longer than the specified 1000\n",
      "Created a chunk of size 1094, which is longer than the specified 1000\n",
      "Created a chunk of size 1231, which is longer than the specified 1000\n",
      "Created a chunk of size 1095, which is longer than the specified 1000\n",
      "Created a chunk of size 1018, which is longer than the specified 1000\n",
      "Created a chunk of size 1115, which is longer than the specified 1000\n",
      "Created a chunk of size 1129, which is longer than the specified 1000\n",
      "Created a chunk of size 1575, which is longer than the specified 1000\n",
      "Created a chunk of size 1678, which is longer than the specified 1000\n",
      "Created a chunk of size 1064, which is longer than the specified 1000\n",
      "Created a chunk of size 1049, which is longer than the specified 1000\n",
      "Created a chunk of size 1071, which is longer than the specified 1000\n",
      "Created a chunk of size 1241, which is longer than the specified 1000\n",
      "Created a chunk of size 1177, which is longer than the specified 1000\n",
      "Created a chunk of size 1016, which is longer than the specified 1000\n",
      "Created a chunk of size 1251, which is longer than the specified 1000\n",
      "Created a chunk of size 1007, which is longer than the specified 1000\n",
      "Created a chunk of size 1011, which is longer than the specified 1000\n",
      "Created a chunk of size 1059, which is longer than the specified 1000\n",
      "Created a chunk of size 1004, which is longer than the specified 1000\n",
      "Created a chunk of size 1366, which is longer than the specified 1000\n",
      "Created a chunk of size 1011, which is longer than the specified 1000\n",
      "Created a chunk of size 1264, which is longer than the specified 1000\n",
      "Created a chunk of size 1109, which is longer than the specified 1000\n",
      "Created a chunk of size 1190, which is longer than the specified 1000\n",
      "Created a chunk of size 1436, which is longer than the specified 1000\n",
      "Created a chunk of size 4775, which is longer than the specified 1000\n",
      "Created a chunk of size 7507, which is longer than the specified 1000\n",
      "Created a chunk of size 1689, which is longer than the specified 1000\n",
      "Created a chunk of size 1097, which is longer than the specified 1000\n",
      "Created a chunk of size 1252, which is longer than the specified 1000\n",
      "Created a chunk of size 1830, which is longer than the specified 1000\n",
      "Created a chunk of size 1014, which is longer than the specified 1000\n",
      "Created a chunk of size 3693, which is longer than the specified 1000\n",
      "Created a chunk of size 1242, which is longer than the specified 1000\n",
      "Created a chunk of size 1284, which is longer than the specified 1000\n",
      "Created a chunk of size 1191, which is longer than the specified 1000\n",
      "Created a chunk of size 1093, which is longer than the specified 1000\n",
      "Created a chunk of size 1051, which is longer than the specified 1000\n",
      "Created a chunk of size 1061, which is longer than the specified 1000\n",
      "Created a chunk of size 2256, which is longer than the specified 1000\n",
      "Created a chunk of size 2623, which is longer than the specified 1000\n",
      "Created a chunk of size 1333, which is longer than the specified 1000\n",
      "Created a chunk of size 1027, which is longer than the specified 1000\n",
      "Created a chunk of size 1378, which is longer than the specified 1000\n",
      "Created a chunk of size 1228, which is longer than the specified 1000\n",
      "Created a chunk of size 4319, which is longer than the specified 1000\n",
      "Created a chunk of size 1090, which is longer than the specified 1000\n",
      "Created a chunk of size 1039, which is longer than the specified 1000\n",
      "Created a chunk of size 1033, which is longer than the specified 1000\n",
      "Created a chunk of size 1307, which is longer than the specified 1000\n",
      "Created a chunk of size 2156, which is longer than the specified 1000\n",
      "Created a chunk of size 1980, which is longer than the specified 1000\n",
      "Created a chunk of size 1049, which is longer than the specified 1000\n",
      "Created a chunk of size 1051, which is longer than the specified 1000\n",
      "Created a chunk of size 1033, which is longer than the specified 1000\n",
      "Created a chunk of size 1016, which is longer than the specified 1000\n",
      "Created a chunk of size 1806, which is longer than the specified 1000\n",
      "Created a chunk of size 1327, which is longer than the specified 1000\n",
      "Created a chunk of size 1888, which is longer than the specified 1000\n",
      "Created a chunk of size 1034, which is longer than the specified 1000\n",
      "Created a chunk of size 1861, which is longer than the specified 1000\n",
      "Created a chunk of size 90713, which is longer than the specified 1000\n",
      "Created a chunk of size 1125, which is longer than the specified 1000\n",
      "Created a chunk of size 1253, which is longer than the specified 1000\n",
      "Created a chunk of size 7658, which is longer than the specified 1000\n",
      "Created a chunk of size 1009, which is longer than the specified 1000\n",
      "Created a chunk of size 4491, which is longer than the specified 1000\n",
      "Created a chunk of size 4578, which is longer than the specified 1000\n",
      "Created a chunk of size 1068, which is longer than the specified 1000\n",
      "Created a chunk of size 1168, which is longer than the specified 1000\n",
      "Created a chunk of size 1379, which is longer than the specified 1000\n",
      "Created a chunk of size 1826, which is longer than the specified 1000\n",
      "Created a chunk of size 1969, which is longer than the specified 1000\n",
      "Created a chunk of size 1196, which is longer than the specified 1000\n",
      "Created a chunk of size 1631, which is longer than the specified 1000\n",
      "Created a chunk of size 5136, which is longer than the specified 1000\n",
      "Created a chunk of size 21909, which is longer than the specified 1000\n",
      "Created a chunk of size 2622, which is longer than the specified 1000\n",
      "Created a chunk of size 2205, which is longer than the specified 1000\n",
      "Created a chunk of size 1556, which is longer than the specified 1000\n",
      "Created a chunk of size 3079, which is longer than the specified 1000\n",
      "Created a chunk of size 1476, which is longer than the specified 1000\n",
      "Created a chunk of size 2959, which is longer than the specified 1000\n",
      "Created a chunk of size 1516, which is longer than the specified 1000\n",
      "Created a chunk of size 3059, which is longer than the specified 1000\n",
      "Created a chunk of size 1536, which is longer than the specified 1000\n",
      "Created a chunk of size 3139, which is longer than the specified 1000\n",
      "Created a chunk of size 2484, which is longer than the specified 1000\n",
      "Created a chunk of size 4922, which is longer than the specified 1000\n",
      "Created a chunk of size 1556, which is longer than the specified 1000\n",
      "Created a chunk of size 3159, which is longer than the specified 1000\n",
      "Created a chunk of size 2451, which is longer than the specified 1000\n",
      "Created a chunk of size 4923, which is longer than the specified 1000\n",
      "Created a chunk of size 2550, which is longer than the specified 1000\n",
      "Created a chunk of size 4988, which is longer than the specified 1000\n",
      "Created a chunk of size 1516, which is longer than the specified 1000\n",
      "Created a chunk of size 3059, which is longer than the specified 1000\n",
      "Created a chunk of size 1536, which is longer than the specified 1000\n",
      "Created a chunk of size 3079, which is longer than the specified 1000\n",
      "Created a chunk of size 2451, which is longer than the specified 1000\n",
      "Created a chunk of size 4822, which is longer than the specified 1000\n",
      "Created a chunk of size 1456, which is longer than the specified 1000\n",
      "Created a chunk of size 2899, which is longer than the specified 1000\n",
      "Created a chunk of size 1747, which is longer than the specified 1000\n",
      "Created a chunk of size 1689, which is longer than the specified 1000\n",
      "Created a chunk of size 5087, which is longer than the specified 1000\n",
      "Created a chunk of size 4807, which is longer than the specified 1000\n",
      "Created a chunk of size 8556, which is longer than the specified 1000\n",
      "Created a chunk of size 4485, which is longer than the specified 1000\n",
      "Created a chunk of size 3848, which is longer than the specified 1000\n",
      "Created a chunk of size 4184, which is longer than the specified 1000\n",
      "Created a chunk of size 2358, which is longer than the specified 1000\n",
      "Created a chunk of size 1116, which is longer than the specified 1000\n",
      "Created a chunk of size 1299, which is longer than the specified 1000\n",
      "Created a chunk of size 1547, which is longer than the specified 1000\n",
      "Created a chunk of size 1261, which is longer than the specified 1000\n",
      "Created a chunk of size 1219, which is longer than the specified 1000\n",
      "Created a chunk of size 1802, which is longer than the specified 1000\n",
      "Created a chunk of size 1287, which is longer than the specified 1000\n",
      "Created a chunk of size 1015, which is longer than the specified 1000\n",
      "Created a chunk of size 1506, which is longer than the specified 1000\n",
      "Created a chunk of size 1265, which is longer than the specified 1000\n",
      "Created a chunk of size 1028, which is longer than the specified 1000\n",
      "Created a chunk of size 2512, which is longer than the specified 1000\n",
      "Created a chunk of size 2512, which is longer than the specified 1000\n",
      "Created a chunk of size 1015, which is longer than the specified 1000\n",
      "Created a chunk of size 4654, which is longer than the specified 1000\n",
      "Created a chunk of size 1444, which is longer than the specified 1000\n",
      "Created a chunk of size 1071, which is longer than the specified 1000\n",
      "Created a chunk of size 1029, which is longer than the specified 1000\n",
      "Created a chunk of size 1089, which is longer than the specified 1000\n",
      "Created a chunk of size 1237, which is longer than the specified 1000\n",
      "Created a chunk of size 1038, which is longer than the specified 1000\n",
      "Created a chunk of size 1115, which is longer than the specified 1000\n",
      "Created a chunk of size 1399, which is longer than the specified 1000\n",
      "Created a chunk of size 1073, which is longer than the specified 1000\n",
      "Created a chunk of size 2308, which is longer than the specified 1000\n",
      "Created a chunk of size 2787, which is longer than the specified 1000\n",
      "Created a chunk of size 1917, which is longer than the specified 1000\n",
      "Created a chunk of size 1886, which is longer than the specified 1000\n",
      "Created a chunk of size 1011, which is longer than the specified 1000\n",
      "Created a chunk of size 4958, which is longer than the specified 1000\n",
      "Created a chunk of size 1143, which is longer than the specified 1000\n",
      "Created a chunk of size 52089, which is longer than the specified 1000\n",
      "Created a chunk of size 1050, which is longer than the specified 1000\n",
      "Created a chunk of size 3269193, which is longer than the specified 1000\n",
      "Created a chunk of size 1871, which is longer than the specified 1000\n",
      "Created a chunk of size 1130, which is longer than the specified 1000\n",
      "Created a chunk of size 1419, which is longer than the specified 1000\n",
      "Created a chunk of size 1249, which is longer than the specified 1000\n",
      "Created a chunk of size 1329, which is longer than the specified 1000\n",
      "Created a chunk of size 1452, which is longer than the specified 1000\n",
      "Created a chunk of size 1577, which is longer than the specified 1000\n",
      "Created a chunk of size 1520, which is longer than the specified 1000\n",
      "Created a chunk of size 3696, which is longer than the specified 1000\n",
      "Created a chunk of size 4558, which is longer than the specified 1000\n",
      "Created a chunk of size 3080, which is longer than the specified 1000\n",
      "Created a chunk of size 4378, which is longer than the specified 1000\n",
      "Created a chunk of size 4159, which is longer than the specified 1000\n",
      "Created a chunk of size 3338, which is longer than the specified 1000\n",
      "Created a chunk of size 1194, which is longer than the specified 1000\n",
      "Created a chunk of size 3528, which is longer than the specified 1000\n",
      "Created a chunk of size 1016, which is longer than the specified 1000\n",
      "Created a chunk of size 1073, which is longer than the specified 1000\n",
      "Created a chunk of size 1042, which is longer than the specified 1000\n",
      "Created a chunk of size 1044, which is longer than the specified 1000\n",
      "Created a chunk of size 1635, which is longer than the specified 1000\n",
      "Created a chunk of size 1635, which is longer than the specified 1000\n",
      "Created a chunk of size 30137, which is longer than the specified 1000\n",
      "Created a chunk of size 1094, which is longer than the specified 1000\n",
      "Created a chunk of size 1177, which is longer than the specified 1000\n",
      "Created a chunk of size 1030, which is longer than the specified 1000\n",
      "Created a chunk of size 1846, which is longer than the specified 1000\n",
      "Created a chunk of size 1006, which is longer than the specified 1000\n",
      "Created a chunk of size 1193, which is longer than the specified 1000\n",
      "Created a chunk of size 1062, which is longer than the specified 1000\n",
      "Created a chunk of size 10255, which is longer than the specified 1000\n",
      "Created a chunk of size 7146, which is longer than the specified 1000\n",
      "Created a chunk of size 7134, which is longer than the specified 1000\n",
      "Created a chunk of size 4509, which is longer than the specified 1000\n",
      "Created a chunk of size 4706, which is longer than the specified 1000\n",
      "Created a chunk of size 3725, which is longer than the specified 1000\n",
      "Created a chunk of size 2612, which is longer than the specified 1000\n",
      "Created a chunk of size 1435, which is longer than the specified 1000\n",
      "Created a chunk of size 3657, which is longer than the specified 1000\n",
      "Created a chunk of size 1215, which is longer than the specified 1000\n",
      "Created a chunk of size 1220, which is longer than the specified 1000\n",
      "Created a chunk of size 1578, which is longer than the specified 1000\n",
      "Created a chunk of size 14122, which is longer than the specified 1000\n",
      "Created a chunk of size 4179, which is longer than the specified 1000\n",
      "Created a chunk of size 1871, which is longer than the specified 1000\n",
      "Created a chunk of size 4727, which is longer than the specified 1000\n",
      "Created a chunk of size 9729, which is longer than the specified 1000\n",
      "Created a chunk of size 3161, which is longer than the specified 1000\n",
      "Created a chunk of size 31994, which is longer than the specified 1000\n",
      "Created a chunk of size 1605, which is longer than the specified 1000\n",
      "Created a chunk of size 300192, which is longer than the specified 1000\n",
      "Created a chunk of size 20228, which is longer than the specified 1000\n",
      "Created a chunk of size 1089, which is longer than the specified 1000\n",
      "Created a chunk of size 1912, which is longer than the specified 1000\n",
      "Created a chunk of size 1906, which is longer than the specified 1000\n",
      "Created a chunk of size 1189, which is longer than the specified 1000\n",
      "Created a chunk of size 1169, which is longer than the specified 1000\n",
      "Created a chunk of size 1169, which is longer than the specified 1000\n",
      "Created a chunk of size 1147, which is longer than the specified 1000\n",
      "Created a chunk of size 19604, which is longer than the specified 1000\n",
      "Created a chunk of size 1116, which is longer than the specified 1000\n",
      "Created a chunk of size 12663, which is longer than the specified 1000\n",
      "Created a chunk of size 2436, which is longer than the specified 1000\n",
      "Created a chunk of size 3429301, which is longer than the specified 1000\n",
      "Created a chunk of size 1277, which is longer than the specified 1000\n",
      "Created a chunk of size 1674, which is longer than the specified 1000\n",
      "Created a chunk of size 4601, which is longer than the specified 1000\n",
      "Created a chunk of size 1207, which is longer than the specified 1000\n",
      "Created a chunk of size 1544, which is longer than the specified 1000\n",
      "Created a chunk of size 1870, which is longer than the specified 1000\n",
      "Created a chunk of size 3259, which is longer than the specified 1000\n",
      "Created a chunk of size 2702, which is longer than the specified 1000\n",
      "Created a chunk of size 1475, which is longer than the specified 1000\n",
      "Created a chunk of size 1085, which is longer than the specified 1000\n",
      "Created a chunk of size 2603, which is longer than the specified 1000\n",
      "Created a chunk of size 7150, which is longer than the specified 1000\n",
      "Created a chunk of size 1135, which is longer than the specified 1000\n",
      "Created a chunk of size 1186, which is longer than the specified 1000\n",
      "Created a chunk of size 1324, which is longer than the specified 1000\n",
      "Created a chunk of size 1165, which is longer than the specified 1000\n",
      "Created a chunk of size 2805, which is longer than the specified 1000\n",
      "Created a chunk of size 44147, which is longer than the specified 1000\n",
      "Created a chunk of size 1504, which is longer than the specified 1000\n",
      "Created a chunk of size 1359, which is longer than the specified 1000\n",
      "Created a chunk of size 1504, which is longer than the specified 1000\n",
      "Created a chunk of size 1359, which is longer than the specified 1000\n",
      "Created a chunk of size 1192, which is longer than the specified 1000\n",
      "Created a chunk of size 1118, which is longer than the specified 1000\n",
      "Created a chunk of size 1158, which is longer than the specified 1000\n",
      "Created a chunk of size 2766, which is longer than the specified 1000\n",
      "Created a chunk of size 2805, which is longer than the specified 1000\n",
      "Created a chunk of size 1941, which is longer than the specified 1000\n",
      "Created a chunk of size 2760, which is longer than the specified 1000\n",
      "Created a chunk of size 3118, which is longer than the specified 1000\n",
      "Created a chunk of size 2690, which is longer than the specified 1000\n",
      "Created a chunk of size 3010, which is longer than the specified 1000\n",
      "Created a chunk of size 2815, which is longer than the specified 1000\n",
      "Created a chunk of size 2688, which is longer than the specified 1000\n",
      "Created a chunk of size 5793, which is longer than the specified 1000\n",
      "Created a chunk of size 1833, which is longer than the specified 1000\n",
      "Created a chunk of size 1833, which is longer than the specified 1000\n",
      "Created a chunk of size 1833, which is longer than the specified 1000\n",
      "Created a chunk of size 2300, which is longer than the specified 1000\n",
      "Created a chunk of size 2817, which is longer than the specified 1000\n",
      "Created a chunk of size 5794, which is longer than the specified 1000\n",
      "Created a chunk of size 1828, which is longer than the specified 1000\n",
      "Created a chunk of size 1828, which is longer than the specified 1000\n",
      "Created a chunk of size 1828, which is longer than the specified 1000\n",
      "Created a chunk of size 2773, which is longer than the specified 1000\n",
      "Created a chunk of size 1121, which is longer than the specified 1000\n",
      "Created a chunk of size 1375, which is longer than the specified 1000\n",
      "Created a chunk of size 2635, which is longer than the specified 1000\n",
      "Created a chunk of size 13706, which is longer than the specified 1000\n",
      "Created a chunk of size 13397, which is longer than the specified 1000\n",
      "Created a chunk of size 1491, which is longer than the specified 1000\n",
      "Created a chunk of size 1764, which is longer than the specified 1000\n",
      "Created a chunk of size 4459, which is longer than the specified 1000\n",
      "Created a chunk of size 1315, which is longer than the specified 1000\n",
      "Created a chunk of size 1944, which is longer than the specified 1000\n",
      "Created a chunk of size 1301, which is longer than the specified 1000\n",
      "Created a chunk of size 1919, which is longer than the specified 1000\n",
      "Created a chunk of size 5189, which is longer than the specified 1000\n",
      "Created a chunk of size 1340, which is longer than the specified 1000\n",
      "Created a chunk of size 43284, which is longer than the specified 1000\n",
      "Created a chunk of size 14065, which is longer than the specified 1000\n",
      "Created a chunk of size 37074, which is longer than the specified 1000\n",
      "Created a chunk of size 5446, which is longer than the specified 1000\n",
      "Created a chunk of size 1707, which is longer than the specified 1000\n",
      "Created a chunk of size 2780, which is longer than the specified 1000\n",
      "Created a chunk of size 2146, which is longer than the specified 1000\n",
      "Created a chunk of size 2805, which is longer than the specified 1000\n",
      "Created a chunk of size 1589, which is longer than the specified 1000\n",
      "Created a chunk of size 2795, which is longer than the specified 1000\n",
      "Created a chunk of size 2468, which is longer than the specified 1000\n",
      "Created a chunk of size 1612, which is longer than the specified 1000\n",
      "Created a chunk of size 1612, which is longer than the specified 1000\n",
      "Created a chunk of size 1612, which is longer than the specified 1000\n",
      "Created a chunk of size 1612, which is longer than the specified 1000\n",
      "Created a chunk of size 1612, which is longer than the specified 1000\n",
      "Created a chunk of size 1612, which is longer than the specified 1000\n",
      "Created a chunk of size 7129, which is longer than the specified 1000\n",
      "Created a chunk of size 1004, which is longer than the specified 1000\n",
      "Created a chunk of size 127631, which is longer than the specified 1000\n",
      "Created a chunk of size 2785, which is longer than the specified 1000\n",
      "Created a chunk of size 1394, which is longer than the specified 1000\n",
      "Created a chunk of size 1049, which is longer than the specified 1000\n",
      "Created a chunk of size 1251, which is longer than the specified 1000\n",
      "Created a chunk of size 3249, which is longer than the specified 1000\n",
      "Created a chunk of size 1101, which is longer than the specified 1000\n",
      "Created a chunk of size 6391, which is longer than the specified 1000\n",
      "Created a chunk of size 1492, which is longer than the specified 1000\n",
      "Created a chunk of size 1201, which is longer than the specified 1000\n",
      "Created a chunk of size 1047, which is longer than the specified 1000\n",
      "Created a chunk of size 1068, which is longer than the specified 1000\n",
      "Created a chunk of size 1855, which is longer than the specified 1000\n",
      "Created a chunk of size 3446, which is longer than the specified 1000\n",
      "Created a chunk of size 1040, which is longer than the specified 1000\n",
      "Created a chunk of size 1351, which is longer than the specified 1000\n",
      "Created a chunk of size 1267, which is longer than the specified 1000\n",
      "Created a chunk of size 1046, which is longer than the specified 1000\n",
      "Created a chunk of size 1043, which is longer than the specified 1000\n",
      "Created a chunk of size 1043, which is longer than the specified 1000\n",
      "Created a chunk of size 1035, which is longer than the specified 1000\n",
      "Created a chunk of size 2034, which is longer than the specified 1000\n",
      "Created a chunk of size 2837, which is longer than the specified 1000\n",
      "Created a chunk of size 1008, which is longer than the specified 1000\n",
      "Created a chunk of size 4020, which is longer than the specified 1000\n",
      "Created a chunk of size 1848, which is longer than the specified 1000\n",
      "Created a chunk of size 599461, which is longer than the specified 1000\n",
      "Created a chunk of size 2560, which is longer than the specified 1000\n",
      "Created a chunk of size 1648, which is longer than the specified 1000\n",
      "Created a chunk of size 13021, which is longer than the specified 1000\n",
      "Created a chunk of size 1692, which is longer than the specified 1000\n",
      "Created a chunk of size 1150, which is longer than the specified 1000\n",
      "Created a chunk of size 2137, which is longer than the specified 1000\n",
      "Created a chunk of size 2004, which is longer than the specified 1000\n",
      "Created a chunk of size 52089, which is longer than the specified 1000\n",
      "Created a chunk of size 1197, which is longer than the specified 1000\n",
      "Created a chunk of size 1101, which is longer than the specified 1000\n",
      "Created a chunk of size 1052, which is longer than the specified 1000\n",
      "Created a chunk of size 2845, which is longer than the specified 1000\n",
      "Created a chunk of size 2087, which is longer than the specified 1000\n",
      "Created a chunk of size 1907, which is longer than the specified 1000\n",
      "Created a chunk of size 2632, which is longer than the specified 1000\n",
      "Created a chunk of size 3233, which is longer than the specified 1000\n",
      "Created a chunk of size 2779, which is longer than the specified 1000\n",
      "Created a chunk of size 1801, which is longer than the specified 1000\n",
      "Created a chunk of size 1035, which is longer than the specified 1000\n",
      "Created a chunk of size 1004, which is longer than the specified 1000\n",
      "Created a chunk of size 1438, which is longer than the specified 1000\n",
      "Created a chunk of size 9276, which is longer than the specified 1000\n",
      "Created a chunk of size 1802, which is longer than the specified 1000\n",
      "Created a chunk of size 1727, which is longer than the specified 1000\n",
      "Created a chunk of size 1374, which is longer than the specified 1000\n",
      "Created a chunk of size 1003, which is longer than the specified 1000\n",
      "Created a chunk of size 3433, which is longer than the specified 1000\n",
      "Created a chunk of size 3592, which is longer than the specified 1000\n",
      "Created a chunk of size 3538, which is longer than the specified 1000\n",
      "Created a chunk of size 1109, which is longer than the specified 1000\n",
      "Created a chunk of size 1141, which is longer than the specified 1000\n",
      "Created a chunk of size 1031, which is longer than the specified 1000\n",
      "Created a chunk of size 1765, which is longer than the specified 1000\n",
      "Created a chunk of size 1944, which is longer than the specified 1000\n",
      "Created a chunk of size 1135, which is longer than the specified 1000\n",
      "Created a chunk of size 1113, which is longer than the specified 1000\n",
      "Created a chunk of size 1186, which is longer than the specified 1000\n",
      "Created a chunk of size 1337, which is longer than the specified 1000\n",
      "Created a chunk of size 32005, which is longer than the specified 1000\n",
      "Created a chunk of size 1158, which is longer than the specified 1000\n",
      "Created a chunk of size 1251, which is longer than the specified 1000\n",
      "Created a chunk of size 1011, which is longer than the specified 1000\n",
      "Created a chunk of size 1158, which is longer than the specified 1000\n",
      "Created a chunk of size 1200, which is longer than the specified 1000\n",
      "Created a chunk of size 1209, which is longer than the specified 1000\n",
      "Created a chunk of size 1257, which is longer than the specified 1000\n",
      "Created a chunk of size 1010, which is longer than the specified 1000\n",
      "Created a chunk of size 4362, which is longer than the specified 1000\n",
      "Created a chunk of size 3985, which is longer than the specified 1000\n",
      "Created a chunk of size 1019, which is longer than the specified 1000\n",
      "Created a chunk of size 3673, which is longer than the specified 1000\n",
      "Created a chunk of size 1801, which is longer than the specified 1000\n",
      "Created a chunk of size 1151, which is longer than the specified 1000\n",
      "Created a chunk of size 2136, which is longer than the specified 1000\n",
      "Created a chunk of size 1169, which is longer than the specified 1000\n",
      "Created a chunk of size 1555, which is longer than the specified 1000\n",
      "Created a chunk of size 1104, which is longer than the specified 1000\n",
      "Created a chunk of size 6255, which is longer than the specified 1000\n",
      "Created a chunk of size 6246, which is longer than the specified 1000\n",
      "Created a chunk of size 1165, which is longer than the specified 1000\n",
      "Created a chunk of size 6923, which is longer than the specified 1000\n",
      "Created a chunk of size 77637, which is longer than the specified 1000\n",
      "Created a chunk of size 1403, which is longer than the specified 1000\n",
      "Created a chunk of size 22516, which is longer than the specified 1000\n",
      "Created a chunk of size 66674, which is longer than the specified 1000\n",
      "Created a chunk of size 12850, which is longer than the specified 1000\n",
      "Created a chunk of size 2743, which is longer than the specified 1000\n",
      "Created a chunk of size 2438, which is longer than the specified 1000\n",
      "Created a chunk of size 4349, which is longer than the specified 1000\n",
      "Created a chunk of size 1291, which is longer than the specified 1000\n",
      "Created a chunk of size 1737, which is longer than the specified 1000\n",
      "Created a chunk of size 1639, which is longer than the specified 1000\n",
      "Created a chunk of size 1755, which is longer than the specified 1000\n",
      "Created a chunk of size 7194, which is longer than the specified 1000\n",
      "Created a chunk of size 7037, which is longer than the specified 1000\n",
      "Created a chunk of size 10005, which is longer than the specified 1000\n",
      "Created a chunk of size 10005, which is longer than the specified 1000\n",
      "Created a chunk of size 5070, which is longer than the specified 1000\n",
      "Created a chunk of size 1849, which is longer than the specified 1000\n",
      "Created a chunk of size 2080, which is longer than the specified 1000\n",
      "Created a chunk of size 4243, which is longer than the specified 1000\n",
      "Created a chunk of size 3832, which is longer than the specified 1000\n",
      "Created a chunk of size 3830, which is longer than the specified 1000\n",
      "Created a chunk of size 2970, which is longer than the specified 1000\n",
      "Created a chunk of size 2972, which is longer than the specified 1000\n",
      "Created a chunk of size 1950, which is longer than the specified 1000\n",
      "Created a chunk of size 1325, which is longer than the specified 1000\n",
      "Created a chunk of size 1260, which is longer than the specified 1000\n",
      "Created a chunk of size 1942, which is longer than the specified 1000\n",
      "Created a chunk of size 1054, which is longer than the specified 1000\n",
      "Created a chunk of size 2811, which is longer than the specified 1000\n",
      "Created a chunk of size 1185, which is longer than the specified 1000\n",
      "Created a chunk of size 2604, which is longer than the specified 1000\n",
      "Created a chunk of size 1202, which is longer than the specified 1000\n",
      "Created a chunk of size 1393, which is longer than the specified 1000\n",
      "Created a chunk of size 1279, which is longer than the specified 1000\n",
      "Created a chunk of size 1223, which is longer than the specified 1000\n",
      "Created a chunk of size 22715, which is longer than the specified 1000\n",
      "Created a chunk of size 1097, which is longer than the specified 1000\n",
      "Created a chunk of size 3805, which is longer than the specified 1000\n",
      "Created a chunk of size 1673, which is longer than the specified 1000\n",
      "Created a chunk of size 2930233, which is longer than the specified 1000\n",
      "Created a chunk of size 1324, which is longer than the specified 1000\n",
      "Created a chunk of size 10292, which is longer than the specified 1000\n",
      "Created a chunk of size 23471, which is longer than the specified 1000\n",
      "Created a chunk of size 24490, which is longer than the specified 1000\n",
      "Created a chunk of size 1132, which is longer than the specified 1000\n",
      "Created a chunk of size 1819, which is longer than the specified 1000\n",
      "Created a chunk of size 1112, which is longer than the specified 1000\n",
      "Created a chunk of size 1107, which is longer than the specified 1000\n",
      "Created a chunk of size 1154, which is longer than the specified 1000\n",
      "Created a chunk of size 2626, which is longer than the specified 1000\n",
      "Created a chunk of size 2011, which is longer than the specified 1000\n",
      "Created a chunk of size 1732, which is longer than the specified 1000\n",
      "Created a chunk of size 1796, which is longer than the specified 1000\n",
      "Created a chunk of size 6444, which is longer than the specified 1000\n",
      "Created a chunk of size 6058, which is longer than the specified 1000\n",
      "Created a chunk of size 11374, which is longer than the specified 1000\n",
      "Created a chunk of size 5131, which is longer than the specified 1000\n",
      "Created a chunk of size 5131, which is longer than the specified 1000\n",
      "Created a chunk of size 5250, which is longer than the specified 1000\n",
      "Created a chunk of size 1327, which is longer than the specified 1000\n",
      "Created a chunk of size 1626, which is longer than the specified 1000\n",
      "Created a chunk of size 1010, which is longer than the specified 1000\n",
      "Created a chunk of size 2273, which is longer than the specified 1000\n",
      "Created a chunk of size 1845, which is longer than the specified 1000\n",
      "Created a chunk of size 3733, which is longer than the specified 1000\n",
      "Created a chunk of size 1074, which is longer than the specified 1000\n",
      "Created a chunk of size 2649, which is longer than the specified 1000\n",
      "Created a chunk of size 39617, which is longer than the specified 1000\n",
      "Created a chunk of size 1021, which is longer than the specified 1000\n",
      "Created a chunk of size 3499, which is longer than the specified 1000\n",
      "Created a chunk of size 3345, which is longer than the specified 1000\n",
      "Created a chunk of size 3449, which is longer than the specified 1000\n",
      "Created a chunk of size 1185, which is longer than the specified 1000\n",
      "Created a chunk of size 2111, which is longer than the specified 1000\n",
      "Created a chunk of size 1980, which is longer than the specified 1000\n",
      "Created a chunk of size 1360, which is longer than the specified 1000\n",
      "Created a chunk of size 2463, which is longer than the specified 1000\n",
      "Created a chunk of size 1756, which is longer than the specified 1000\n",
      "Created a chunk of size 1183, which is longer than the specified 1000\n",
      "Created a chunk of size 3694, which is longer than the specified 1000\n",
      "Created a chunk of size 1781, which is longer than the specified 1000\n",
      "Created a chunk of size 1289, which is longer than the specified 1000\n",
      "Created a chunk of size 1989, which is longer than the specified 1000\n",
      "Created a chunk of size 1043, which is longer than the specified 1000\n",
      "Created a chunk of size 1320, which is longer than the specified 1000\n",
      "Created a chunk of size 2854, which is longer than the specified 1000\n",
      "Created a chunk of size 1564, which is longer than the specified 1000\n",
      "Created a chunk of size 4095, which is longer than the specified 1000\n",
      "Created a chunk of size 1169, which is longer than the specified 1000\n",
      "Created a chunk of size 1645, which is longer than the specified 1000\n",
      "Created a chunk of size 1740, which is longer than the specified 1000\n",
      "Created a chunk of size 1772, which is longer than the specified 1000\n",
      "Created a chunk of size 2113, which is longer than the specified 1000\n",
      "Created a chunk of size 1645, which is longer than the specified 1000\n",
      "Created a chunk of size 1196, which is longer than the specified 1000\n",
      "Created a chunk of size 1717, which is longer than the specified 1000\n",
      "Created a chunk of size 1536, which is longer than the specified 1000\n",
      "Created a chunk of size 2147, which is longer than the specified 1000\n",
      "Created a chunk of size 2382, which is longer than the specified 1000\n",
      "Created a chunk of size 3182, which is longer than the specified 1000\n",
      "Created a chunk of size 1603, which is longer than the specified 1000\n",
      "Created a chunk of size 4138, which is longer than the specified 1000\n",
      "Created a chunk of size 2351, which is longer than the specified 1000\n",
      "Created a chunk of size 3006, which is longer than the specified 1000\n",
      "Created a chunk of size 2587, which is longer than the specified 1000\n",
      "Created a chunk of size 1740, which is longer than the specified 1000\n",
      "Created a chunk of size 1174, which is longer than the specified 1000\n",
      "Created a chunk of size 1172337, which is longer than the specified 1000\n",
      "Created a chunk of size 2119941, which is longer than the specified 1000\n",
      "Created a chunk of size 1694417, which is longer than the specified 1000\n",
      "Created a chunk of size 10049, which is longer than the specified 1000\n",
      "Created a chunk of size 1048, which is longer than the specified 1000\n",
      "Created a chunk of size 1038, which is longer than the specified 1000\n",
      "Created a chunk of size 1218, which is longer than the specified 1000\n",
      "Created a chunk of size 17110, which is longer than the specified 1000\n",
      "Created a chunk of size 1005, which is longer than the specified 1000\n",
      "Created a chunk of size 2220, which is longer than the specified 1000\n",
      "Created a chunk of size 1577, which is longer than the specified 1000\n",
      "Created a chunk of size 8986, which is longer than the specified 1000\n",
      "Created a chunk of size 10597, which is longer than the specified 1000\n",
      "Created a chunk of size 7005, which is longer than the specified 1000\n",
      "Created a chunk of size 2142, which is longer than the specified 1000\n",
      "Created a chunk of size 1461, which is longer than the specified 1000\n",
      "Created a chunk of size 1087, which is longer than the specified 1000\n",
      "Created a chunk of size 2967, which is longer than the specified 1000\n",
      "Created a chunk of size 2559, which is longer than the specified 1000\n",
      "Created a chunk of size 1396, which is longer than the specified 1000\n",
      "Created a chunk of size 16531, which is longer than the specified 1000\n",
      "Created a chunk of size 1014, which is longer than the specified 1000\n",
      "Created a chunk of size 1014, which is longer than the specified 1000\n",
      "Created a chunk of size 2183, which is longer than the specified 1000\n",
      "Created a chunk of size 3177, which is longer than the specified 1000\n",
      "Created a chunk of size 3150, which is longer than the specified 1000\n",
      "Created a chunk of size 6224, which is longer than the specified 1000\n",
      "Created a chunk of size 6222, which is longer than the specified 1000\n",
      "Created a chunk of size 1066, which is longer than the specified 1000\n",
      "Created a chunk of size 1258, which is longer than the specified 1000\n",
      "Created a chunk of size 5889, which is longer than the specified 1000\n",
      "Created a chunk of size 177376, which is longer than the specified 1000\n",
      "Created a chunk of size 865628, which is longer than the specified 1000\n",
      "Created a chunk of size 2356, which is longer than the specified 1000\n",
      "Created a chunk of size 1103, which is longer than the specified 1000\n",
      "Created a chunk of size 1193, which is longer than the specified 1000\n",
      "Created a chunk of size 2110, which is longer than the specified 1000\n",
      "Created a chunk of size 1451, which is longer than the specified 1000\n",
      "Created a chunk of size 1166, which is longer than the specified 1000\n",
      "Created a chunk of size 3397, which is longer than the specified 1000\n",
      "Created a chunk of size 2485, which is longer than the specified 1000\n",
      "Created a chunk of size 1778, which is longer than the specified 1000\n",
      "Created a chunk of size 1324, which is longer than the specified 1000\n",
      "Created a chunk of size 1610, which is longer than the specified 1000\n",
      "Created a chunk of size 8231, which is longer than the specified 1000\n",
      "Created a chunk of size 6572, which is longer than the specified 1000\n",
      "Created a chunk of size 27052, which is longer than the specified 1000\n",
      "Created a chunk of size 3485, which is longer than the specified 1000\n",
      "Created a chunk of size 78659, which is longer than the specified 1000\n",
      "Created a chunk of size 2157, which is longer than the specified 1000\n",
      "Created a chunk of size 76164, which is longer than the specified 1000\n",
      "Created a chunk of size 29872, which is longer than the specified 1000\n",
      "Created a chunk of size 2024, which is longer than the specified 1000\n",
      "Created a chunk of size 1780, which is longer than the specified 1000\n",
      "Created a chunk of size 1538, which is longer than the specified 1000\n",
      "Created a chunk of size 1206, which is longer than the specified 1000\n",
      "Created a chunk of size 1871, which is longer than the specified 1000\n",
      "Created a chunk of size 1113, which is longer than the specified 1000\n",
      "Created a chunk of size 2796, which is longer than the specified 1000\n",
      "Created a chunk of size 2535, which is longer than the specified 1000\n",
      "Created a chunk of size 10022, which is longer than the specified 1000\n",
      "Created a chunk of size 2932, which is longer than the specified 1000\n",
      "Created a chunk of size 1567, which is longer than the specified 1000\n",
      "Created a chunk of size 20137, which is longer than the specified 1000\n",
      "Created a chunk of size 15004, which is longer than the specified 1000\n",
      "Created a chunk of size 21286, which is longer than the specified 1000\n",
      "Created a chunk of size 2535, which is longer than the specified 1000\n",
      "Created a chunk of size 2467, which is longer than the specified 1000\n",
      "Created a chunk of size 1624, which is longer than the specified 1000\n",
      "Created a chunk of size 1293, which is longer than the specified 1000\n",
      "Created a chunk of size 1518, which is longer than the specified 1000\n",
      "Created a chunk of size 31655, which is longer than the specified 1000\n",
      "Created a chunk of size 1371, which is longer than the specified 1000\n",
      "Created a chunk of size 2210, which is longer than the specified 1000\n",
      "Created a chunk of size 7649, which is longer than the specified 1000\n",
      "Created a chunk of size 1188, which is longer than the specified 1000\n",
      "Created a chunk of size 1479, which is longer than the specified 1000\n",
      "Created a chunk of size 1482, which is longer than the specified 1000\n",
      "Created a chunk of size 1231, which is longer than the specified 1000\n",
      "Created a chunk of size 1173, which is longer than the specified 1000\n",
      "Created a chunk of size 4083, which is longer than the specified 1000\n",
      "Created a chunk of size 3086, which is longer than the specified 1000\n",
      "Created a chunk of size 1142, which is longer than the specified 1000\n",
      "Created a chunk of size 2712, which is longer than the specified 1000\n",
      "Created a chunk of size 1284, which is longer than the specified 1000\n",
      "Created a chunk of size 1100, which is longer than the specified 1000\n",
      "Created a chunk of size 214944, which is longer than the specified 1000\n",
      "Created a chunk of size 25111, which is longer than the specified 1000\n",
      "Created a chunk of size 1073, which is longer than the specified 1000\n",
      "Created a chunk of size 3698, which is longer than the specified 1000\n",
      "Created a chunk of size 1139, which is longer than the specified 1000\n",
      "Created a chunk of size 22203, which is longer than the specified 1000\n",
      "Created a chunk of size 3211, which is longer than the specified 1000\n",
      "Created a chunk of size 1458, which is longer than the specified 1000\n",
      "Created a chunk of size 2077, which is longer than the specified 1000\n",
      "Created a chunk of size 1068, which is longer than the specified 1000\n",
      "Created a chunk of size 9675, which is longer than the specified 1000\n",
      "Created a chunk of size 6256, which is longer than the specified 1000\n",
      "Created a chunk of size 2210, which is longer than the specified 1000\n",
      "Created a chunk of size 1907, which is longer than the specified 1000\n",
      "Created a chunk of size 5325, which is longer than the specified 1000\n",
      "Created a chunk of size 2046, which is longer than the specified 1000\n",
      "Created a chunk of size 1054, which is longer than the specified 1000\n",
      "Created a chunk of size 1032, which is longer than the specified 1000\n",
      "Created a chunk of size 1139, which is longer than the specified 1000\n",
      "Created a chunk of size 1166, which is longer than the specified 1000\n",
      "Created a chunk of size 1149, which is longer than the specified 1000\n",
      "Created a chunk of size 1173, which is longer than the specified 1000\n",
      "Created a chunk of size 1133, which is longer than the specified 1000\n",
      "Created a chunk of size 1139, which is longer than the specified 1000\n",
      "Created a chunk of size 1149, which is longer than the specified 1000\n",
      "Created a chunk of size 1148, which is longer than the specified 1000\n",
      "Created a chunk of size 1175, which is longer than the specified 1000\n",
      "Created a chunk of size 1129, which is longer than the specified 1000\n",
      "Created a chunk of size 1101, which is longer than the specified 1000\n",
      "Created a chunk of size 1142, which is longer than the specified 1000\n",
      "Created a chunk of size 1119, which is longer than the specified 1000\n",
      "Created a chunk of size 1154, which is longer than the specified 1000\n",
      "Created a chunk of size 1089, which is longer than the specified 1000\n",
      "Created a chunk of size 1186, which is longer than the specified 1000\n",
      "Created a chunk of size 1130, which is longer than the specified 1000\n",
      "Created a chunk of size 1122, which is longer than the specified 1000\n",
      "Created a chunk of size 1130, which is longer than the specified 1000\n",
      "Created a chunk of size 1122, which is longer than the specified 1000\n",
      "Created a chunk of size 2239, which is longer than the specified 1000\n",
      "Created a chunk of size 3995, which is longer than the specified 1000\n",
      "Created a chunk of size 1626, which is longer than the specified 1000\n",
      "Created a chunk of size 2057, which is longer than the specified 1000\n",
      "Created a chunk of size 1813, which is longer than the specified 1000\n",
      "Created a chunk of size 1511, which is longer than the specified 1000\n",
      "Created a chunk of size 9530, which is longer than the specified 1000\n",
      "Created a chunk of size 1578, which is longer than the specified 1000\n",
      "Created a chunk of size 201766, which is longer than the specified 1000\n",
      "Created a chunk of size 201766, which is longer than the specified 1000\n",
      "Created a chunk of size 53990, which is longer than the specified 1000\n",
      "Created a chunk of size 1557, which is longer than the specified 1000\n",
      "Created a chunk of size 1393, which is longer than the specified 1000\n",
      "Created a chunk of size 2176, which is longer than the specified 1000\n",
      "Created a chunk of size 1085, which is longer than the specified 1000\n",
      "Created a chunk of size 1084, which is longer than the specified 1000\n",
      "Created a chunk of size 1351, which is longer than the specified 1000\n",
      "Created a chunk of size 2722, which is longer than the specified 1000\n",
      "Created a chunk of size 11576, which is longer than the specified 1000\n",
      "Created a chunk of size 1697, which is longer than the specified 1000\n",
      "Created a chunk of size 1324, which is longer than the specified 1000\n",
      "Created a chunk of size 2160, which is longer than the specified 1000\n",
      "Created a chunk of size 1558, which is longer than the specified 1000\n",
      "Created a chunk of size 49017, which is longer than the specified 1000\n",
      "Created a chunk of size 1520, which is longer than the specified 1000\n",
      "Created a chunk of size 1890, which is longer than the specified 1000\n",
      "Created a chunk of size 1506, which is longer than the specified 1000\n",
      "Created a chunk of size 3111, which is longer than the specified 1000\n",
      "Created a chunk of size 1140, which is longer than the specified 1000\n",
      "Created a chunk of size 1787, which is longer than the specified 1000\n",
      "Created a chunk of size 4115, which is longer than the specified 1000\n",
      "Created a chunk of size 1549, which is longer than the specified 1000\n",
      "Created a chunk of size 1637, which is longer than the specified 1000\n",
      "Created a chunk of size 2409, which is longer than the specified 1000\n",
      "Created a chunk of size 1309, which is longer than the specified 1000\n",
      "Created a chunk of size 1557, which is longer than the specified 1000\n",
      "Created a chunk of size 1180, which is longer than the specified 1000\n",
      "Created a chunk of size 1025, which is longer than the specified 1000\n",
      "Created a chunk of size 3801, which is longer than the specified 1000\n",
      "Created a chunk of size 2755, which is longer than the specified 1000\n",
      "Created a chunk of size 3456, which is longer than the specified 1000\n",
      "Created a chunk of size 3801, which is longer than the specified 1000\n",
      "Created a chunk of size 2871, which is longer than the specified 1000\n",
      "Created a chunk of size 5387, which is longer than the specified 1000\n",
      "Created a chunk of size 3311, which is longer than the specified 1000\n",
      "Created a chunk of size 4040, which is longer than the specified 1000\n",
      "Created a chunk of size 3484, which is longer than the specified 1000\n",
      "Created a chunk of size 2628, which is longer than the specified 1000\n",
      "Created a chunk of size 3220, which is longer than the specified 1000\n",
      "Created a chunk of size 5337, which is longer than the specified 1000\n",
      "Created a chunk of size 2882, which is longer than the specified 1000\n",
      "Created a chunk of size 1173, which is longer than the specified 1000\n",
      "Created a chunk of size 1227, which is longer than the specified 1000\n",
      "Created a chunk of size 3747, which is longer than the specified 1000\n",
      "Created a chunk of size 1203, which is longer than the specified 1000\n",
      "Created a chunk of size 3537, which is longer than the specified 1000\n",
      "Created a chunk of size 8252, which is longer than the specified 1000\n",
      "Created a chunk of size 3844, which is longer than the specified 1000\n",
      "Created a chunk of size 1187, which is longer than the specified 1000\n",
      "Created a chunk of size 1111, which is longer than the specified 1000\n",
      "Created a chunk of size 51997, which is longer than the specified 1000\n",
      "Created a chunk of size 1273, which is longer than the specified 1000\n",
      "Created a chunk of size 1894, which is longer than the specified 1000\n",
      "Created a chunk of size 1022, which is longer than the specified 1000\n",
      "Created a chunk of size 1894, which is longer than the specified 1000\n",
      "Created a chunk of size 2223, which is longer than the specified 1000\n",
      "Created a chunk of size 1121, which is longer than the specified 1000\n",
      "Created a chunk of size 1149, which is longer than the specified 1000\n",
      "Created a chunk of size 2256, which is longer than the specified 1000\n",
      "Created a chunk of size 1848, which is longer than the specified 1000\n",
      "Created a chunk of size 1168, which is longer than the specified 1000\n",
      "Created a chunk of size 1393, which is longer than the specified 1000\n",
      "Created a chunk of size 1393, which is longer than the specified 1000\n",
      "Created a chunk of size 1393, which is longer than the specified 1000\n",
      "Created a chunk of size 1306, which is longer than the specified 1000\n",
      "Created a chunk of size 1154, which is longer than the specified 1000\n",
      "Created a chunk of size 1413, which is longer than the specified 1000\n",
      "Created a chunk of size 1413, which is longer than the specified 1000\n",
      "Created a chunk of size 1413, which is longer than the specified 1000\n",
      "Created a chunk of size 1413, which is longer than the specified 1000\n",
      "Created a chunk of size 1413, which is longer than the specified 1000\n",
      "Created a chunk of size 1413, which is longer than the specified 1000\n",
      "Created a chunk of size 1413, which is longer than the specified 1000\n",
      "Created a chunk of size 1035, which is longer than the specified 1000\n",
      "Created a chunk of size 1413, which is longer than the specified 1000\n",
      "Created a chunk of size 1584, which is longer than the specified 1000\n",
      "Created a chunk of size 1490, which is longer than the specified 1000\n",
      "Created a chunk of size 2440, which is longer than the specified 1000\n",
      "Created a chunk of size 4430, which is longer than the specified 1000\n",
      "Created a chunk of size 5875, which is longer than the specified 1000\n",
      "Created a chunk of size 5592, which is longer than the specified 1000\n",
      "Created a chunk of size 4381, which is longer than the specified 1000\n",
      "Created a chunk of size 12484, which is longer than the specified 1000\n",
      "Created a chunk of size 4408, which is longer than the specified 1000\n",
      "Created a chunk of size 13156, which is longer than the specified 1000\n",
      "Created a chunk of size 1211, which is longer than the specified 1000\n",
      "Created a chunk of size 1268, which is longer than the specified 1000\n",
      "Created a chunk of size 1151, which is longer than the specified 1000\n",
      "Created a chunk of size 1188, which is longer than the specified 1000\n",
      "Created a chunk of size 1213, which is longer than the specified 1000\n",
      "Created a chunk of size 1182, which is longer than the specified 1000\n",
      "Created a chunk of size 1078, which is longer than the specified 1000\n",
      "Created a chunk of size 1001, which is longer than the specified 1000\n",
      "Created a chunk of size 2315, which is longer than the specified 1000\n",
      "Created a chunk of size 5658, which is longer than the specified 1000\n",
      "Created a chunk of size 1022, which is longer than the specified 1000\n",
      "Created a chunk of size 1841, which is longer than the specified 1000\n",
      "Created a chunk of size 1321, which is longer than the specified 1000\n",
      "Created a chunk of size 1533, which is longer than the specified 1000\n",
      "Created a chunk of size 1321, which is longer than the specified 1000\n",
      "Created a chunk of size 1533, which is longer than the specified 1000\n",
      "Created a chunk of size 1938, which is longer than the specified 1000\n",
      "Created a chunk of size 1447, which is longer than the specified 1000\n",
      "Created a chunk of size 1265, which is longer than the specified 1000\n",
      "Created a chunk of size 1890, which is longer than the specified 1000\n",
      "Created a chunk of size 1762, which is longer than the specified 1000\n",
      "Created a chunk of size 2396, which is longer than the specified 1000\n",
      "Created a chunk of size 1019, which is longer than the specified 1000\n",
      "Created a chunk of size 1279, which is longer than the specified 1000\n",
      "Created a chunk of size 1614, which is longer than the specified 1000\n",
      "Created a chunk of size 1303, which is longer than the specified 1000\n",
      "Created a chunk of size 1022, which is longer than the specified 1000\n",
      "Created a chunk of size 1588, which is longer than the specified 1000\n",
      "Created a chunk of size 1243, which is longer than the specified 1000\n",
      "Created a chunk of size 1227, which is longer than the specified 1000\n"
     ]
    },
    {
     "name": "stdout",
     "output_type": "stream",
     "text": [
      "14941\n"
     ]
    }
   ],
   "source": [
    "from langchain_text_splitters import CharacterTextSplitter\n",
    "\n",
    "# 문서를 청크로 분할\n",
    "text_splitter = CharacterTextSplitter(chunk_size=1000, chunk_overlap=0)\n",
    "\n",
    "docs = text_splitter.split_documents(raw_docs)\n",
    "print(len(docs))"
   ]
  },
  {
   "cell_type": "markdown",
   "metadata": {
    "id": "RqpqzjkVpM1x"
   },
   "source": [
    "### Embedding model\n",
    "텍스트를 벡터화. OpenAIEmbeddings처럼 텍스트 벡터화에 사용할 수 있는 것이 Embedding model"
   ]
  },
  {
   "cell_type": "code",
   "execution_count": 51,
   "metadata": {
    "id": "O1Vjp2FhpM1x"
   },
   "outputs": [],
   "source": [
    "from langchain_openai import OpenAIEmbeddings\n",
    "\n",
    "embeddings = OpenAIEmbeddings(model=\"text-embedding-3-small\")"
   ]
  },
  {
   "cell_type": "code",
   "execution_count": null,
   "metadata": {
    "colab": {
     "base_uri": "https://localhost:8080/"
    },
    "id": "5A9v6RZ2pM1x",
    "outputId": "c2c4723a-aa6d-4eff-fd36-6bc9c515759d"
   },
   "outputs": [
    {
     "name": "stdout",
     "output_type": "stream",
     "text": [
      "1536\n",
      "[0.0063845072872936726, 0.008431448601186275, 0.023545239120721817, -0.027140924707055092, 0.03550197556614876, 0.006292448844760656, -0.0015609280671924353, 0.0173394326120615, 0.011491029523313046, -0.025689654052257538, -0.0010004560463130474, -0.002333946293219924, -0.009449503384530544, -0.008713037706911564, -0.015205848962068558, 0.04873669520020485, 0.0074783749878406525, -0.015043393708765507, -0.029198696836829185, 0.0004998896038159728, 0.025364741683006287, 0.033032648265361786, -0.026447780430316925, 0.05055619776248932, 0.025776296854019165, -0.04739372804760933, -0.017512720078229904, 0.034722186625003815, -0.013104756362736225, -0.10700412094593048, -0.01300728227943182, -0.05449845641851425, -0.025386402383446693, 0.03275106102228165, -0.015292491763830185, 0.05250566825270653, 0.04566086828708649, 0.009666111320257187, -0.011491029523313046, -0.01996038481593132, 0.012292477302253246, -0.004088467452675104, 0.015292491763830185, 0.004256337881088257, 0.030151769518852234, 0.01923474855720997, -0.0030893650837242603, 0.00934119988232851, -0.048563409596681595, 0.009287048131227493, -0.018119219690561295, 0.05298220366239548, 0.015519930049777031, -0.008409787900745869, 0.023891812190413475, 0.04860673099756241, -0.013061434030532837, 0.03136477246880531, 0.0025613841135054827, -0.011209440417587757, 0.025083152577280998, -0.007917005568742752, -0.0524190254509449, 0.07035412639379501, 0.0006004089955240488, 0.00990979466587305, -0.003752725664526224, -0.006969347596168518, -0.05471506342291832, 0.01895315945148468, -0.022700469940900803, 0.025971243157982826, 0.03695324435830116, -0.05666453018784523, 0.002348837908357382, -0.028180640190839767, -0.03736479952931404, 0.01263904944062233, -0.02486654557287693, 0.022895416244864464, 0.0051850429736077785, 0.030498340725898743, -0.01074914913624525, -0.06047682464122772, 0.0008664301712997258, -0.004700383637100458, -0.05610135197639465, 0.03077993169426918, -0.017393585294485092, 0.02365354262292385, 0.022483862936496735, 0.028982087969779968, -0.017924273386597633, 0.012259986251592636, 0.013093926012516022, 0.05133598670363426, 0.04275832697749138, -0.02896042726933956, -0.015812350437045097, 0.03849115967750549, -0.0093466155230999, -0.038339532911777496, 0.029891839250922203, -0.045877475291490555, 0.05012298375368118, -0.027942372485995293, 0.04830348119139671, 0.010662506334483624, -0.003565901657566428, 0.0006900980952195823, -0.012552406638860703, 0.01398201659321785, -0.014274436980485916, -0.02675103023648262, 0.01438274048268795, -0.00457041896879673, 0.012736523523926735, 0.028115658089518547, 0.009536147117614746, 0.0061570690013468266, -0.02210479974746704, 0.03489547595381737, -0.0012434626696631312, -0.05714106932282448, -0.008117367513477802, 0.0010146709391847253, 0.015108375810086727, -0.05532156303524971, -0.04583415389060974, 0.02358856052160263, 0.05987032130360603, -0.0012590313563123345, 0.08967552334070206, -0.08049136400222778, 0.05740099772810936, -0.0065902844071388245, -0.011361065320670605, -0.011068644933402538, -0.011339404620230198, 0.03374745324254036, 0.0308449137955904, -0.021205877885222435, 0.02978353574872017, 0.02761746011674404, -0.04739372804760933, -0.019873742014169693, 0.026837673038244247, -0.009525316767394543, -0.02963191084563732, -0.022288914769887924, -0.05072948336601257, -0.039617519825696945, -0.029458625242114067, -0.03879440948367119, -0.037473104894161224, -0.013158908113837242, -0.02566799335181713, 0.04061391204595566, 0.027595799416303635, 0.036801621317863464, -0.07650578022003174, -0.031278129667043686, 0.027877390384674072, 0.015281661413609982, -0.020393598824739456, 0.018963990733027458, 0.027530817314982414, -0.019927892833948135, -0.012195004150271416, -0.06667179614305496, -0.012877318076789379, -0.01478346437215805, -0.017176978290081024, -0.0016001882031559944, 0.014393570832908154, -0.01975460723042488, -0.011729298159480095, -0.02822396159172058, 0.0047193365171551704, -0.02722756750881672, 0.010467559099197388, -0.02426004409790039, -0.01881236396729946, 0.036260101944208145, -0.04362475872039795, -0.013418836519122124, 0.008420618250966072, 0.032426148653030396, -0.03138643130660057, 0.02499650977551937, -0.04401465132832527, 0.05484502762556076, 0.00515796709805727, -0.005049663130193949, 0.019711285829544067, -0.011285252869129181, -0.016083110123872757, -0.006037935148924589, 0.004440454300493002, 0.007657076232135296, 0.0157365370541811, 0.0027157170698046684, -0.0001413025747751817, -0.008512675762176514, -0.03099653869867325, 0.0028754649683833122, -0.009265387430787086, 0.028982087969779968, 0.0007432345882989466, -0.0559280663728714, 0.029956823214888573, 0.04860673099756241, -0.03166802227497101, 0.005907970480620861, -0.0356319397687912, -0.030195090919733047, 0.008642640896141529, 0.07620253413915634, 0.01625639572739601, 0.03435395658016205, -0.017512720078229904, 0.019386375322937965, 0.008225671015679836, 0.004315905272960663, -0.0009293816983699799, 0.045054368674755096, -0.01515169721096754, -0.08036139607429504, -0.0071047269739210606, -0.06082339584827423, 0.044924404472112656, 0.008247331716120243, -0.027920711785554886, 0.02244054153561592, 0.016722101718187332, 0.005794251803308725, -0.05774756893515587, 0.02896042726933956, -0.020621037110686302, -0.008377296850085258, -0.008117367513477802, 0.021140895783901215, -0.0457041896879673, 0.024238383397459984, -0.026967639103531837, -0.0022703176364302635, -0.008106537163257599, -0.008815926499664783, 0.016711272299289703, 0.06216636300086975, 0.01508671510964632, -0.02358856052160263, 0.04187023639678955, -0.04964644834399223, -0.042368434369564056, -0.019072294235229492, -0.005122768227010965, -0.004223846830427647, -0.007581263780593872, -0.0026886409614235163, 0.009000043384730816, 0.020783493295311928, 0.006514471489936113, 0.016429681330919266, -0.0006870520301163197, -0.00340344593860209, 0.02345859631896019, 0.003167885122820735, -0.007938666269183159, 0.009433258324861526, 0.019126445055007935, -0.01498924195766449, 0.07529278099536896, -0.009693187661468983, 0.010294273495674133, 0.01780513860285282, -0.0018086729105561972, -0.04256338253617287, 0.01652715541422367, 0.04067889600992203, 0.00234342273324728, 0.00475724320858717, -0.017664344981312752, 0.016689611598849297, 0.0010593462502583861, -0.00475724320858717, -0.03580522537231445, -0.02863551676273346, -0.060520146042108536, 0.009725678712129593, 0.02527809888124466, -0.05545153096318245, 0.011761789210140705, -0.05233238264918327, -0.006833967752754688, 0.03623843938112259, -0.006151653826236725, 0.003536117961630225, 0.0027373777702450752, -0.013635444454848766, 0.019711285829544067, 0.045054368674755096, -0.017241960391402245, 0.014772634021937847, -0.032296184450387955, -0.006373676937073469, -0.06225300580263138, -0.009194989688694477, 0.03662833571434021, -0.006460319738835096, -0.014621009118855, 0.026101207360625267, 0.01726362109184265, 0.005734684411436319, 0.015075884759426117, -0.07182706147432327, -0.018574096262454987, -0.005090277176350355, 0.026057885959744453, -0.003728357143700123, 0.025971243157982826, 0.002222934737801552, -0.021054252982139587, -0.026317816227674484, -0.03905433788895607, 0.0181408803910017, -0.019852081313729286, -0.024043437093496323, -0.03366081044077873, -0.009958531707525253, 0.02278711274266243, 0.012379121035337448, 0.03272939845919609, -6.90436500008218e-05, 0.015400796197354794, 0.00015255600737873465, 0.006844798102974892, 0.010456728748977184, -0.002222934737801552, -0.027314210310578346, -0.043256524950265884, 0.0075920941308140755, -0.027379192411899567, -0.04852008819580078, 0.019646303728222847, 0.001972482306882739, -0.0008684608619660139, 0.02454163320362568, 0.015747368335723877, -0.025862939655780792, 0.017772648483514786, 0.013862882740795612, 0.006021689623594284, 0.022267254069447517, 0.013938695192337036, 0.004532512743026018, -0.038751088082790375, -0.06762487441301346, 0.010028928518295288, -0.03784133493900299, -0.010299688205122948, 0.011750958859920502, 0.030000144615769386, -0.014891767874360085, -0.0006958516896702349, 0.016169752925634384, 0.0044133784249424934, 0.02016616240143776, 0.05627463757991791, -0.015065054409205914, 0.00028954335721209645, 0.011523520573973656, 0.018173372372984886, -0.03703988716006279, -0.002233765320852399, 0.03201459348201752, -0.03138643130660057, 0.03953087702393532, -0.01679791510105133, 0.01841164007782936, -0.018465792760252953, 0.03697490692138672, 0.008263577707111835, -0.004288829397410154, 0.016418851912021637, 0.017436906695365906, -0.0036958660930395126, 0.010234706103801727, 0.013137247413396835, -0.015898993238806725, 0.010873698629438877, 0.017621023580431938, -0.007776210550218821, 0.0181408803910017, -0.02837558649480343, 0.001627264078706503, -0.015260000713169575, -0.011285252869129181, -0.010267197154462337, -0.018714891746640205, -0.0024936941917985678, 0.02358856052160263, 0.03355250880122185, -0.009898964315652847, 0.01122027076780796, 0.00998019240796566, 0.02774742618203163, -0.016711272299289703, 0.01922391913831234, -0.051985807716846466, 0.0380362831056118, -0.011870092712342739, 0.02963191084563732, -0.03656335175037384, 0.0028673422057181597, 0.015314152464270592, -0.046137403696775436, 0.01923474855720997, -0.02984851785004139, 0.020003706216812134, 0.028613856062293053, -0.004998218733817339, -0.017187807708978653, -0.028310604393482208, -0.03816624730825424, 0.028722159564495087, 0.07819531857967377, -0.004927821457386017, 0.03396406024694443, -0.029805196449160576, 0.028267282992601395, -0.036671657115221024, 0.041307058185338974, -0.0018262723460793495, -0.03500377759337425, 0.007814116775989532, -0.00724010681733489, -0.015173357911407948, 0.056621208786964417, -0.010126402601599693, 0.007862853817641735, 0.006265372969210148, -0.051725879311561584, 0.030628304928541183, -0.07576931267976761, 0.024043437093496323, 0.02063186839222908, 0.056491244584321976, -0.011285252869129181, 0.011328574270009995, 0.03682328015565872, -0.03851281851530075, -0.030411697924137115, -0.0021741981618106365, -0.005347498692572117, -0.03461388498544693, -0.010900774039328098, -0.04501104727387428, 0.04286663234233856, -0.04873669520020485, 0.012433272786438465, 0.03636840358376503, -0.011317743919789791, 0.0295669287443161, 0.00023234542459249496, -0.02077266201376915, 0.02272213064134121, 0.002842973917722702, 0.0074783749878406525, 0.007944080978631973, 0.0421951487660408, 0.01024553645402193, -0.028873784467577934, 0.015682386234402657, -0.015270831063389778, -0.01841164007782936, -0.02050190418958664, -0.039422571659088135, -0.010808716528117657, -0.029133712872862816, 0.016451342031359673, -0.001495945849455893, -0.03981246426701546, -0.047480370849370956, 0.04860673099756241, 0.10509797930717468, -0.014361079782247543, 0.011415217071771622, 0.03710487112402916, -0.0014241945464164019, -0.002810482867062092, 0.026534423232078552, 0.05072948336601257, -0.006736494600772858, -0.017848461866378784, -0.030151769518852234, -0.03892437368631363, -0.037061549723148346, -0.02984851785004139, 0.01579068973660469, -0.026187852025032043, -0.07901842892169952, -0.0380362831056118, 0.017317771911621094, 0.004185940604656935, -0.07529278099536896, -0.06714833527803421, 0.020415259525179863, 0.005049663130193949, -0.06918444484472275, 0.0008745529339648783, 0.04683054983615875, 0.0012319553643465042, 0.01962464302778244, -0.016180582344532013, -0.03166802227497101, 0.006687757559120655, 0.02250552363693714, 0.0001331797830061987, 0.015942314639687538, -0.032642755657434464, -0.012324969284236431, 0.05215909332036972, -0.041502002626657486, -0.0013849344104528427, 0.03771137073636055, -0.03281604126095772, -0.03327091783285141, 0.014176962897181511, -0.004935944452881813, 0.0059188008308410645, -0.06021689623594284, -0.012140852399170399, -0.03781967610120773, 0.0026615650858730078, -0.06082339584827423, 0.02447665110230446, -0.012454933486878872, -0.016516324132680893, -0.002124107675626874, 0.009417012333869934, 0.018920667469501495, -0.023783506825566292, 0.027725765481591225, 0.03192795068025589, -0.027097603306174278, 0.005009049084037542, -0.030953217297792435, 0.020956778898835182, 0.01004517450928688, 0.007960326969623566, 0.013180568814277649, 0.023826828226447105, -0.015227509662508965, 0.037733033299446106, 0.006287033669650555, -0.0020523564890027046, 0.018184201791882515, -0.030541662126779556, 0.02984851785004139, -0.016321377828717232, -0.006151653826236725, 0.0019454064313322306, -0.008989213034510612, 0.0015446825418621302, -0.013180568814277649, -0.0010268550831824541, -0.05142262950539589, -0.009796075522899628, -0.0012752768816426396, 0.0038799825124442577, 0.04579083248972893, -0.00022286885359790176, 0.03742978349328041, 0.0016895388253033161, 0.01048380509018898, 0.017111996188759804, -0.04670058563351631, -0.026967639103531837, -0.013028942979872227, -0.005179627798497677, -0.008361050859093666, -0.03415900841355324, 0.016364699229598045, -0.004632693715393543, 0.025321420282125473, 0.03530702739953995, -0.02722756750881672, -0.01586650125682354, -0.036390066146850586, 0.014545195735991001, 0.001363273710012436, 0.01444772258400917, -0.01882319524884224, 0.002620951272547245, -0.00867513194680214, 0.012541576288640499, 0.01625639572739601, -0.03896769508719444, 0.007261767517775297, 0.03305431082844734, -0.029090391471982002, 0.006601114757359028, 0.0061624846421182156, -0.012584897689521313, -0.007889929227530956, -0.004643524065613747, -0.035263705998659134, 0.014198623597621918, 0.014902598224580288, 0.031234806403517723, -0.011707637459039688, -0.050512876361608505, -0.04031066223978996, -0.005859233904629946, 0.007694982923567295, -0.04696051403880119, 0.01647300273180008, 0.004177818074822426, 0.013234720565378666, -0.012043379247188568, 0.014328588731586933, 0.03690992295742035, 0.011772619560360909, -0.025191456079483032, 0.007429638411849737, -0.038946036249399185, 0.023566899821162224, -0.09903296828269958, 0.028007354587316513, -0.0540219210088253, 0.04457782953977585, -0.005734684411436319, -0.015075884759426117, 0.029523607343435287, 0.033769115805625916, 0.024628276005387306, -0.007954911328852177, -0.0238051675260067, 0.026469441130757332, -0.008685962297022343, 0.004792441613972187, 0.03433229401707649, -0.03017343021929264, 0.0300434660166502, 0.01481595542281866, -0.01768600568175316, 0.04037564620375633, 0.0003533410490490496, -0.009254557080566883, -0.004516267217695713, -0.03342254459857941, -0.009752754122018814, 0.011805110611021519, 0.018574096262454987, -6.565915828105062e-05, -0.013137247413396835, -0.003722941968590021, 0.03039003722369671, 0.016375530511140823, -0.02259216643869877, -0.04938651993870735, -0.015898993238806725, 0.012682370841503143, -0.008463939651846886, -0.008117367513477802, 0.016353869810700417, 0.04384136572480202, 0.020848475396633148, 0.008918815292418003, -0.024909866973757744, -0.014198623597621918, 0.018108390271663666, -0.023112023249268532, 0.01545494794845581, -0.013083095662295818, -0.025906261056661606, 0.014306928031146526, -0.013873713091015816, 0.016570476815104485, -0.0008650763775222003, 0.003281604265794158, -0.017122825607657433, -0.06493894010782242, 0.00823650136590004, -0.018985651433467865, 0.018184201791882515, -0.00703974487259984, 0.02285209484398365, -0.007824947126209736, 0.0014593933010473847, -0.0016232026973739266, -0.007348410785198212, -0.02991349995136261, 0.0154224568977952, 0.05679449439048767, 0.0014323173090815544, 0.021130064502358437, -0.005972953047603369, 0.0231770072132349, -0.02224559336900711, -0.03396406024694443, -0.010137232951819897, -0.020675189793109894, -0.0380362831056118, -0.02210479974746704, -0.022223932668566704, 0.007770795375108719, 0.033097632229328156, -0.024693259969353676, -0.044404543936252594, 0.01391703449189663, -0.0431482195854187, -0.010938680730760098, -0.01815171167254448, -0.038144588470458984, 0.008713037706911564, -0.019873742014169693, -0.022678809240460396, -0.008967552334070206, -0.013104756362736225, -0.007305089384317398, -0.005133598577231169, -0.032296184450387955, 0.0198195893317461, 0.001930514699779451, 0.01820586435496807, 0.0028673422057181597, -0.009969362057745457, 0.033227596431970596, 0.03311929106712341, -0.02003619633615017, -0.03872942924499512, 0.020935118198394775, 0.0010018098400905728, 0.005082154180854559, -0.0330759696662426, 0.03810126706957817, -0.04886665940284729, -0.0037473104894161224, -0.020209483802318573, 0.0034467673394829035, 0.04483776167035103, 0.0703108087182045, -0.04098214581608772, -0.009725678712129593, -0.023436935618519783, 0.05376198887825012, -0.008610149845480919, -0.011837601661682129, 0.024693259969353676, 0.004676015116274357, 0.012043379247188568, 0.00217555183917284, 0.018368318676948547, -0.008139028213918209, 0.023436935618519783, -0.006563208531588316, 0.012660710141062737, -0.014133641496300697, 0.021541619673371315, 0.033227596431970596, 0.024844884872436523, 0.038426175713539124, -0.007402562536299229, 0.005049663130193949, -0.06909780204296112, -0.012996451929211617, 0.028418907895684242, -0.019938724115490913, 0.0012542930198833346, -0.010694997385144234, 0.055148277431726456, -0.007413392886519432, 0.009097516536712646, 0.011610164307057858, -0.004768073558807373, -0.036931585520505905, -0.027119264006614685, -0.03916264325380325, -0.01735026389360428, -0.0137437479570508, 0.0014079490210860968, -0.012054209597408772, -0.02774742618203163, 0.024888206273317337, -0.036866601556539536, 0.02506149187684059, 0.022895416244864464, -0.020079517737030983, -0.026859333738684654, -0.0043754721991717815, 0.03134310990571976, -0.005328545346856117, -0.0030243827495723963, -0.00951448641717434, -0.01404699869453907, -0.021065082401037216, -0.04005073383450508, -0.011729298159480095, -0.008577658794820309, -0.0031922536436468363, 0.0050848620012402534, 0.027595799416303635, 0.09296795725822449, 0.011577673256397247, -0.03396406024694443, 0.015649894252419472, -0.04609408229589462, -0.03270773962140083, -0.04618072509765625, 0.030476680025458336, 0.003178715705871582, 0.03045501932501793, -0.003728357143700123, -0.010505465790629387, -0.022267254069447517, 0.0009537500445730984, -0.0019873741548508406, 0.03933592885732651, 0.02802901528775692, -0.02190985158085823, -0.01793510466814041, -0.023436935618519783, 0.025776296854019165, 0.008593903854489326, 0.01580151915550232, 0.008756360039114952, -0.032101236283779144, -0.031104842200875282, 0.030931556597352028, 0.028310604393482208, 0.010110156610608101, -0.0072022005915641785, 0.04247673973441124, 0.024043437093496323, -0.0142202852293849, -0.05324213206768036, -0.044924404472112656, -0.013657105155289173, -0.05566813796758652, -0.027119264006614685, 0.00298376870341599, -0.028353925794363022, -0.012422442436218262, -0.010944095440208912, -0.025191456079483032, 0.018162541091442108, -0.029090391471982002, -0.04726376384496689, 0.012801505625247955, 0.0019196843495592475, -0.027855729684233665, 0.0043592266738414764, 0.03582688793540001, 0.03470052778720856, 0.0014201331650838256, -0.043191540986299515, -0.02991349995136261, -0.002660211408510804, 0.029198696836829185, 0.023566899821162224, -0.035458654165267944, 0.015260000713169575, 0.031083181500434875, 0.019657133147120476, 0.01364627480506897, 0.011111966334283352, 0.029263678938150406, 0.01468599122017622, 0.04031066223978996, 0.023415274918079376, -0.024281704798340797, -0.015173357911407948, 0.0025478461757302284, -0.03535034880042076, 0.012790675275027752, 0.07213030755519867, -0.006189560517668724, 0.0029323245398700237, -0.024649938568472862, 0.0009706725249998271, -0.02285209484398365, 0.02137916348874569, -0.01257406733930111, -0.030216751620173454, 0.029003748670220375, 0.00251129362732172, 0.012595728039741516, 0.022960398346185684, -0.01923474855720997, 0.015292491763830185, 0.00163403304759413, -0.010472974739968777, 0.004730166867375374, 0.03755974769592285, -0.018769042566418648, -0.019592151045799255, -0.0053366683423519135, 0.01085203792899847, -0.0025058784522116184, 0.00717512471601367, 0.014393570832908154, 0.0174152459949255, 0.027054281905293465, 0.0004643524007406086, 0.01545494794845581, 0.04390634596347809, -0.008350220508873463, -0.012487424537539482, 0.003920596558600664, 0.02003619633615017, 0.016646288335323334, -0.037668049335479736, 0.0322745218873024, -0.006622775457799435, -0.03071494959294796, 0.022462202236056328, 0.01431775838136673, -0.005989198572933674, 0.03192795068025589, -0.018877346068620682, 0.013505480252206326, -0.00044370698742568493, -0.027140924707055092, -0.013234720565378666, 0.020209483802318573, -0.0431482195854187, -0.001963005866855383, 0.011209440417587757, -0.005320422817021608, -0.005929631181061268, -0.03407236561179161, 0.004583957139402628, 0.019667964428663254, -0.047567013651132584, 0.030368376523256302, -0.0075920941308140755, -0.012119191698729992, -0.015032563358545303, 0.026989299803972244, 0.016321377828717232, 0.021519958972930908, -0.00034555670572444797, 0.043711401522159576, -0.021682415157556534, 0.006579454056918621, -0.014068659394979477, 0.004898037761449814, 0.0026074133347719908, -0.010613769292831421, -0.012086700648069382, 0.016429681330919266, -0.03305431082844734, -0.02439000830054283, 0.01377623900771141, 0.06251293420791626, -0.002282501896843314, 0.03305431082844734, 0.0025573226157575846, 0.020686019212007523, -0.013570462353527546, 0.0023474842309951782, -0.042650025337934494, 0.006346600595861673, 0.005212118849158287, 0.016787083819508553, 0.01001268345862627, 0.005788836628198624, 0.003790631890296936, -0.0038826900999993086, 0.03346586599946022, -0.0133430240675807, 0.014209453947842121, -0.002948570065200329, 0.009752754122018814, 0.038079604506492615, -0.04100380837917328, 0.01936471462249756, 0.027444174513220787, 0.019527168944478035, 0.008696792647242546, 0.021519958972930908, -0.028050675988197327, 0.014978411607444286, 0.008523506112396717, 0.018000086769461632, -0.008355636149644852, 0.02815897949039936, -0.0009111054241657257, 0.015563251450657845, 0.0007378194131888449, -0.03032505512237549, -0.017729327082633972, -0.011675146408379078, -0.009655280970036983, 0.017306942492723465, 0.007673321757465601, 0.014848446473479271, 0.020956778898835182, -0.028418907895684242, -0.02729254961013794, 0.012476594187319279, 0.006823137402534485, 0.013938695192337036, 0.0052391947247087955, 0.0033249256666749716, -0.0198195893317461, -0.018379149958491325, 0.022960398346185684, 0.0077058132737874985, 0.009920625016093254, 0.022137289866805077, 0.0048628393560647964, -0.006167899817228317, -0.044122956693172455, -0.05376198887825012, -0.004521682392805815, -0.019841250032186508, 0.0019332222873345017, 0.0031408092472702265, -0.02527809888124466, -0.04791358858346939, 0.03366081044077873, -0.02358856052160263, 0.018465792760252953, -0.0013348439242690802, -0.0008623687317594886, 0.06771151721477509, 0.025776296854019165, -0.0022297038231045008, 0.02332863211631775, 0.0036796205677092075, 0.025039831176400185, -0.011025323532521725, 0.040029071271419525, -0.00874011404812336, 0.029870178550481796, 0.03903267905116081, -0.006790646351873875, -0.01465350016951561, 0.019581321626901627, 0.034722186625003815, 0.008458524011075497, -0.0075920941308140755, 0.03561027720570564, 0.03173300251364708, 0.03515540435910225, -0.02447665110230446, 0.05207245051860809, 0.002210750710219145, 0.008214840665459633, -0.03677995875477791, -0.0037175267934799194, 0.0040695141069591045, 0.007954911328852177, 0.037754692137241364, -0.002780699171125889, 0.011653485707938671, -0.006357431411743164, 0.0007060052012093365, 0.009671526961028576, 0.032231200486421585, -0.01566072553396225, -0.012205834500491619, -0.012866487726569176, 0.00014392555749509484, 0.030433358624577522, 0.026469441130757332, 0.021086743101477623, 0.006519886665046215, -0.010630015283823013, 0.05523492023348808, 0.013462158851325512, -5.1486596930772066e-05, 0.018400810658931732, -0.04407963529229164, -0.0015270831063389778, -0.009833982214331627, -0.00043727646698243916, -0.031299788504838943, 0.0150217330083251, -0.010554201900959015, -0.003064996562898159, -0.01358129270374775, 0.013960355892777443, 0.018324997276067734, -0.030671626329421997, 0.059783678501844406, -0.020686019212007523, 0.012205834500491619, -0.015898993238806725, -0.005615550559014082, 0.005778005812317133, -0.008046969771385193, 0.01948384754359722, -0.0009131361730396748, -0.0010051943827420473, -0.029263678938150406, 0.01448021363466978, 0.00683938292786479, -0.013267211616039276, 0.01260655838996172, 0.0038989356253296137, -0.004296951927244663, 0.006119162775576115, -0.017653513699769974, 0.0063682617619633675, 0.04609408229589462, 0.011101135984063148, 0.016353869810700417, -0.003877274924889207, -0.027270888909697533, 0.012509085237979889, 0.053805310279130936, -0.0025871063116937876, -0.006736494600772858, -0.011166118085384369, -0.0246066153049469, -0.0060487654991447926, 0.022635487839579582, 0.013732917606830597, -0.01634303852915764, -0.00870220735669136, -0.007971157319843769, -0.030260073021054268, -0.007137218490242958, 0.027444174513220787, -0.014761803671717644, 0.00395037978887558, 0.04171861335635185, 0.010868282988667488, 0.01404699869453907, -0.00126038515008986, 0.020956778898835182, -0.008480184711515903, 0.025039831176400185, -0.021682415157556534, -0.0019548831041902304, 0.005144428927451372, 0.005821327678859234, 0.007841193117201328, -0.03710487112402916, 0.0049630203284323215, 0.017296111211180687, 0.04518433287739754, -0.0014363786904141307, 0.02124919928610325, -0.014404401183128357, 0.03164635971188545, -0.06662847846746445, 0.024086758494377136, -0.03957419842481613, 0.010792470537126064, 0.008247331716120243, -0.008555998094379902, -0.0008440925157628953, 0.017317771911621094, -0.010099326260387897, -0.012357460334897041, 0.006021689623594284, 0.021195046603679657, -0.010093911550939083, 0.02883046306669712, -0.008453109301626682, 0.0072563523426651955, -0.02171490527689457, -0.0007466191309504211, -0.005090277176350355, -0.010072250850498676, -0.024281704798340797, -0.012563236989080906, -0.00860473420470953, -0.0011960797710344195, 0.016213074326515198, -0.018595756962895393, 0.008214840665459633, -0.009384521283209324, -0.012584897689521313, 0.0034494749270379543, 0.010705827735364437, 0.0023231159429997206, -0.06034686043858528, -0.022332236170768738, -0.04288829118013382, -0.02218061126768589, -0.007532527204602957, 0.003457597689703107, 0.02815897949039936, -0.031148163601756096, -0.009449503384530544, -0.038946036249399185, -0.03550197556614876, 0.026231173425912857, -0.0027130094822496176, -0.05766092613339424, 0.024043437093496323, -0.0356319397687912, 0.0399424284696579, 0.008458524011075497, 0.0026439656503498554, -0.01048380509018898, 0.0015067761996760964, 0.02291707694530487, 0.026361137628555298, -0.003384492825716734, -0.0054368493147194386, 0.007066820748150349, 0.006736494600772858, 0.005415188614279032, 0.01048380509018898, -0.015552421100437641, 0.03151639550924301, -0.04765365645289421, -0.0037202343810349703, 0.022202271968126297, -0.015335813164710999, 0.022018156945705414, 0.03238282725214958, 0.0023962208069860935, -0.015010902658104897, 0.02387014962732792, 0.00767873739823699, 0.01394952554255724, -0.014588517136871815, -0.011891753412783146, 0.03353084623813629, -0.0025018169544637203, 0.016440512612462044, 0.025126473978161812, 0.04397132992744446, -0.008306899107992649, 0.04308323934674263, 0.0037987546529620886, 0.002201274037361145, -0.0010031636338680983, 0.02896042726933956, -0.015379135496914387, -0.00894047599285841, 0.03480882942676544, 0.020718511193990707, 0.011393556371331215, 0.02163909375667572, -0.034982118755578995, -0.01620224304497242, 0.03017343021929264, -0.024454990401864052, 0.024108419194817543, 0.006092086900025606, -0.020285295322537422, 9.51888578129001e-05, -0.005296054296195507, 0.031039860099554062, 0.0036146382335573435, -0.007803286425769329, -0.012010888196527958, -0.017989255487918854, 0.022613827139139175, 0.013516310602426529, 0.01481595542281866, -0.033899080008268356, -0.02259216643869877, -0.008767190389335155, 0.013364684768021107, -0.002618243684992194, -0.0016028957907110453, -0.017902612686157227, -0.00880509614944458, -0.006232881918549538, -0.012812335975468159, 0.011317743919789791, 0.015888161957263947, -0.004854716360569, -0.017794309183955193, -0.018779873847961426, 0.010635429993271828, -0.0015027148183435202, 0.014296097680926323, 0.0011967566097155213, -0.021281691268086433, -0.020220313221216202, 0.01666794903576374, 0.013223890215158463, 0.008756360039114952, -0.01889900676906109, 0.02675103023648262, -0.029523607343435287, -0.030216751620173454, 0.018725721165537834, 0.015260000713169575, 0.025451386347413063, 0.02198566496372223, 0.049429841339588165, -0.018931498751044273, 0.007602924481034279, -0.000473828986287117, -0.020556055009365082, 0.0029729383531957865, -0.02097843959927559, -0.025516368448734283, 0.021454976871609688, 0.009660695679485798, 0.02259216643869877, -0.007927835918962955, -0.012119191698729992, -0.02701096050441265, -0.013472989201545715, 0.0038366608787328005, 0.02681601233780384, -0.03502544015645981, 0.021454976871609688, 0.017122825607657433, -0.030866574496030807, -0.013992846943438053, 0.023978454992175102, 0.004616448190063238, 0.016440512612462044, -0.029870178550481796, -0.003947672434151173, 0.01505422405898571, -0.002413820242509246, -0.0004484452947508544, -0.03669331595301628, -0.0023813291918486357, 0.015628233551979065, -0.022873755544424057, 0.02171490527689457, 0.00924372673034668, 0.025039831176400185, -0.006568623706698418, 0.010175138711929321, -0.0061570690013468266, 0.0005293346475809813, -0.0019643595442175865, 0.016949540004134178, -0.015541590750217438, 0.007505451329052448, 0.0020902627147734165, 0.03918430209159851, 0.008182349614799023, 0.012173343449831009, 0.0010079019702970982, 0.026447780430316925, 0.028397247195243835, -0.006655266508460045, 0.008030724711716175, -0.0007222507265396416, -0.0031841308809816837, 0.0028131904546171427, 0.0015135451685637236, 0.018855685368180275, 0.0021322304382920265, -0.03543699160218239, -0.02326365001499653, 0.032361164689064026, -0.020675189793109894, 0.028527213260531425, -0.007332165259867907, 0.015249170362949371, -0.013754578307271004, 0.03580522537231445, -0.014675160869956017, -0.005225657019764185, -0.016321377828717232, 0.025104813277721405, 0.025776296854019165, 0.014621009118855, 0.03151639550924301, 0.01193507481366396, 0.013332193717360497, -0.00247880257666111, -0.02620951272547245, 0.05731435492634773, 0.0031353940721601248, -0.01444772258400917, 0.054541777819395065, 0.025906261056661606, 0.013960355892777443, 0.004724751692265272, 0.0043890103697776794, -0.023112023249268532, -0.0020320494659245014, 0.0025288930628448725, -0.028310604393482208, -0.004394425544887781, 0.04401465132832527, 0.012151682749390602, 0.01444772258400917, -0.016841236501932144, 0.05207245051860809, -0.02707594260573387, 0.032361164689064026, 0.04061391204595566, 0.025321420282125473, -0.0015121913747861981, -0.002333946293219924, 0.028202300891280174, -0.0021308765280991793, 0.0016529862768948078, 0.0337257944047451, -0.008095706813037395, -0.03240448608994484, 0.032166220247745514, 0.0017044305568560958, 0.0035252876114100218, 0.011848432011902332, -0.01425277628004551, 0.013462158851325512, 0.010732903145253658, 0.0013206290313974023, -0.01607227884232998, -0.02250552363693714, -0.004462115466594696, -0.025234777480363846, 0.025711314752697945, 0.0018167956732213497, 0.02573297545313835, -0.010169724002480507, 0.028722159564495087, -0.02216978184878826, 0.008783435449004173, -0.015444117598235607, -0.02655608393251896, -0.021606601774692535, 0.007586678955703974, 0.004908868111670017, -0.011761789210140705, 0.010597523301839828, -0.026231173425912857, 0.00561013538390398, -0.027400853112339973, -0.010110156610608101, 0.011848432011902332, -0.049429841339588165, -0.012054209597408772, -0.01290980912744999, -0.017707666382193565, 0.023545239120721817, 0.00442150142043829, -0.024433329701423645, 0.00423467718064785, -0.03690992295742035, -0.010261782445013523, -0.01371125690639019, 0.011122796684503555, -0.012704032473266125, 0.0190181415528059, -0.04167528823018074, -0.019949553534388542, -0.03987744823098183, 0.008680546656250954, 0.012714862823486328, 0.01801091618835926, 0.005128183402121067, -0.00368774333037436, -0.0198954027146101, -0.023675203323364258, -0.0013998262584209442, 0.011566842906177044, 0.00030815807986073196, 0.015649894252419472, -0.00937369093298912, 0.02447665110230446, 0.004058683756738901, 0.03407236561179161, 0.05519159883260727, 0.023675203323364258, 0.02042609080672264, -0.023631881922483444, 0.014231115579605103, 0.018834024667739868, -0.006292448844760656, -0.0026439656503498554, 0.005455802194774151, -0.0002120384742738679, -0.009287048131227493, 0.0231770072132349, 0.0025356619153171778, -0.023956794291734695, 0.01719863899052143, -0.000817016523797065, 0.020588546991348267, 0.016299717128276825, 0.013873713091015816, 0.022548845037817955, -0.024346686899662018, -0.02365354262292385, -0.02136833406984806, -0.009731093421578407, -0.017772648483514786, -0.0508161298930645, 0.016386359930038452, -0.0072725978679955006, -0.047696977853775024, -0.025451386347413063, -0.00047349053784273565, -0.001505422405898571, 0.007716643624007702, 0.016418851912021637, -0.006184145342558622, -0.029675232246518135, -0.013505480252206326, 0.015909822657704353, 0.029675232246518135, 0.004684138111770153, 0.020653529092669487, -0.006785231176763773, 0.0013334901304915547, 0.021021761000156403, -0.02506149187684059, 0.033574167639017105, -0.017761817201972008, -0.003368247300386429, -0.0010891297133639455, 0.011891753412783146, -0.026664387434720993, -0.022462202236056328, -0.005393527448177338, 0.020068688318133354, -0.016505494713783264, 0.0284405704587698, -0.01061918493360281, -0.021465806290507317, 0.02070767991244793, 0.043126560747623444, 0.02675103023648262, -0.020599376410245895, -0.016278056427836418, 0.004808687139302492, -0.01666794903576374, -0.0003426798793952912, 0.025862939655780792, -0.013657105155289173, 0.008778020739555359, -0.0049034529365599155, 0.0178159698843956]\n"
     ]
    }
   ],
   "source": [
    "# 벡터화 예시\n",
    "query = \"AWS의 S3에서 데이터를 읽어 들이기 위한 Document loader가 있나요?\"\n",
    "\n",
    "vector = embeddings.embed_query(query)\n",
    "# 임베딩 벡터의 차원 \n",
    "print(len(vector))\n",
    "print(vector)"
   ]
  },
  {
   "cell_type": "markdown",
   "metadata": {
    "id": "rgpo9ME2pM1x"
   },
   "source": [
    "### Vector store\n",
    "저장소인 Vector store에 문서를 벡터화하여 저장"
   ]
  },
  {
   "cell_type": "code",
   "execution_count": 39,
   "metadata": {
    "colab": {
     "base_uri": "https://localhost:8080/"
    },
    "id": "aGD7J82BpM1x",
    "outputId": "35c18c21-49d4-43db-d24d-7a1912615c15"
   },
   "outputs": [
    {
     "name": "stdout",
     "output_type": "stream",
     "text": [
      "Requirement already satisfied: langchain-chroma==0.1.4 in /Users/iyeongbeom/YB/Repository/study/llm-agent/.venv/lib/python3.12/site-packages (0.1.4)\n",
      "Requirement already satisfied: chromadb!=0.5.4,!=0.5.5,<0.6.0,>=0.4.0 in /Users/iyeongbeom/YB/Repository/study/llm-agent/.venv/lib/python3.12/site-packages (from langchain-chroma==0.1.4) (0.5.23)\n",
      "Requirement already satisfied: fastapi<1,>=0.95.2 in /Users/iyeongbeom/YB/Repository/study/llm-agent/.venv/lib/python3.12/site-packages (from langchain-chroma==0.1.4) (0.118.2)\n",
      "Requirement already satisfied: langchain-core<0.4,>=0.1.40 in /Users/iyeongbeom/YB/Repository/study/llm-agent/.venv/lib/python3.12/site-packages (from langchain-chroma==0.1.4) (0.3.63)\n",
      "Requirement already satisfied: numpy<2.0.0,>=1.26.0 in /Users/iyeongbeom/YB/Repository/study/llm-agent/.venv/lib/python3.12/site-packages (from langchain-chroma==0.1.4) (1.26.4)\n",
      "Requirement already satisfied: build>=1.0.3 in /Users/iyeongbeom/YB/Repository/study/llm-agent/.venv/lib/python3.12/site-packages (from chromadb!=0.5.4,!=0.5.5,<0.6.0,>=0.4.0->langchain-chroma==0.1.4) (1.3.0)\n",
      "Requirement already satisfied: pydantic>=1.9 in /Users/iyeongbeom/YB/Repository/study/llm-agent/.venv/lib/python3.12/site-packages (from chromadb!=0.5.4,!=0.5.5,<0.6.0,>=0.4.0->langchain-chroma==0.1.4) (2.9.2)\n",
      "Requirement already satisfied: chroma-hnswlib==0.7.6 in /Users/iyeongbeom/YB/Repository/study/llm-agent/.venv/lib/python3.12/site-packages (from chromadb!=0.5.4,!=0.5.5,<0.6.0,>=0.4.0->langchain-chroma==0.1.4) (0.7.6)\n",
      "Requirement already satisfied: uvicorn>=0.18.3 in /Users/iyeongbeom/YB/Repository/study/llm-agent/.venv/lib/python3.12/site-packages (from uvicorn[standard]>=0.18.3->chromadb!=0.5.4,!=0.5.5,<0.6.0,>=0.4.0->langchain-chroma==0.1.4) (0.37.0)\n",
      "Requirement already satisfied: posthog>=2.4.0 in /Users/iyeongbeom/YB/Repository/study/llm-agent/.venv/lib/python3.12/site-packages (from chromadb!=0.5.4,!=0.5.5,<0.6.0,>=0.4.0->langchain-chroma==0.1.4) (6.7.6)\n",
      "Requirement already satisfied: typing_extensions>=4.5.0 in /Users/iyeongbeom/YB/Repository/study/llm-agent/.venv/lib/python3.12/site-packages (from chromadb!=0.5.4,!=0.5.5,<0.6.0,>=0.4.0->langchain-chroma==0.1.4) (4.15.0)\n",
      "Requirement already satisfied: onnxruntime>=1.14.1 in /Users/iyeongbeom/YB/Repository/study/llm-agent/.venv/lib/python3.12/site-packages (from chromadb!=0.5.4,!=0.5.5,<0.6.0,>=0.4.0->langchain-chroma==0.1.4) (1.23.1)\n",
      "Requirement already satisfied: opentelemetry-api>=1.2.0 in /Users/iyeongbeom/YB/Repository/study/llm-agent/.venv/lib/python3.12/site-packages (from chromadb!=0.5.4,!=0.5.5,<0.6.0,>=0.4.0->langchain-chroma==0.1.4) (1.37.0)\n",
      "Requirement already satisfied: opentelemetry-exporter-otlp-proto-grpc>=1.2.0 in /Users/iyeongbeom/YB/Repository/study/llm-agent/.venv/lib/python3.12/site-packages (from chromadb!=0.5.4,!=0.5.5,<0.6.0,>=0.4.0->langchain-chroma==0.1.4) (1.37.0)\n",
      "Requirement already satisfied: opentelemetry-instrumentation-fastapi>=0.41b0 in /Users/iyeongbeom/YB/Repository/study/llm-agent/.venv/lib/python3.12/site-packages (from chromadb!=0.5.4,!=0.5.5,<0.6.0,>=0.4.0->langchain-chroma==0.1.4) (0.58b0)\n",
      "Requirement already satisfied: opentelemetry-sdk>=1.2.0 in /Users/iyeongbeom/YB/Repository/study/llm-agent/.venv/lib/python3.12/site-packages (from chromadb!=0.5.4,!=0.5.5,<0.6.0,>=0.4.0->langchain-chroma==0.1.4) (1.37.0)\n",
      "Requirement already satisfied: tokenizers<=0.20.3,>=0.13.2 in /Users/iyeongbeom/YB/Repository/study/llm-agent/.venv/lib/python3.12/site-packages (from chromadb!=0.5.4,!=0.5.5,<0.6.0,>=0.4.0->langchain-chroma==0.1.4) (0.20.3)\n",
      "Requirement already satisfied: pypika>=0.48.9 in /Users/iyeongbeom/YB/Repository/study/llm-agent/.venv/lib/python3.12/site-packages (from chromadb!=0.5.4,!=0.5.5,<0.6.0,>=0.4.0->langchain-chroma==0.1.4) (0.48.9)\n",
      "Requirement already satisfied: tqdm>=4.65.0 in /Users/iyeongbeom/YB/Repository/study/llm-agent/.venv/lib/python3.12/site-packages (from chromadb!=0.5.4,!=0.5.5,<0.6.0,>=0.4.0->langchain-chroma==0.1.4) (4.67.1)\n",
      "Requirement already satisfied: overrides>=7.3.1 in /Users/iyeongbeom/YB/Repository/study/llm-agent/.venv/lib/python3.12/site-packages (from chromadb!=0.5.4,!=0.5.5,<0.6.0,>=0.4.0->langchain-chroma==0.1.4) (7.7.0)\n",
      "Requirement already satisfied: importlib-resources in /Users/iyeongbeom/YB/Repository/study/llm-agent/.venv/lib/python3.12/site-packages (from chromadb!=0.5.4,!=0.5.5,<0.6.0,>=0.4.0->langchain-chroma==0.1.4) (6.5.2)\n",
      "Requirement already satisfied: grpcio>=1.58.0 in /Users/iyeongbeom/YB/Repository/study/llm-agent/.venv/lib/python3.12/site-packages (from chromadb!=0.5.4,!=0.5.5,<0.6.0,>=0.4.0->langchain-chroma==0.1.4) (1.75.1)\n",
      "Requirement already satisfied: bcrypt>=4.0.1 in /Users/iyeongbeom/YB/Repository/study/llm-agent/.venv/lib/python3.12/site-packages (from chromadb!=0.5.4,!=0.5.5,<0.6.0,>=0.4.0->langchain-chroma==0.1.4) (5.0.0)\n",
      "Requirement already satisfied: typer>=0.9.0 in /Users/iyeongbeom/YB/Repository/study/llm-agent/.venv/lib/python3.12/site-packages (from chromadb!=0.5.4,!=0.5.5,<0.6.0,>=0.4.0->langchain-chroma==0.1.4) (0.19.2)\n",
      "Requirement already satisfied: kubernetes>=28.1.0 in /Users/iyeongbeom/YB/Repository/study/llm-agent/.venv/lib/python3.12/site-packages (from chromadb!=0.5.4,!=0.5.5,<0.6.0,>=0.4.0->langchain-chroma==0.1.4) (34.1.0)\n",
      "Requirement already satisfied: tenacity>=8.2.3 in /Users/iyeongbeom/YB/Repository/study/llm-agent/.venv/lib/python3.12/site-packages (from chromadb!=0.5.4,!=0.5.5,<0.6.0,>=0.4.0->langchain-chroma==0.1.4) (8.5.0)\n",
      "Requirement already satisfied: PyYAML>=6.0.0 in /Users/iyeongbeom/YB/Repository/study/llm-agent/.venv/lib/python3.12/site-packages (from chromadb!=0.5.4,!=0.5.5,<0.6.0,>=0.4.0->langchain-chroma==0.1.4) (6.0.3)\n",
      "Requirement already satisfied: mmh3>=4.0.1 in /Users/iyeongbeom/YB/Repository/study/llm-agent/.venv/lib/python3.12/site-packages (from chromadb!=0.5.4,!=0.5.5,<0.6.0,>=0.4.0->langchain-chroma==0.1.4) (5.2.0)\n",
      "Requirement already satisfied: orjson>=3.9.12 in /Users/iyeongbeom/YB/Repository/study/llm-agent/.venv/lib/python3.12/site-packages (from chromadb!=0.5.4,!=0.5.5,<0.6.0,>=0.4.0->langchain-chroma==0.1.4) (3.11.3)\n",
      "Requirement already satisfied: httpx>=0.27.0 in /Users/iyeongbeom/YB/Repository/study/llm-agent/.venv/lib/python3.12/site-packages (from chromadb!=0.5.4,!=0.5.5,<0.6.0,>=0.4.0->langchain-chroma==0.1.4) (0.27.2)\n",
      "Requirement already satisfied: rich>=10.11.0 in /Users/iyeongbeom/YB/Repository/study/llm-agent/.venv/lib/python3.12/site-packages (from chromadb!=0.5.4,!=0.5.5,<0.6.0,>=0.4.0->langchain-chroma==0.1.4) (14.1.0)\n",
      "Requirement already satisfied: starlette<0.49.0,>=0.40.0 in /Users/iyeongbeom/YB/Repository/study/llm-agent/.venv/lib/python3.12/site-packages (from fastapi<1,>=0.95.2->langchain-chroma==0.1.4) (0.48.0)\n",
      "Requirement already satisfied: langsmith<0.4,>=0.1.126 in /Users/iyeongbeom/YB/Repository/study/llm-agent/.venv/lib/python3.12/site-packages (from langchain-core<0.4,>=0.1.40->langchain-chroma==0.1.4) (0.1.147)\n",
      "Requirement already satisfied: jsonpatch<2.0,>=1.33 in /Users/iyeongbeom/YB/Repository/study/llm-agent/.venv/lib/python3.12/site-packages (from langchain-core<0.4,>=0.1.40->langchain-chroma==0.1.4) (1.33)\n",
      "Requirement already satisfied: packaging<25,>=23.2 in /Users/iyeongbeom/YB/Repository/study/llm-agent/.venv/lib/python3.12/site-packages (from langchain-core<0.4,>=0.1.40->langchain-chroma==0.1.4) (24.2)\n",
      "Requirement already satisfied: jsonpointer>=1.9 in /Users/iyeongbeom/YB/Repository/study/llm-agent/.venv/lib/python3.12/site-packages (from jsonpatch<2.0,>=1.33->langchain-core<0.4,>=0.1.40->langchain-chroma==0.1.4) (3.0.0)\n",
      "Requirement already satisfied: requests<3,>=2 in /Users/iyeongbeom/YB/Repository/study/llm-agent/.venv/lib/python3.12/site-packages (from langsmith<0.4,>=0.1.126->langchain-core<0.4,>=0.1.40->langchain-chroma==0.1.4) (2.32.5)\n",
      "Requirement already satisfied: requests-toolbelt<2.0.0,>=1.0.0 in /Users/iyeongbeom/YB/Repository/study/llm-agent/.venv/lib/python3.12/site-packages (from langsmith<0.4,>=0.1.126->langchain-core<0.4,>=0.1.40->langchain-chroma==0.1.4) (1.0.0)\n",
      "Requirement already satisfied: anyio in /Users/iyeongbeom/YB/Repository/study/llm-agent/.venv/lib/python3.12/site-packages (from httpx>=0.27.0->chromadb!=0.5.4,!=0.5.5,<0.6.0,>=0.4.0->langchain-chroma==0.1.4) (4.10.0)\n",
      "Requirement already satisfied: certifi in /Users/iyeongbeom/YB/Repository/study/llm-agent/.venv/lib/python3.12/site-packages (from httpx>=0.27.0->chromadb!=0.5.4,!=0.5.5,<0.6.0,>=0.4.0->langchain-chroma==0.1.4) (2025.8.3)\n",
      "Requirement already satisfied: httpcore==1.* in /Users/iyeongbeom/YB/Repository/study/llm-agent/.venv/lib/python3.12/site-packages (from httpx>=0.27.0->chromadb!=0.5.4,!=0.5.5,<0.6.0,>=0.4.0->langchain-chroma==0.1.4) (1.0.9)\n",
      "Requirement already satisfied: idna in /Users/iyeongbeom/YB/Repository/study/llm-agent/.venv/lib/python3.12/site-packages (from httpx>=0.27.0->chromadb!=0.5.4,!=0.5.5,<0.6.0,>=0.4.0->langchain-chroma==0.1.4) (3.10)\n",
      "Requirement already satisfied: sniffio in /Users/iyeongbeom/YB/Repository/study/llm-agent/.venv/lib/python3.12/site-packages (from httpx>=0.27.0->chromadb!=0.5.4,!=0.5.5,<0.6.0,>=0.4.0->langchain-chroma==0.1.4) (1.3.1)\n",
      "Requirement already satisfied: h11>=0.16 in /Users/iyeongbeom/YB/Repository/study/llm-agent/.venv/lib/python3.12/site-packages (from httpcore==1.*->httpx>=0.27.0->chromadb!=0.5.4,!=0.5.5,<0.6.0,>=0.4.0->langchain-chroma==0.1.4) (0.16.0)\n",
      "Requirement already satisfied: annotated-types>=0.6.0 in /Users/iyeongbeom/YB/Repository/study/llm-agent/.venv/lib/python3.12/site-packages (from pydantic>=1.9->chromadb!=0.5.4,!=0.5.5,<0.6.0,>=0.4.0->langchain-chroma==0.1.4) (0.7.0)\n",
      "Requirement already satisfied: pydantic-core==2.23.4 in /Users/iyeongbeom/YB/Repository/study/llm-agent/.venv/lib/python3.12/site-packages (from pydantic>=1.9->chromadb!=0.5.4,!=0.5.5,<0.6.0,>=0.4.0->langchain-chroma==0.1.4) (2.23.4)\n",
      "Requirement already satisfied: charset_normalizer<4,>=2 in /Users/iyeongbeom/YB/Repository/study/llm-agent/.venv/lib/python3.12/site-packages (from requests<3,>=2->langsmith<0.4,>=0.1.126->langchain-core<0.4,>=0.1.40->langchain-chroma==0.1.4) (3.4.3)\n",
      "Requirement already satisfied: urllib3<3,>=1.21.1 in /Users/iyeongbeom/YB/Repository/study/llm-agent/.venv/lib/python3.12/site-packages (from requests<3,>=2->langsmith<0.4,>=0.1.126->langchain-core<0.4,>=0.1.40->langchain-chroma==0.1.4) (2.3.0)\n",
      "Requirement already satisfied: huggingface-hub<1.0,>=0.16.4 in /Users/iyeongbeom/YB/Repository/study/llm-agent/.venv/lib/python3.12/site-packages (from tokenizers<=0.20.3,>=0.13.2->chromadb!=0.5.4,!=0.5.5,<0.6.0,>=0.4.0->langchain-chroma==0.1.4) (0.35.3)\n",
      "Requirement already satisfied: filelock in /Users/iyeongbeom/YB/Repository/study/llm-agent/.venv/lib/python3.12/site-packages (from huggingface-hub<1.0,>=0.16.4->tokenizers<=0.20.3,>=0.13.2->chromadb!=0.5.4,!=0.5.5,<0.6.0,>=0.4.0->langchain-chroma==0.1.4) (3.19.1)\n",
      "Requirement already satisfied: fsspec>=2023.5.0 in /Users/iyeongbeom/YB/Repository/study/llm-agent/.venv/lib/python3.12/site-packages (from huggingface-hub<1.0,>=0.16.4->tokenizers<=0.20.3,>=0.13.2->chromadb!=0.5.4,!=0.5.5,<0.6.0,>=0.4.0->langchain-chroma==0.1.4) (2025.9.0)\n",
      "Requirement already satisfied: hf-xet<2.0.0,>=1.1.3 in /Users/iyeongbeom/YB/Repository/study/llm-agent/.venv/lib/python3.12/site-packages (from huggingface-hub<1.0,>=0.16.4->tokenizers<=0.20.3,>=0.13.2->chromadb!=0.5.4,!=0.5.5,<0.6.0,>=0.4.0->langchain-chroma==0.1.4) (1.1.10)\n",
      "Requirement already satisfied: pyproject_hooks in /Users/iyeongbeom/YB/Repository/study/llm-agent/.venv/lib/python3.12/site-packages (from build>=1.0.3->chromadb!=0.5.4,!=0.5.5,<0.6.0,>=0.4.0->langchain-chroma==0.1.4) (1.2.0)\n",
      "Requirement already satisfied: six>=1.9.0 in /Users/iyeongbeom/YB/Repository/study/llm-agent/.venv/lib/python3.12/site-packages (from kubernetes>=28.1.0->chromadb!=0.5.4,!=0.5.5,<0.6.0,>=0.4.0->langchain-chroma==0.1.4) (1.17.0)\n",
      "Requirement already satisfied: python-dateutil>=2.5.3 in /Users/iyeongbeom/YB/Repository/study/llm-agent/.venv/lib/python3.12/site-packages (from kubernetes>=28.1.0->chromadb!=0.5.4,!=0.5.5,<0.6.0,>=0.4.0->langchain-chroma==0.1.4) (2.9.0.post0)\n",
      "Requirement already satisfied: google-auth>=1.0.1 in /Users/iyeongbeom/YB/Repository/study/llm-agent/.venv/lib/python3.12/site-packages (from kubernetes>=28.1.0->chromadb!=0.5.4,!=0.5.5,<0.6.0,>=0.4.0->langchain-chroma==0.1.4) (2.41.1)\n",
      "Requirement already satisfied: websocket-client!=0.40.0,!=0.41.*,!=0.42.*,>=0.32.0 in /Users/iyeongbeom/YB/Repository/study/llm-agent/.venv/lib/python3.12/site-packages (from kubernetes>=28.1.0->chromadb!=0.5.4,!=0.5.5,<0.6.0,>=0.4.0->langchain-chroma==0.1.4) (1.9.0)\n",
      "Requirement already satisfied: requests-oauthlib in /Users/iyeongbeom/YB/Repository/study/llm-agent/.venv/lib/python3.12/site-packages (from kubernetes>=28.1.0->chromadb!=0.5.4,!=0.5.5,<0.6.0,>=0.4.0->langchain-chroma==0.1.4) (2.0.0)\n",
      "Requirement already satisfied: durationpy>=0.7 in /Users/iyeongbeom/YB/Repository/study/llm-agent/.venv/lib/python3.12/site-packages (from kubernetes>=28.1.0->chromadb!=0.5.4,!=0.5.5,<0.6.0,>=0.4.0->langchain-chroma==0.1.4) (0.10)\n",
      "Requirement already satisfied: cachetools<7.0,>=2.0.0 in /Users/iyeongbeom/YB/Repository/study/llm-agent/.venv/lib/python3.12/site-packages (from google-auth>=1.0.1->kubernetes>=28.1.0->chromadb!=0.5.4,!=0.5.5,<0.6.0,>=0.4.0->langchain-chroma==0.1.4) (6.2.0)\n",
      "Requirement already satisfied: pyasn1-modules>=0.2.1 in /Users/iyeongbeom/YB/Repository/study/llm-agent/.venv/lib/python3.12/site-packages (from google-auth>=1.0.1->kubernetes>=28.1.0->chromadb!=0.5.4,!=0.5.5,<0.6.0,>=0.4.0->langchain-chroma==0.1.4) (0.4.2)\n",
      "Requirement already satisfied: rsa<5,>=3.1.4 in /Users/iyeongbeom/YB/Repository/study/llm-agent/.venv/lib/python3.12/site-packages (from google-auth>=1.0.1->kubernetes>=28.1.0->chromadb!=0.5.4,!=0.5.5,<0.6.0,>=0.4.0->langchain-chroma==0.1.4) (4.9.1)\n",
      "Requirement already satisfied: pyasn1>=0.1.3 in /Users/iyeongbeom/YB/Repository/study/llm-agent/.venv/lib/python3.12/site-packages (from rsa<5,>=3.1.4->google-auth>=1.0.1->kubernetes>=28.1.0->chromadb!=0.5.4,!=0.5.5,<0.6.0,>=0.4.0->langchain-chroma==0.1.4) (0.6.1)\n",
      "Requirement already satisfied: coloredlogs in /Users/iyeongbeom/YB/Repository/study/llm-agent/.venv/lib/python3.12/site-packages (from onnxruntime>=1.14.1->chromadb!=0.5.4,!=0.5.5,<0.6.0,>=0.4.0->langchain-chroma==0.1.4) (15.0.1)\n",
      "Requirement already satisfied: flatbuffers in /Users/iyeongbeom/YB/Repository/study/llm-agent/.venv/lib/python3.12/site-packages (from onnxruntime>=1.14.1->chromadb!=0.5.4,!=0.5.5,<0.6.0,>=0.4.0->langchain-chroma==0.1.4) (25.9.23)\n",
      "Requirement already satisfied: protobuf in /Users/iyeongbeom/YB/Repository/study/llm-agent/.venv/lib/python3.12/site-packages (from onnxruntime>=1.14.1->chromadb!=0.5.4,!=0.5.5,<0.6.0,>=0.4.0->langchain-chroma==0.1.4) (6.32.1)\n",
      "Requirement already satisfied: sympy in /Users/iyeongbeom/YB/Repository/study/llm-agent/.venv/lib/python3.12/site-packages (from onnxruntime>=1.14.1->chromadb!=0.5.4,!=0.5.5,<0.6.0,>=0.4.0->langchain-chroma==0.1.4) (1.14.0)\n",
      "Requirement already satisfied: importlib-metadata<8.8.0,>=6.0 in /Users/iyeongbeom/YB/Repository/study/llm-agent/.venv/lib/python3.12/site-packages (from opentelemetry-api>=1.2.0->chromadb!=0.5.4,!=0.5.5,<0.6.0,>=0.4.0->langchain-chroma==0.1.4) (8.7.0)\n",
      "Requirement already satisfied: zipp>=3.20 in /Users/iyeongbeom/YB/Repository/study/llm-agent/.venv/lib/python3.12/site-packages (from importlib-metadata<8.8.0,>=6.0->opentelemetry-api>=1.2.0->chromadb!=0.5.4,!=0.5.5,<0.6.0,>=0.4.0->langchain-chroma==0.1.4) (3.23.0)\n",
      "Requirement already satisfied: googleapis-common-protos~=1.57 in /Users/iyeongbeom/YB/Repository/study/llm-agent/.venv/lib/python3.12/site-packages (from opentelemetry-exporter-otlp-proto-grpc>=1.2.0->chromadb!=0.5.4,!=0.5.5,<0.6.0,>=0.4.0->langchain-chroma==0.1.4) (1.70.0)\n",
      "Requirement already satisfied: opentelemetry-exporter-otlp-proto-common==1.37.0 in /Users/iyeongbeom/YB/Repository/study/llm-agent/.venv/lib/python3.12/site-packages (from opentelemetry-exporter-otlp-proto-grpc>=1.2.0->chromadb!=0.5.4,!=0.5.5,<0.6.0,>=0.4.0->langchain-chroma==0.1.4) (1.37.0)\n",
      "Requirement already satisfied: opentelemetry-proto==1.37.0 in /Users/iyeongbeom/YB/Repository/study/llm-agent/.venv/lib/python3.12/site-packages (from opentelemetry-exporter-otlp-proto-grpc>=1.2.0->chromadb!=0.5.4,!=0.5.5,<0.6.0,>=0.4.0->langchain-chroma==0.1.4) (1.37.0)\n",
      "Requirement already satisfied: opentelemetry-semantic-conventions==0.58b0 in /Users/iyeongbeom/YB/Repository/study/llm-agent/.venv/lib/python3.12/site-packages (from opentelemetry-sdk>=1.2.0->chromadb!=0.5.4,!=0.5.5,<0.6.0,>=0.4.0->langchain-chroma==0.1.4) (0.58b0)\n",
      "Requirement already satisfied: opentelemetry-instrumentation-asgi==0.58b0 in /Users/iyeongbeom/YB/Repository/study/llm-agent/.venv/lib/python3.12/site-packages (from opentelemetry-instrumentation-fastapi>=0.41b0->chromadb!=0.5.4,!=0.5.5,<0.6.0,>=0.4.0->langchain-chroma==0.1.4) (0.58b0)\n",
      "Requirement already satisfied: opentelemetry-instrumentation==0.58b0 in /Users/iyeongbeom/YB/Repository/study/llm-agent/.venv/lib/python3.12/site-packages (from opentelemetry-instrumentation-fastapi>=0.41b0->chromadb!=0.5.4,!=0.5.5,<0.6.0,>=0.4.0->langchain-chroma==0.1.4) (0.58b0)\n",
      "Requirement already satisfied: opentelemetry-util-http==0.58b0 in /Users/iyeongbeom/YB/Repository/study/llm-agent/.venv/lib/python3.12/site-packages (from opentelemetry-instrumentation-fastapi>=0.41b0->chromadb!=0.5.4,!=0.5.5,<0.6.0,>=0.4.0->langchain-chroma==0.1.4) (0.58b0)\n",
      "Requirement already satisfied: wrapt<2.0.0,>=1.0.0 in /Users/iyeongbeom/YB/Repository/study/llm-agent/.venv/lib/python3.12/site-packages (from opentelemetry-instrumentation==0.58b0->opentelemetry-instrumentation-fastapi>=0.41b0->chromadb!=0.5.4,!=0.5.5,<0.6.0,>=0.4.0->langchain-chroma==0.1.4) (1.17.3)\n",
      "Requirement already satisfied: asgiref~=3.0 in /Users/iyeongbeom/YB/Repository/study/llm-agent/.venv/lib/python3.12/site-packages (from opentelemetry-instrumentation-asgi==0.58b0->opentelemetry-instrumentation-fastapi>=0.41b0->chromadb!=0.5.4,!=0.5.5,<0.6.0,>=0.4.0->langchain-chroma==0.1.4) (3.10.0)\n",
      "Requirement already satisfied: backoff>=1.10.0 in /Users/iyeongbeom/YB/Repository/study/llm-agent/.venv/lib/python3.12/site-packages (from posthog>=2.4.0->chromadb!=0.5.4,!=0.5.5,<0.6.0,>=0.4.0->langchain-chroma==0.1.4) (2.2.1)\n",
      "Requirement already satisfied: distro>=1.5.0 in /Users/iyeongbeom/YB/Repository/study/llm-agent/.venv/lib/python3.12/site-packages (from posthog>=2.4.0->chromadb!=0.5.4,!=0.5.5,<0.6.0,>=0.4.0->langchain-chroma==0.1.4) (1.9.0)\n",
      "Requirement already satisfied: markdown-it-py>=2.2.0 in /Users/iyeongbeom/YB/Repository/study/llm-agent/.venv/lib/python3.12/site-packages (from rich>=10.11.0->chromadb!=0.5.4,!=0.5.5,<0.6.0,>=0.4.0->langchain-chroma==0.1.4) (4.0.0)\n",
      "Requirement already satisfied: pygments<3.0.0,>=2.13.0 in /Users/iyeongbeom/YB/Repository/study/llm-agent/.venv/lib/python3.12/site-packages (from rich>=10.11.0->chromadb!=0.5.4,!=0.5.5,<0.6.0,>=0.4.0->langchain-chroma==0.1.4) (2.19.2)\n",
      "Requirement already satisfied: mdurl~=0.1 in /Users/iyeongbeom/YB/Repository/study/llm-agent/.venv/lib/python3.12/site-packages (from markdown-it-py>=2.2.0->rich>=10.11.0->chromadb!=0.5.4,!=0.5.5,<0.6.0,>=0.4.0->langchain-chroma==0.1.4) (0.1.2)\n",
      "Requirement already satisfied: click>=8.0.0 in /Users/iyeongbeom/YB/Repository/study/llm-agent/.venv/lib/python3.12/site-packages (from typer>=0.9.0->chromadb!=0.5.4,!=0.5.5,<0.6.0,>=0.4.0->langchain-chroma==0.1.4) (8.3.0)\n",
      "Requirement already satisfied: shellingham>=1.3.0 in /Users/iyeongbeom/YB/Repository/study/llm-agent/.venv/lib/python3.12/site-packages (from typer>=0.9.0->chromadb!=0.5.4,!=0.5.5,<0.6.0,>=0.4.0->langchain-chroma==0.1.4) (1.5.4)\n",
      "Requirement already satisfied: httptools>=0.6.3 in /Users/iyeongbeom/YB/Repository/study/llm-agent/.venv/lib/python3.12/site-packages (from uvicorn[standard]>=0.18.3->chromadb!=0.5.4,!=0.5.5,<0.6.0,>=0.4.0->langchain-chroma==0.1.4) (0.6.4)\n",
      "Requirement already satisfied: python-dotenv>=0.13 in /Users/iyeongbeom/YB/Repository/study/llm-agent/.venv/lib/python3.12/site-packages (from uvicorn[standard]>=0.18.3->chromadb!=0.5.4,!=0.5.5,<0.6.0,>=0.4.0->langchain-chroma==0.1.4) (1.1.1)\n",
      "Requirement already satisfied: uvloop>=0.15.1 in /Users/iyeongbeom/YB/Repository/study/llm-agent/.venv/lib/python3.12/site-packages (from uvicorn[standard]>=0.18.3->chromadb!=0.5.4,!=0.5.5,<0.6.0,>=0.4.0->langchain-chroma==0.1.4) (0.21.0)\n",
      "Requirement already satisfied: watchfiles>=0.13 in /Users/iyeongbeom/YB/Repository/study/llm-agent/.venv/lib/python3.12/site-packages (from uvicorn[standard]>=0.18.3->chromadb!=0.5.4,!=0.5.5,<0.6.0,>=0.4.0->langchain-chroma==0.1.4) (1.1.0)\n",
      "Requirement already satisfied: websockets>=10.4 in /Users/iyeongbeom/YB/Repository/study/llm-agent/.venv/lib/python3.12/site-packages (from uvicorn[standard]>=0.18.3->chromadb!=0.5.4,!=0.5.5,<0.6.0,>=0.4.0->langchain-chroma==0.1.4) (15.0.1)\n",
      "Requirement already satisfied: humanfriendly>=9.1 in /Users/iyeongbeom/YB/Repository/study/llm-agent/.venv/lib/python3.12/site-packages (from coloredlogs->onnxruntime>=1.14.1->chromadb!=0.5.4,!=0.5.5,<0.6.0,>=0.4.0->langchain-chroma==0.1.4) (10.0)\n",
      "Requirement already satisfied: oauthlib>=3.0.0 in /Users/iyeongbeom/YB/Repository/study/llm-agent/.venv/lib/python3.12/site-packages (from requests-oauthlib->kubernetes>=28.1.0->chromadb!=0.5.4,!=0.5.5,<0.6.0,>=0.4.0->langchain-chroma==0.1.4) (3.3.1)\n",
      "Requirement already satisfied: mpmath<1.4,>=1.1.0 in /Users/iyeongbeom/YB/Repository/study/llm-agent/.venv/lib/python3.12/site-packages (from sympy->onnxruntime>=1.14.1->chromadb!=0.5.4,!=0.5.5,<0.6.0,>=0.4.0->langchain-chroma==0.1.4) (1.3.0)\n"
     ]
    }
   ],
   "source": [
    "!pip install langchain-chroma==0.1.4"
   ]
  },
  {
   "cell_type": "code",
   "execution_count": null,
   "metadata": {
    "id": "zcR05QYXpM1x"
   },
   "outputs": [],
   "source": [
    "# 필터링된 문서로 처리\n",
    "import os\n",
    "os.environ[\"ANONYMIZED_TELEMETRY\"] = \"False\"\n",
    "\n",
    "from langchain_chroma import Chroma\n",
    "from tqdm import tqdm\n",
    "import time\n",
    "\n",
    "# chroma_db 폴더가 이미 존재하면 기존 DB 로드, 없으면 새로 생성\n",
    "db_path = \"./chroma_db\"\n",
    "\n",
    "if os.path.exists(db_path):\n",
    "    print(f\"✓ 기존 DB를 로드합니다: {db_path}\")\n",
    "    db = Chroma(persist_directory=db_path, embedding_function=embeddings)\n",
    "    print(f\"총 {db._collection.count()} 개의 문서가 저장되어 있습니다.\")\n",
    "else:\n",
    "    print(\"✗ DB가 없습니다. 새로 생성합니다...\")\n",
    "    \n",
    "    # 먼저 문서 길이 확인\n",
    "    doc_lengths = [len(doc.page_content) for doc in docs]\n",
    "    print(f\"평균 문서 길이: {sum(doc_lengths)/len(doc_lengths):.0f} 문자\")\n",
    "    print(f\"최대 문서 길이: {max(doc_lengths)} 문자\")\n",
    "    print(f\"총 문서 수: {len(docs)}\")\n",
    "\n",
    "    # 너무 긴 문서 제외 (예: 50,000자 이상)\n",
    "    docs_filtered = [doc for doc in docs if len(doc.page_content) < 50000]\n",
    "    print(f\"필터링 후: {len(docs_filtered)} 문서\")\n",
    "\n",
    "    batch_size = 20\n",
    "    db = None\n",
    "\n",
    "    for i in tqdm(range(0, len(docs_filtered), batch_size)):\n",
    "        batch = docs_filtered[i:i + batch_size]\n",
    "        try:\n",
    "            if db is None:\n",
    "                db = Chroma.from_documents(batch, embeddings, persist_directory=db_path)\n",
    "            else:\n",
    "                db.add_documents(batch)\n",
    "            time.sleep(0.5)\n",
    "        except Exception as e:\n",
    "            print(f\"배치 {i} 실패: {e}\")\n",
    "    \n",
    "    print(f\"✓ DB 생성 완료: {db._collection.count()} 개의 문서 저장됨\")"
   ]
  },
  {
   "cell_type": "code",
   "execution_count": 56,
   "metadata": {
    "id": "v2yM8CxypM1x"
   },
   "outputs": [],
   "source": [
    "# Vector store 인스턴스에서 Retriever를 생성\n",
    "retriever = db.as_retriever()"
   ]
  },
  {
   "cell_type": "code",
   "execution_count": null,
   "metadata": {
    "colab": {
     "base_uri": "https://localhost:8080/"
    },
    "id": "6ZmAkR95pM1x",
    "outputId": "9d6640a7-6573-434a-d1fe-3c45fdea3fe6"
   },
   "outputs": [
    {
     "name": "stderr",
     "output_type": "stream",
     "text": [
      "Failed to send telemetry event CollectionQueryEvent: capture() takes 1 positional argument but 3 were given\n"
     ]
    },
    {
     "name": "stdout",
     "output_type": "stream",
     "text": [
      "len = 4\n",
      "metadata = {'file_name': 'aws_s3_file.mdx', 'file_path': 'src/oss/python/integrations/document_loaders/aws_s3_file.mdx', 'file_type': '.mdx', 'source': 'src/oss/python/integrations/document_loaders/aws_s3_file.mdx'}\n",
      "---\n",
      "title: AWS S3 File\n",
      "---\n",
      "\n",
      ">[Amazon Simple Storage Service (Amazon S3)](https://docs.aws.amazon.com/AmazonS3/latest/userguide/using-folders.html) is an object storage service.\n",
      "\n",
      ">[AWS S3 Buckets](https://docs.aws.amazon.com/AmazonS3/latest/userguide/UsingBucket.html)\n",
      "\n",
      "This covers how to load document objects from an `AWS S3 File` object.\n",
      "\n",
      "```python\n",
      "from langchain_community.document_loaders import S3FileLoader\n",
      "```\n",
      "\n",
      "```python\n",
      "%pip install -qU  boto3\n",
      "```\n",
      "\n",
      "```python\n",
      "loader = S3FileLoader(\"testing-hwc\", \"fake.docx\")\n",
      "```\n",
      "\n",
      "```python\n",
      "loader.load()\n",
      "```\n",
      "\n",
      "```output\n",
      "[Document(page_content='Lorem ipsum dolor sit amet.', lookup_str='', metadata={'source': 's3://testing-hwc/fake.docx'}, lookup_index=0)]\n",
      "```\n",
      "\n",
      "## Configuring the AWS Boto3 client\n"
     ]
    }
   ],
   "source": [
    "query = \"AWS의 S3에서 데이터를 읽어 들이기 위한 Document loader가 있나요?\"\n",
    "\n",
    "# 질문과 가까운, 즉 관련성이 높은 문서를 검색\n",
    "context_docs = retriever.invoke(query)\n",
    "print(f\"len = {len(context_docs)}\")\n",
    "\n",
    "print(context_docs)\n",
    "first_doc = context_docs[0]\n",
    "print(f\"metadata = {first_doc.metadata}\")\n",
    "print(first_doc.page_content)"
   ]
  },
  {
   "cell_type": "markdown",
   "metadata": {
    "id": "hqwckWjVpM1x"
   },
   "source": [
    "### LCEL을 사용한 RAG Chain 구현\n",
    "검색결과를 PromptTemplate에 context로 포함하여 LLM에 질문하고 답변을 받기"
   ]
  },
  {
   "cell_type": "code",
   "execution_count": 58,
   "metadata": {
    "id": "zOwc7h-FpM1x"
   },
   "outputs": [],
   "source": [
    "from langchain_core.prompts import ChatPromptTemplate\n",
    "from langchain_openai import ChatOpenAI\n",
    "\n",
    "prompt = ChatPromptTemplate.from_template('''\\\n",
    "다음 문맥만을 바탕으로 질문에 답변해 주세요.\n",
    "\n",
    "문맥: \"\"\"\n",
    "{context}\n",
    "\"\"\"\n",
    "\n",
    "질문: {question}\n",
    "''')\n",
    "\n",
    "model = ChatOpenAI(model_name=\"gpt-4o-mini\", temperature=0)"
   ]
  },
  {
   "cell_type": "code",
   "execution_count": 59,
   "metadata": {
    "colab": {
     "base_uri": "https://localhost:8080/"
    },
    "id": "9bIkYpPapM1x",
    "outputId": "fb3af490-fa65-4ca6-fdf2-f179a6f5269a"
   },
   "outputs": [
    {
     "name": "stdout",
     "output_type": "stream",
     "text": [
      "네, AWS S3에서 데이터를 읽어 들이기 위한 Document loader가 있습니다. Python에서는 `S3FileLoader`를 사용하여 S3 파일 객체에서 문서 객체를 로드할 수 있습니다. JavaScript에서는 `S3Loader`를 사용하여 S3 파일 객체에서 문서 객체를 로드할 수 있습니다. 두 가지 모두 S3에서 파일을 로드하는 방법을 제공합니다.\n"
     ]
    }
   ],
   "source": [
    "from langchain_core.output_parsers import StrOutputParser\n",
    "from langchain_core.runnables import RunnablePassthrough\n",
    "\n",
    "chain = (\n",
    "    {\"context\": retriever, \"question\": RunnablePassthrough()}\n",
    "    | prompt\n",
    "    | model\n",
    "    | StrOutputParser()\n",
    ")\n",
    "\n",
    "output = chain.invoke(query)\n",
    "print(output)"
   ]
  },
  {
   "cell_type": "markdown",
   "metadata": {},
   "source": [
    "### 임베딩 시각화\n",
    "벡터 DB에 저장된 문서들의 임베딩을 2차원으로 축소하여 시각화합니다."
   ]
  },
  {
   "cell_type": "code",
   "execution_count": 76,
   "metadata": {},
   "outputs": [
    {
     "name": "stdout",
     "output_type": "stream",
     "text": [
      "Requirement already satisfied: plotly==5.22.0 in /Users/iyeongbeom/YB/Repository/study/llm-agent/.venv/lib/python3.12/site-packages (5.22.0)\n",
      "Requirement already satisfied: pandas==2.1.4 in /Users/iyeongbeom/YB/Repository/study/llm-agent/.venv/lib/python3.12/site-packages (2.1.4)\n",
      "Requirement already satisfied: umap-learn==0.5.7 in /Users/iyeongbeom/YB/Repository/study/llm-agent/.venv/lib/python3.12/site-packages (0.5.7)\n",
      "Requirement already satisfied: nbformat>=4.2.0 in /Users/iyeongbeom/YB/Repository/study/llm-agent/.venv/lib/python3.12/site-packages (5.10.4)\n",
      "Requirement already satisfied: tenacity>=6.2.0 in /Users/iyeongbeom/YB/Repository/study/llm-agent/.venv/lib/python3.12/site-packages (from plotly==5.22.0) (8.5.0)\n",
      "Requirement already satisfied: packaging in /Users/iyeongbeom/YB/Repository/study/llm-agent/.venv/lib/python3.12/site-packages (from plotly==5.22.0) (24.2)\n",
      "Requirement already satisfied: numpy<2,>=1.26.0 in /Users/iyeongbeom/YB/Repository/study/llm-agent/.venv/lib/python3.12/site-packages (from pandas==2.1.4) (1.26.4)\n",
      "Requirement already satisfied: python-dateutil>=2.8.2 in /Users/iyeongbeom/YB/Repository/study/llm-agent/.venv/lib/python3.12/site-packages (from pandas==2.1.4) (2.9.0.post0)\n",
      "Requirement already satisfied: pytz>=2020.1 in /Users/iyeongbeom/YB/Repository/study/llm-agent/.venv/lib/python3.12/site-packages (from pandas==2.1.4) (2025.2)\n",
      "Requirement already satisfied: tzdata>=2022.1 in /Users/iyeongbeom/YB/Repository/study/llm-agent/.venv/lib/python3.12/site-packages (from pandas==2.1.4) (2025.2)\n",
      "Requirement already satisfied: scipy>=1.3.1 in /Users/iyeongbeom/YB/Repository/study/llm-agent/.venv/lib/python3.12/site-packages (from umap-learn==0.5.7) (1.16.2)\n",
      "Requirement already satisfied: scikit-learn>=0.22 in /Users/iyeongbeom/YB/Repository/study/llm-agent/.venv/lib/python3.12/site-packages (from umap-learn==0.5.7) (1.7.2)\n",
      "Requirement already satisfied: numba>=0.51.2 in /Users/iyeongbeom/YB/Repository/study/llm-agent/.venv/lib/python3.12/site-packages (from umap-learn==0.5.7) (0.62.1)\n",
      "Requirement already satisfied: pynndescent>=0.5 in /Users/iyeongbeom/YB/Repository/study/llm-agent/.venv/lib/python3.12/site-packages (from umap-learn==0.5.7) (0.5.13)\n",
      "Requirement already satisfied: tqdm in /Users/iyeongbeom/YB/Repository/study/llm-agent/.venv/lib/python3.12/site-packages (from umap-learn==0.5.7) (4.67.1)\n",
      "Requirement already satisfied: fastjsonschema>=2.15 in /Users/iyeongbeom/YB/Repository/study/llm-agent/.venv/lib/python3.12/site-packages (from nbformat>=4.2.0) (2.21.2)\n",
      "Requirement already satisfied: jsonschema>=2.6 in /Users/iyeongbeom/YB/Repository/study/llm-agent/.venv/lib/python3.12/site-packages (from nbformat>=4.2.0) (4.25.1)\n",
      "Requirement already satisfied: jupyter-core!=5.0.*,>=4.12 in /Users/iyeongbeom/YB/Repository/study/llm-agent/.venv/lib/python3.12/site-packages (from nbformat>=4.2.0) (5.8.1)\n",
      "Requirement already satisfied: traitlets>=5.1 in /Users/iyeongbeom/YB/Repository/study/llm-agent/.venv/lib/python3.12/site-packages (from nbformat>=4.2.0) (5.14.3)\n",
      "Requirement already satisfied: attrs>=22.2.0 in /Users/iyeongbeom/YB/Repository/study/llm-agent/.venv/lib/python3.12/site-packages (from jsonschema>=2.6->nbformat>=4.2.0) (25.4.0)\n",
      "Requirement already satisfied: jsonschema-specifications>=2023.03.6 in /Users/iyeongbeom/YB/Repository/study/llm-agent/.venv/lib/python3.12/site-packages (from jsonschema>=2.6->nbformat>=4.2.0) (2025.9.1)\n",
      "Requirement already satisfied: referencing>=0.28.4 in /Users/iyeongbeom/YB/Repository/study/llm-agent/.venv/lib/python3.12/site-packages (from jsonschema>=2.6->nbformat>=4.2.0) (0.36.2)\n",
      "Requirement already satisfied: rpds-py>=0.7.1 in /Users/iyeongbeom/YB/Repository/study/llm-agent/.venv/lib/python3.12/site-packages (from jsonschema>=2.6->nbformat>=4.2.0) (0.27.1)\n",
      "Requirement already satisfied: platformdirs>=2.5 in /Users/iyeongbeom/YB/Repository/study/llm-agent/.venv/lib/python3.12/site-packages (from jupyter-core!=5.0.*,>=4.12->nbformat>=4.2.0) (4.4.0)\n",
      "Requirement already satisfied: llvmlite<0.46,>=0.45.0dev0 in /Users/iyeongbeom/YB/Repository/study/llm-agent/.venv/lib/python3.12/site-packages (from numba>=0.51.2->umap-learn==0.5.7) (0.45.1)\n",
      "Requirement already satisfied: joblib>=0.11 in /Users/iyeongbeom/YB/Repository/study/llm-agent/.venv/lib/python3.12/site-packages (from pynndescent>=0.5->umap-learn==0.5.7) (1.5.2)\n",
      "Requirement already satisfied: six>=1.5 in /Users/iyeongbeom/YB/Repository/study/llm-agent/.venv/lib/python3.12/site-packages (from python-dateutil>=2.8.2->pandas==2.1.4) (1.17.0)\n",
      "Requirement already satisfied: typing-extensions>=4.4.0 in /Users/iyeongbeom/YB/Repository/study/llm-agent/.venv/lib/python3.12/site-packages (from referencing>=0.28.4->jsonschema>=2.6->nbformat>=4.2.0) (4.15.0)\n",
      "Requirement already satisfied: threadpoolctl>=3.1.0 in /Users/iyeongbeom/YB/Repository/study/llm-agent/.venv/lib/python3.12/site-packages (from scikit-learn>=0.22->umap-learn==0.5.7) (3.6.0)\n"
     ]
    }
   ],
   "source": [
    "!pip install plotly==5.22.0 pandas==2.1.4 umap-learn==0.5.7 'nbformat>=4.2.0'"
   ]
  },
  {
   "cell_type": "code",
   "execution_count": null,
   "metadata": {},
   "outputs": [],
   "source": [
    "import numpy as np\n",
    "import plotly.graph_objects as go\n",
    "import pandas as pd\n",
    "import umap\n",
    "import json\n",
    "\n",
    "# 1. DB에서 모든 임베딩 가져오기\n",
    "collection = db._collection\n",
    "results = collection.get(include=['embeddings', 'documents', 'metadatas'])\n",
    "\n",
    "embeddings_array = np.array(results['embeddings'])\n",
    "documents = results['documents']\n",
    "\n",
    "print(f\"임베딩 개수: {len(embeddings_array)}\")\n",
    "print(f\"임베딩 차원: {embeddings_array.shape[1]}\")\n",
    "\n",
    "# 2. UMAP으로 차원 축소 (고차원 -> 2D)\n",
    "print(\"차원 축소 중...\")\n",
    "reducer = umap.UMAP(n_components=2, random_state=42, n_neighbors=15, min_dist=0.1)\n",
    "embeddings_2d = reducer.fit_transform(embeddings_array)\n",
    "\n",
    "print(\"차원 축소 완료!\")\n",
    "\n",
    "# 3. 모든 데이터를 Python 기본 타입의 리스트로 변환 (numpy 완전 제거)\n",
    "x_coords = embeddings_2d[:, 0].tolist()\n",
    "y_coords = embeddings_2d[:, 1].tolist()\n",
    "texts = [str(doc[:200] + \"...\" if len(doc) > 200 else doc) for doc in documents]\n",
    "sources = [str(meta.get('source', 'unknown').split('/')[-1]) for meta in results['metadatas']]\n",
    "\n",
    "# 4. 색상 매핑 생성\n",
    "unique_sources = sorted(list(set(sources)))\n",
    "color_map = {src: idx for idx, src in enumerate(unique_sources)}\n",
    "colors = [color_map[src] for src in sources]\n",
    "\n",
    "print(f\"데이터 타입 확인:\")\n",
    "print(f\"x_coords type: {type(x_coords)}, element type: {type(x_coords[0])}\")\n",
    "print(f\"y_coords type: {type(y_coords)}, element type: {type(y_coords[0])}\")\n",
    "print(f\"colors type: {type(colors)}, element type: {type(colors[0])}\")\n",
    "\n",
    "# 5. plotly graph_objects로 직접 생성\n",
    "fig = go.Figure()\n",
    "\n",
    "fig.add_trace(go.Scatter(\n",
    "    x=x_coords,\n",
    "    y=y_coords,\n",
    "    mode='markers',\n",
    "    marker=dict(\n",
    "        size=5,\n",
    "        color=colors,\n",
    "        colorscale='Viridis',\n",
    "        showscale=True,\n",
    "        opacity=0.6\n",
    "    ),\n",
    "    text=texts,\n",
    "    hovertemplate='<b>%{text}</b><extra></extra>'\n",
    "))\n",
    "\n",
    "fig.update_layout(\n",
    "    title='LangChain Docs - 2D Document Embeddings',\n",
    "    width=1200,\n",
    "    height=800,\n",
    "    xaxis_title='UMAP 1',\n",
    "    yaxis_title='UMAP 2',\n",
    "    hovermode='closest'\n",
    ")\n",
    "\n",
    "# 디버깅: figure를 dict로 변환해서 numpy 배열이 있는지 확인\n",
    "try:\n",
    "    fig_dict = fig.to_dict()\n",
    "    # JSON 직렬화 테스트\n",
    "    json.dumps(fig_dict)\n",
    "    print(\"✓ Figure is JSON serializable\")\n",
    "except TypeError as e:\n",
    "    print(f\"✗ Figure contains non-serializable data: {e}\")\n",
    "\n",
    "fig.show()\n",
    "\n",
    "print(f\"\\n2D 시각화 완료! 총 {len(x_coords)} 개의 문서가 표시되었습니다.\")"
   ]
  },
  {
   "cell_type": "markdown",
   "metadata": {},
   "source": [
    "#### 3D 시각화\n",
    "마우스로 회전하며 3차원 공간에서 문서 클러스터를 탐색할 수 있습니다."
   ]
  },
  {
   "cell_type": "code",
   "execution_count": null,
   "metadata": {},
   "outputs": [],
   "source": [
    "import numpy as np\n",
    "import plotly.graph_objects as go\n",
    "import pandas as pd\n",
    "import umap\n",
    "\n",
    "# 1. DB에서 모든 임베딩 가져오기 (이미 있다면 재사용)\n",
    "if 'embeddings_array' not in locals():\n",
    "    collection = db._collection\n",
    "    results = collection.get(include=['embeddings', 'documents', 'metadatas'])\n",
    "    embeddings_array = np.array(results['embeddings'])\n",
    "    documents = results['documents']\n",
    "\n",
    "print(f\"임베딩 개수: {len(embeddings_array)}\")\n",
    "print(f\"임베딩 차원: {embeddings_array.shape[1]}\")\n",
    "\n",
    "# 2. UMAP으로 3D 차원 축소\n",
    "print(\"3D 차원 축소 중...\")\n",
    "reducer_3d = umap.UMAP(n_components=3, random_state=42, n_neighbors=15, min_dist=0.1)\n",
    "embeddings_3d = reducer_3d.fit_transform(embeddings_array)\n",
    "\n",
    "print(\"3D 차원 축소 완료!\")\n",
    "\n",
    "# 3. DataFrame 생성 (모든 데이터를 Python 기본 타입으로 변환)\n",
    "df_3d = pd.DataFrame({\n",
    "    'x': [float(x) for x in embeddings_3d[:, 0]],\n",
    "    'y': [float(y) for y in embeddings_3d[:, 1]],\n",
    "    'z': [float(z) for z in embeddings_3d[:, 2]],\n",
    "    'text': [str(doc[:200] + \"...\" if len(doc) > 200 else doc) for doc in documents],\n",
    "    'source': [str(meta.get('source', 'unknown').split('/')[-1]) for meta in results['metadatas']]\n",
    "})\n",
    "\n",
    "# 4. 3D 인터랙티브 플롯\n",
    "fig = go.Figure(data=[go.Scatter3d(\n",
    "    x=df_3d['x'].tolist(),\n",
    "    y=df_3d['y'].tolist(),\n",
    "    z=df_3d['z'].tolist(),\n",
    "    mode='markers',\n",
    "    marker=dict(\n",
    "        size=3,\n",
    "        color=df_3d['source'].astype('category').cat.codes.tolist(),\n",
    "        colorscale='Viridis',\n",
    "        opacity=0.6,\n",
    "        line=dict(width=0)\n",
    "    ),\n",
    "    text=df_3d['text'].tolist(),\n",
    "    hovertemplate='<b>%{text}</b><br>x: %{x:.2f}<br>y: %{y:.2f}<br>z: %{z:.2f}<extra></extra>',\n",
    "    name='Documents'\n",
    ")])\n",
    "\n",
    "fig.update_layout(\n",
    "    title='LangChain Docs - 3D Document Embeddings (마우스로 회전 가능)',\n",
    "    scene=dict(\n",
    "        xaxis_title='UMAP 1',\n",
    "        yaxis_title='UMAP 2',\n",
    "        zaxis_title='UMAP 3',\n",
    "        camera=dict(\n",
    "            eye=dict(x=1.5, y=1.5, z=1.5)\n",
    "        )\n",
    "    ),\n",
    "    width=1200,\n",
    "    height=800,\n",
    "    hovermode='closest'\n",
    ")\n",
    "\n",
    "fig.show()\n",
    "\n",
    "print(f\"\\n3D 시각화 완료! 총 {len(df_3d)} 개의 문서가 표시되었습니다.\")\n",
    "print(\"💡 팁: 마우스로 드래그하여 회전, 스크롤로 확대/축소할 수 있습니다!\")"
   ]
  },
  {
   "cell_type": "markdown",
   "metadata": {},
   "source": [
    "### TensorFlow Projector 데이터 내보내기\n",
    "질문의 임베딩을 함께 포함시켜 TensorFlow Projector(https://projector.tensorflow.org/) 에서 질문과 가까운 문서들을 시각적으로 찾을 수 있습니다."
   ]
  },
  {
   "cell_type": "code",
   "execution_count": null,
   "metadata": {},
   "outputs": [],
   "source": [
    "import csv\n",
    "import os\n",
    "import shutil\n",
    "\n",
    "# 출력 디렉토리 재생성 (기존 파일 삭제)\n",
    "output_dir = \"./projector_data\"\n",
    "if os.path.exists(output_dir):\n",
    "    shutil.rmtree(output_dir)\n",
    "    print(f\"✓ 기존 디렉토리 삭제: {output_dir}\")\n",
    "os.makedirs(output_dir, exist_ok=True)\n",
    "print(f\"✓ 새 디렉토리 생성: {output_dir}\")\n",
    "\n",
    "# 1. DB에서 임베딩 데이터 가져오기\n",
    "collection = db._collection\n",
    "results = collection.get(include=['embeddings', 'documents', 'metadatas'])\n",
    "\n",
    "embeddings_array = results['embeddings']\n",
    "documents = results['documents']\n",
    "metadatas = results['metadatas']\n",
    "\n",
    "print(f\"\\n문서 임베딩 개수: {len(embeddings_array)}\")\n",
    "print(f\"임베딩 차원: {len(embeddings_array[0])}\")\n",
    "\n",
    "# 2. 질문들의 임베딩 생성\n",
    "queries = [\n",
    "    \"AWS의 S3에서 데이터를 읽어 들이기 위한 Document loader가 있나요?\",\n",
    "    \"LangChain에서 PDF 파일을 로드하는 방법\",\n",
    "    \"Vector store는 어떻게 사용하나요?\",\n",
    "]\n",
    "\n",
    "print(f\"\\n질문 임베딩 생성 중...\")\n",
    "query_embeddings = [embeddings.embed_query(q) for q in queries]\n",
    "print(f\"질문 임베딩 개수: {len(query_embeddings)}\")\n",
    "\n",
    "# 3. 문서 임베딩 + 질문 임베딩을 합쳐서 vectors.tsv로 저장\n",
    "vectors_path = os.path.join(output_dir, \"vectors.tsv\")\n",
    "with open(vectors_path, 'w', newline='', encoding='utf-8') as f:\n",
    "    writer = csv.writer(f, delimiter='\\t')\n",
    "    \n",
    "    # 문서 임베딩 작성\n",
    "    for embedding in embeddings_array:\n",
    "        writer.writerow(embedding)\n",
    "    \n",
    "    # 질문 임베딩 작성\n",
    "    for embedding in query_embeddings:\n",
    "        writer.writerow(embedding)\n",
    "\n",
    "print(f\"\\n✓ 벡터 데이터 저장: {vectors_path}\")\n",
    "print(f\"  파일 크기: {os.path.getsize(vectors_path) / 1024 / 1024:.1f} MB\")\n",
    "\n",
    "# 4. 메타데이터를 TSV로 저장 (metadata.tsv)\n",
    "metadata_path = os.path.join(output_dir, \"metadata.tsv\")\n",
    "with open(metadata_path, 'w', newline='', encoding='utf-8') as f:\n",
    "    writer = csv.writer(f, delimiter='\\t')\n",
    "    \n",
    "    # 헤더 작성 - Label과 Content만!\n",
    "    writer.writerow(['Label', 'Content'])\n",
    "    \n",
    "    # 문서 메타데이터 작성\n",
    "    for doc, meta in zip(documents, metadatas):\n",
    "        preview = doc[:150].replace('\\n', ' ').replace('\\t', ' ')\n",
    "        writer.writerow(['Document', preview])\n",
    "    \n",
    "    # 질문 메타데이터 작성\n",
    "    for i, query in enumerate(queries, 1):\n",
    "        query_text = query.replace('\\n', ' ').replace('\\t', ' ')\n",
    "        writer.writerow([f'🔍QUERY_{i}', query_text])\n",
    "\n",
    "print(f\"✓ 메타데이터 저장: {metadata_path}\")\n",
    "print(f\"  파일 크기: {os.path.getsize(metadata_path) / 1024:.1f} KB\")\n",
    "\n",
    "# 5. 검증: 메타데이터 파일 미리보기\n",
    "print(f\"\\n✅ 메타데이터 파일 미리보기 (처음 5줄):\")\n",
    "with open(metadata_path, 'r', encoding='utf-8') as f:\n",
    "    for i, line in enumerate(f):\n",
    "        if i >= 5:\n",
    "            break\n",
    "        print(f\"  {line.rstrip()}\")\n",
    "\n",
    "# 6. 통계 출력\n",
    "print(f\"\\n📊 생성 완료!\")\n",
    "print(f\"   - 문서: {len(documents)} 개 (Label: 'Document')\")\n",
    "print(f\"   - 질문: {len(queries)} 개 (Label: '🔍QUERY_1', '🔍QUERY_2', '🔍QUERY_3')\")\n",
    "print(f\"   - 총 벡터: {len(embeddings_array) + len(query_embeddings)} 개\")\n",
    "\n",
    "print(f\"\\n📊 TensorFlow Projector 사용 방법:\")\n",
    "print(f\"1. https://projector.tensorflow.org/ 접속\")\n",
    "print(f\"2. 좌측 상단 'Load' 버튼 클릭\")\n",
    "print(f\"3. 파일 업로드:\")\n",
    "print(f\"   - vectors.tsv: {vectors_path}\")\n",
    "print(f\"   - metadata.tsv: {metadata_path}\")\n",
    "print(f\"4. 'Color by' → 'Label' 선택\")\n",
    "print(f\"5. 'T-SNE' 또는 'UMAP' 실행 (Iterations: 1000)\")\n",
    "print(f\"6. 🔍QUERY 포인트 근처가 관련 문서\")\n",
    "print(f\"\\n💡 팁: 검색창에 '🔍' 입력하면 질문만 하이라이트\")"
   ]
  }
 ],
 "metadata": {
  "colab": {
   "provenance": []
  },
  "kernelspec": {
   "display_name": ".venv",
   "language": "python",
   "name": "python3"
  },
  "language_info": {
   "codemirror_mode": {
    "name": "ipython",
    "version": 3
   },
   "file_extension": ".py",
   "mimetype": "text/x-python",
   "name": "python",
   "nbconvert_exporter": "python",
   "pygments_lexer": "ipython3",
   "version": "3.12.4"
  }
 },
 "nbformat": 4,
 "nbformat_minor": 0
}
